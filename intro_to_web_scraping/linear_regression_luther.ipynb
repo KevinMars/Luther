{
 "metadata": {
  "name": "",
  "signature": "sha256:e25e6ed6bb2cfaa74aa4cb9ff70c9c934e9cf46ca0a7bdf6256b3f28234a667f"
 },
 "nbformat": 3,
 "nbformat_minor": 0,
 "worksheets": [
  {
   "cells": [
    {
     "cell_type": "code",
     "collapsed": false,
     "input": [
      "import plotters\n",
      "import pandas as pd\n",
      "import numpy as np\n",
      "import matplotlib.pylab as lab\n",
      "import matplotlib.pyplot as plt\n",
      "import statsmodels.formula.api as sm\n",
      "from sklearn.metrics import mean_squared_error\n",
      "\n",
      "df = pd.DataFrame.from_csv('Luther_movies_all_time.csv', index_col=False)\n",
      "df = df.drop(['Unnamed: 8','Unnamed: 9'], axis=1)\n",
      "len (df)"
     ],
     "language": "python",
     "metadata": {},
     "outputs": [
      {
       "metadata": {},
       "output_type": "pyout",
       "prompt_number": 15,
       "text": [
        "7618"
       ]
      }
     ],
     "prompt_number": 15
    },
    {
     "cell_type": "code",
     "collapsed": false,
     "input": [
      "movies_with_budget = df.dropna(subset=['budget'])  \n",
      "len (movies_with_budget)"
     ],
     "language": "python",
     "metadata": {},
     "outputs": [
      {
       "metadata": {},
       "output_type": "pyout",
       "prompt_number": 2,
       "text": [
        "2552"
       ]
      }
     ],
     "prompt_number": 2
    },
    {
     "cell_type": "code",
     "collapsed": false,
     "input": [
      "movies_with_gross = movies_with_budget.dropna(subset=['director'])\n",
      "len (movies_with_gross)"
     ],
     "language": "python",
     "metadata": {},
     "outputs": [
      {
       "metadata": {},
       "output_type": "pyout",
       "prompt_number": 3,
       "text": [
        "1839"
       ]
      }
     ],
     "prompt_number": 3
    },
    {
     "cell_type": "code",
     "collapsed": false,
     "input": [
      "movies_with_opening = movies_with_gross.dropna(subset=['openingweekendgross'])\n",
      "len (movies_with_opening)"
     ],
     "language": "python",
     "metadata": {},
     "outputs": [
      {
       "metadata": {},
       "output_type": "pyout",
       "prompt_number": 4,
       "text": [
        "1809"
       ]
      }
     ],
     "prompt_number": 4
    },
    {
     "cell_type": "code",
     "collapsed": false,
     "input": [
      "movies_with_opening['domestic_without_opening'] = movies_with_opening.domestic_total_gross - movies_with_opening.openingweekendgross\n",
      "movies_with_opening['opening_div_budget'] = movies_with_opening.openingweekendgross/movies_with_opening.budget\n",
      "movies_with_opening['total_div_budget'] = movies_with_opening.domestic_total_gross/movies_with_opening.budget\n",
      "movies_with_opening['opening_div_total'] = movies_with_opening.openingweekendgross/movies_with_opening.domestic_total_gross\n",
      "\n",
      "movies_with_opening['ones'] = 1.0"
     ],
     "language": "python",
     "metadata": {},
     "outputs": [],
     "prompt_number": 5
    },
    {
     "cell_type": "code",
     "collapsed": false,
     "input": [
      "movies_final = movies_with_opening.drop([497])\n",
      "# movies_final = movies_with_opening.add([1])\n",
      "movies_final.head()"
     ],
     "language": "python",
     "metadata": {},
     "outputs": [
      {
       "html": [
        "<div style=\"max-height:1000px;max-width:1500px;overflow:auto;\">\n",
        "<table border=\"1\" class=\"dataframe\">\n",
        "  <thead>\n",
        "    <tr style=\"text-align: right;\">\n",
        "      <th></th>\n",
        "      <th>director</th>\n",
        "      <th>rating</th>\n",
        "      <th>openingweekendgross</th>\n",
        "      <th>movie_title</th>\n",
        "      <th>domestic_total_gross</th>\n",
        "      <th>release_date</th>\n",
        "      <th>runtime</th>\n",
        "      <th>budget</th>\n",
        "      <th>domestic_without_opening</th>\n",
        "      <th>opening_div_budget</th>\n",
        "      <th>total_div_budget</th>\n",
        "      <th>opening_div_total</th>\n",
        "      <th>ones</th>\n",
        "    </tr>\n",
        "  </thead>\n",
        "  <tbody>\n",
        "    <tr>\n",
        "      <th>1</th>\n",
        "      <td>     James Cameron</td>\n",
        "      <td> PG-13</td>\n",
        "      <td>  28638131</td>\n",
        "      <td>                                   Titanic</td>\n",
        "      <td> 600788188</td>\n",
        "      <td> 12/19/97 0:00</td>\n",
        "      <td> 194</td>\n",
        "      <td> 200000000</td>\n",
        "      <td> 572150057</td>\n",
        "      <td> 0.143191</td>\n",
        "      <td>  3.003941</td>\n",
        "      <td> 0.047668</td>\n",
        "      <td> 1</td>\n",
        "    </tr>\n",
        "    <tr>\n",
        "      <th>2</th>\n",
        "      <td>       Joss Whedon</td>\n",
        "      <td> PG-13</td>\n",
        "      <td> 207438708</td>\n",
        "      <td>                     Marvel's The Avengers</td>\n",
        "      <td> 623357910</td>\n",
        "      <td>   5/4/12 0:00</td>\n",
        "      <td> 142</td>\n",
        "      <td> 220000000</td>\n",
        "      <td> 415919202</td>\n",
        "      <td> 0.942903</td>\n",
        "      <td>  2.833445</td>\n",
        "      <td> 0.332776</td>\n",
        "      <td> 1</td>\n",
        "    </tr>\n",
        "    <tr>\n",
        "      <th>3</th>\n",
        "      <td> Christopher Nolan</td>\n",
        "      <td> PG-13</td>\n",
        "      <td> 158411483</td>\n",
        "      <td>                           The Dark Knight</td>\n",
        "      <td> 533345358</td>\n",
        "      <td>  7/18/08 0:00</td>\n",
        "      <td> 150</td>\n",
        "      <td> 185000000</td>\n",
        "      <td> 374933875</td>\n",
        "      <td> 0.856278</td>\n",
        "      <td>  2.882948</td>\n",
        "      <td> 0.297015</td>\n",
        "      <td> 1</td>\n",
        "    </tr>\n",
        "    <tr>\n",
        "      <th>4</th>\n",
        "      <td>      George Lucas</td>\n",
        "      <td>    PG</td>\n",
        "      <td>  64820970</td>\n",
        "      <td> Star Wars: Episode I - The Phantom Menace</td>\n",
        "      <td> 431088295</td>\n",
        "      <td>  5/19/99 0:00</td>\n",
        "      <td> 133</td>\n",
        "      <td> 115000000</td>\n",
        "      <td> 366267325</td>\n",
        "      <td> 0.563661</td>\n",
        "      <td>  3.748594</td>\n",
        "      <td> 0.150366</td>\n",
        "      <td> 1</td>\n",
        "    </tr>\n",
        "    <tr>\n",
        "      <th>5</th>\n",
        "      <td>      George Lucas</td>\n",
        "      <td>    PG</td>\n",
        "      <td>   6806951</td>\n",
        "      <td>                                 Star Wars</td>\n",
        "      <td> 307263857</td>\n",
        "      <td>  5/25/77 0:00</td>\n",
        "      <td> 121</td>\n",
        "      <td>  11000000</td>\n",
        "      <td> 300456906</td>\n",
        "      <td> 0.618814</td>\n",
        "      <td> 27.933078</td>\n",
        "      <td> 0.022153</td>\n",
        "      <td> 1</td>\n",
        "    </tr>\n",
        "  </tbody>\n",
        "</table>\n",
        "</div>"
       ],
       "metadata": {},
       "output_type": "pyout",
       "prompt_number": 6,
       "text": [
        "            director rating  openingweekendgross  \\\n",
        "1      James Cameron  PG-13             28638131   \n",
        "2        Joss Whedon  PG-13            207438708   \n",
        "3  Christopher Nolan  PG-13            158411483   \n",
        "4       George Lucas     PG             64820970   \n",
        "5       George Lucas     PG              6806951   \n",
        "\n",
        "                                 movie_title  domestic_total_gross  \\\n",
        "1                                    Titanic             600788188   \n",
        "2                      Marvel's The Avengers             623357910   \n",
        "3                            The Dark Knight             533345358   \n",
        "4  Star Wars: Episode I - The Phantom Menace             431088295   \n",
        "5                                  Star Wars             307263857   \n",
        "\n",
        "    release_date runtime     budget  domestic_without_opening  \\\n",
        "1  12/19/97 0:00     194  200000000                 572150057   \n",
        "2    5/4/12 0:00     142  220000000                 415919202   \n",
        "3   7/18/08 0:00     150  185000000                 374933875   \n",
        "4   5/19/99 0:00     133  115000000                 366267325   \n",
        "5   5/25/77 0:00     121   11000000                 300456906   \n",
        "\n",
        "   opening_div_budget  total_div_budget  opening_div_total  ones  \n",
        "1            0.143191          3.003941           0.047668     1  \n",
        "2            0.942903          2.833445           0.332776     1  \n",
        "3            0.856278          2.882948           0.297015     1  \n",
        "4            0.563661          3.748594           0.150366     1  \n",
        "5            0.618814         27.933078           0.022153     1  "
       ]
      }
     ],
     "prompt_number": 6
    },
    {
     "cell_type": "code",
     "collapsed": false,
     "input": [
      "movies_final['domestic_without_opening_log'] = np.log(movies_final.domestic_without_opening)\n",
      "movies_final['openingweekendgross_log'] = np.log(movies_final.openingweekendgross)\n",
      "movies_final['budget_log'] = np.log(movies_final.budget)\n",
      "movies_final['domestic_total_gross_log'] = np.log(movies_final.domestic_total_gross)"
     ],
     "language": "python",
     "metadata": {},
     "outputs": [],
     "prompt_number": 7
    },
    {
     "cell_type": "code",
     "collapsed": false,
     "input": [
      "movies_small_budget = movies_final[movies_final.budget > 490000]\n",
      "movies_small_budget = movies_small_budget[movies_small_budget.budget < 19000000]\n",
      "print len (movies_small_budget)"
     ],
     "language": "python",
     "metadata": {},
     "outputs": [
      {
       "output_type": "stream",
       "stream": "stdout",
       "text": [
        "409\n"
       ]
      }
     ],
     "prompt_number": 8
    },
    {
     "cell_type": "code",
     "collapsed": false,
     "input": [
      "movies_big_budget = movies_final[movies_final.budget > 75000000]\n",
      "movies_big_budget = movies_big_budget[movies_big_budget.budget < 300000000]\n",
      "print len (movies_big_budget)"
     ],
     "language": "python",
     "metadata": {},
     "outputs": [
      {
       "output_type": "stream",
       "stream": "stdout",
       "text": [
        "404\n"
       ]
      }
     ],
     "prompt_number": 9
    },
    {
     "cell_type": "code",
     "collapsed": false,
     "input": [
      "# movies_medium_budget = movies_final[movies_final.budget > 49000000]\n",
      "# movies_medium_budget = movies_medium_budget[movies_medium_budget.budget < 100000001]\n",
      "# print len (movies_medium_budget)"
     ],
     "language": "python",
     "metadata": {},
     "outputs": [],
     "prompt_number": 10
    },
    {
     "cell_type": "code",
     "collapsed": false,
     "input": [
      "print movies_big_budget.domestic_total_gross.mean()\n",
      "print movies_big_budget.budget.mean()\n",
      "print (movies_big_budget.domestic_total_gross-movies_big_budget.budget).mean()\n",
      "print movies_big_budget.opening_div_total.mean()\n",
      "print movies_big_budget.opening_div_budget.mean()\n",
      "print movies_big_budget.total_div_budget.mean()\n",
      "\n",
      "print ((movies_big_budget.domestic_total_gross-movies_big_budget.budget)/movies_big_budget.budget).mean()"
     ],
     "language": "python",
     "metadata": {},
     "outputs": [
      {
       "output_type": "stream",
       "stream": "stdout",
       "text": [
        "142076595.708\n",
        "121721534.653\n",
        "20355061.0545\n",
        "0.305029962545\n",
        "0.33899364643\n",
        "1.17596288382\n",
        "0.175962883818\n"
       ]
      }
     ],
     "prompt_number": 11
    },
    {
     "cell_type": "code",
     "collapsed": false,
     "input": [
      "print movies_small_budget.domestic_total_gross.mean()\n",
      "print movies_small_budget.budget.mean()\n",
      "print (movies_small_budget.domestic_total_gross-movies_small_budget.budget).mean()\n",
      "print movies_small_budget.opening_div_total.mean()\n",
      "print movies_small_budget.opening_div_budget.mean()\n",
      "print movies_small_budget.total_div_budget.mean()\n",
      "print ((movies_small_budget.domestic_total_gross-movies_small_budget.budget)/movies_small_budget.budget).mean()"
     ],
     "language": "python",
     "metadata": {},
     "outputs": [
      {
       "output_type": "stream",
       "stream": "stdout",
       "text": [
        "33306633.0465\n",
        "10397921.7604\n",
        "22908711.2861\n",
        "0.245249148931\n",
        "1.11164443805\n",
        "4.39324047376\n",
        "3.39324047376\n"
       ]
      }
     ],
     "prompt_number": 12
    },
    {
     "cell_type": "code",
     "collapsed": false,
     "input": [],
     "language": "python",
     "metadata": {},
     "outputs": [],
     "prompt_number": 12
    },
    {
     "cell_type": "code",
     "collapsed": false,
     "input": [],
     "language": "python",
     "metadata": {},
     "outputs": [],
     "prompt_number": 15
    },
    {
     "cell_type": "code",
     "collapsed": false,
     "input": [],
     "language": "python",
     "metadata": {},
     "outputs": [],
     "prompt_number": 15
    },
    {
     "cell_type": "code",
     "collapsed": false,
     "input": [
      "#effect of budget on total gross for all movies\n",
      "\n",
      "X_budget = movies_final[['budget_log','ones']]\n",
      "Y_budget = movies_final.domestic_total_gross_log\n",
      "linmodel_budget = sm.OLS(Y_budget, X_budget).fit()\n",
      "linmodel_budget.summary()"
     ],
     "language": "python",
     "metadata": {},
     "outputs": [
      {
       "html": [
        "<table class=\"simpletable\">\n",
        "<caption>OLS Regression Results</caption>\n",
        "<tr>\n",
        "  <th>Dep. Variable:</th>    <td>domestic_total_gross_log</td> <th>  R-squared:         </th> <td>   0.303</td> \n",
        "</tr>\n",
        "<tr>\n",
        "  <th>Model:</th>                       <td>OLS</td>           <th>  Adj. R-squared:    </th> <td>   0.302</td> \n",
        "</tr>\n",
        "<tr>\n",
        "  <th>Method:</th>                 <td>Least Squares</td>      <th>  F-statistic:       </th> <td>   783.8</td> \n",
        "</tr>\n",
        "<tr>\n",
        "  <th>Date:</th>                 <td>Mon, 29 Sep 2014</td>     <th>  Prob (F-statistic):</th> <td>1.46e-143</td>\n",
        "</tr>\n",
        "<tr>\n",
        "  <th>Time:</th>                     <td>15:37:28</td>         <th>  Log-Likelihood:    </th> <td> -2672.9</td> \n",
        "</tr>\n",
        "<tr>\n",
        "  <th>No. Observations:</th>          <td>  1808</td>          <th>  AIC:               </th> <td>   5350.</td> \n",
        "</tr>\n",
        "<tr>\n",
        "  <th>Df Residuals:</th>              <td>  1806</td>          <th>  BIC:               </th> <td>   5361.</td> \n",
        "</tr>\n",
        "<tr>\n",
        "  <th>Df Model:</th>                  <td>     1</td>          <th>                     </th>     <td> </td>    \n",
        "</tr>\n",
        "</table>\n",
        "<table class=\"simpletable\">\n",
        "<tr>\n",
        "       <td></td>         <th>coef</th>     <th>std err</th>      <th>t</th>      <th>P>|t|</th> <th>[95.0% Conf. Int.]</th> \n",
        "</tr>\n",
        "<tr>\n",
        "  <th>budget_log</th> <td>    0.6392</td> <td>    0.023</td> <td>   27.997</td> <td> 0.000</td> <td>    0.594     0.684</td>\n",
        "</tr>\n",
        "<tr>\n",
        "  <th>ones</th>       <td>    6.4030</td> <td>    0.396</td> <td>   16.150</td> <td> 0.000</td> <td>    5.625     7.181</td>\n",
        "</tr>\n",
        "</table>\n",
        "<table class=\"simpletable\">\n",
        "<tr>\n",
        "  <th>Omnibus:</th>       <td>185.533</td> <th>  Durbin-Watson:     </th> <td>   0.611</td>\n",
        "</tr>\n",
        "<tr>\n",
        "  <th>Prob(Omnibus):</th> <td> 0.000</td>  <th>  Jarque-Bera (JB):  </th> <td> 280.624</td>\n",
        "</tr>\n",
        "<tr>\n",
        "  <th>Skew:</th>          <td>-0.754</td>  <th>  Prob(JB):          </th> <td>1.16e-61</td>\n",
        "</tr>\n",
        "<tr>\n",
        "  <th>Kurtosis:</th>      <td> 4.206</td>  <th>  Cond. No.          </th> <td>    277.</td>\n",
        "</tr>\n",
        "</table>"
       ],
       "metadata": {},
       "output_type": "pyout",
       "prompt_number": 16,
       "text": [
        "<class 'statsmodels.iolib.summary.Summary'>\n",
        "\"\"\"\n",
        "                               OLS Regression Results                               \n",
        "====================================================================================\n",
        "Dep. Variable:     domestic_total_gross_log   R-squared:                       0.303\n",
        "Model:                                  OLS   Adj. R-squared:                  0.302\n",
        "Method:                       Least Squares   F-statistic:                     783.8\n",
        "Date:                      Mon, 29 Sep 2014   Prob (F-statistic):          1.46e-143\n",
        "Time:                              15:37:28   Log-Likelihood:                -2672.9\n",
        "No. Observations:                      1808   AIC:                             5350.\n",
        "Df Residuals:                          1806   BIC:                             5361.\n",
        "Df Model:                                 1                                         \n",
        "==============================================================================\n",
        "                 coef    std err          t      P>|t|      [95.0% Conf. Int.]\n",
        "------------------------------------------------------------------------------\n",
        "budget_log     0.6392      0.023     27.997      0.000         0.594     0.684\n",
        "ones           6.4030      0.396     16.150      0.000         5.625     7.181\n",
        "==============================================================================\n",
        "Omnibus:                      185.533   Durbin-Watson:                   0.611\n",
        "Prob(Omnibus):                  0.000   Jarque-Bera (JB):              280.624\n",
        "Skew:                          -0.754   Prob(JB):                     1.16e-61\n",
        "Kurtosis:                       4.206   Cond. No.                         277.\n",
        "==============================================================================\n",
        "\"\"\""
       ]
      }
     ],
     "prompt_number": 16
    },
    {
     "cell_type": "code",
     "collapsed": false,
     "input": [],
     "language": "python",
     "metadata": {},
     "outputs": [],
     "prompt_number": 16
    },
    {
     "cell_type": "code",
     "collapsed": false,
     "input": [
      "plt.scatter(movies_final.budget_log, movies_final.domestic_total_gross_log)\n",
      "plt.xlabel('Budget')\n",
      "plt.ylabel('Total Box Office')\n",
      "plt.plot(movies_final.budget_log, linmodel_budget.predict(X_budget), 'r')"
     ],
     "language": "python",
     "metadata": {},
     "outputs": [
      {
       "metadata": {},
       "output_type": "pyout",
       "prompt_number": 17,
       "text": [
        "[<matplotlib.lines.Line2D at 0x109341c90>]"
       ]
      }
     ],
     "prompt_number": 17
    },
    {
     "cell_type": "code",
     "collapsed": false,
     "input": [
      "#effect of budget on total gross for big budget movies\n",
      "\n",
      "X_big_budget = movies_big_budget[['budget_log','ones']]\n",
      "Y_big_budget = movies_big_budget.domestic_without_opening_log\n",
      "linmodel_big_budget = sm.OLS(Y_big_budget, X_big_budget).fit()\n",
      "linmodel_big_budget.summary()"
     ],
     "language": "python",
     "metadata": {},
     "outputs": [
      {
       "html": [
        "<table class=\"simpletable\">\n",
        "<caption>OLS Regression Results</caption>\n",
        "<tr>\n",
        "  <th>Dep. Variable:</th>    <td>domestic_without_opening_log</td> <th>  R-squared:         </th> <td>   0.146</td>\n",
        "</tr>\n",
        "<tr>\n",
        "  <th>Model:</th>                         <td>OLS</td>             <th>  Adj. R-squared:    </th> <td>   0.144</td>\n",
        "</tr>\n",
        "<tr>\n",
        "  <th>Method:</th>                   <td>Least Squares</td>        <th>  F-statistic:       </th> <td>   68.89</td>\n",
        "</tr>\n",
        "<tr>\n",
        "  <th>Date:</th>                   <td>Mon, 29 Sep 2014</td>       <th>  Prob (F-statistic):</th> <td>1.60e-15</td>\n",
        "</tr>\n",
        "<tr>\n",
        "  <th>Time:</th>                       <td>15:37:28</td>           <th>  Log-Likelihood:    </th> <td> -474.29</td>\n",
        "</tr>\n",
        "<tr>\n",
        "  <th>No. Observations:</th>            <td>   404</td>            <th>  AIC:               </th> <td>   952.6</td>\n",
        "</tr>\n",
        "<tr>\n",
        "  <th>Df Residuals:</th>                <td>   402</td>            <th>  BIC:               </th> <td>   960.6</td>\n",
        "</tr>\n",
        "<tr>\n",
        "  <th>Df Model:</th>                    <td>     1</td>            <th>                     </th>     <td> </td>   \n",
        "</tr>\n",
        "</table>\n",
        "<table class=\"simpletable\">\n",
        "<tr>\n",
        "       <td></td>         <th>coef</th>     <th>std err</th>      <th>t</th>      <th>P>|t|</th> <th>[95.0% Conf. Int.]</th> \n",
        "</tr>\n",
        "<tr>\n",
        "  <th>budget_log</th> <td>    1.0445</td> <td>    0.126</td> <td>    8.300</td> <td> 0.000</td> <td>    0.797     1.292</td>\n",
        "</tr>\n",
        "<tr>\n",
        "  <th>ones</th>       <td>   -1.2640</td> <td>    2.337</td> <td>   -0.541</td> <td> 0.589</td> <td>   -5.858     3.330</td>\n",
        "</tr>\n",
        "</table>\n",
        "<table class=\"simpletable\">\n",
        "<tr>\n",
        "  <th>Omnibus:</th>       <td>60.452</td> <th>  Durbin-Watson:     </th> <td>   0.380</td>\n",
        "</tr>\n",
        "<tr>\n",
        "  <th>Prob(Omnibus):</th> <td> 0.000</td> <th>  Jarque-Bera (JB):  </th> <td> 114.369</td>\n",
        "</tr>\n",
        "<tr>\n",
        "  <th>Skew:</th>          <td>-0.843</td> <th>  Prob(JB):          </th> <td>1.46e-25</td>\n",
        "</tr>\n",
        "<tr>\n",
        "  <th>Kurtosis:</th>      <td> 4.988</td> <th>  Cond. No.          </th> <td>1.11e+03</td>\n",
        "</tr>\n",
        "</table>"
       ],
       "metadata": {},
       "output_type": "pyout",
       "prompt_number": 18,
       "text": [
        "<class 'statsmodels.iolib.summary.Summary'>\n",
        "\"\"\"\n",
        "                                 OLS Regression Results                                 \n",
        "========================================================================================\n",
        "Dep. Variable:     domestic_without_opening_log   R-squared:                       0.146\n",
        "Model:                                      OLS   Adj. R-squared:                  0.144\n",
        "Method:                           Least Squares   F-statistic:                     68.89\n",
        "Date:                          Mon, 29 Sep 2014   Prob (F-statistic):           1.60e-15\n",
        "Time:                                  15:37:28   Log-Likelihood:                -474.29\n",
        "No. Observations:                           404   AIC:                             952.6\n",
        "Df Residuals:                               402   BIC:                             960.6\n",
        "Df Model:                                     1                                         \n",
        "==============================================================================\n",
        "                 coef    std err          t      P>|t|      [95.0% Conf. Int.]\n",
        "------------------------------------------------------------------------------\n",
        "budget_log     1.0445      0.126      8.300      0.000         0.797     1.292\n",
        "ones          -1.2640      2.337     -0.541      0.589        -5.858     3.330\n",
        "==============================================================================\n",
        "Omnibus:                       60.452   Durbin-Watson:                   0.380\n",
        "Prob(Omnibus):                  0.000   Jarque-Bera (JB):              114.369\n",
        "Skew:                          -0.843   Prob(JB):                     1.46e-25\n",
        "Kurtosis:                       4.988   Cond. No.                     1.11e+03\n",
        "==============================================================================\n",
        "\n",
        "Warnings:\n",
        "[1] The condition number is large, 1.11e+03. This might indicate that there are\n",
        "strong multicollinearity or other numerical problems.\n",
        "\"\"\""
       ]
      }
     ],
     "prompt_number": 18
    },
    {
     "cell_type": "code",
     "collapsed": false,
     "input": [
      "plt.scatter(movies_big_budget.budget_log, movies_big_budget.domestic_total_gross_log)\n",
      "plt.xlabel('Budget')\n",
      "plt.ylabel('Total Box Office')\n",
      "plt.plot(movies_big_budget.budget_log, linmodel_big_budget.predict(X_big_budget), 'rx')"
     ],
     "language": "python",
     "metadata": {},
     "outputs": [
      {
       "metadata": {},
       "output_type": "pyout",
       "prompt_number": 19,
       "text": [
        "[<matplotlib.lines.Line2D at 0x10b3dafd0>]"
       ]
      }
     ],
     "prompt_number": 19
    },
    {
     "cell_type": "code",
     "collapsed": false,
     "input": [
      "#effect of budget on total gross for small budget movies\n",
      "\n",
      "X_small_budget = movies_small_budget[['budget_log','ones']]\n",
      "Y_small_budget = movies_small_budget.domestic_without_opening_log\n",
      "linmodel_small_budget = sm.OLS(Y_small_budget, X_small_budget).fit()\n",
      "linmodel_small_budget.summary()"
     ],
     "language": "python",
     "metadata": {},
     "outputs": [
      {
       "html": [
        "<table class=\"simpletable\">\n",
        "<caption>OLS Regression Results</caption>\n",
        "<tr>\n",
        "  <th>Dep. Variable:</th>    <td>domestic_without_opening_log</td> <th>  R-squared:         </th> <td>   0.041</td>\n",
        "</tr>\n",
        "<tr>\n",
        "  <th>Model:</th>                         <td>OLS</td>             <th>  Adj. R-squared:    </th> <td>   0.039</td>\n",
        "</tr>\n",
        "<tr>\n",
        "  <th>Method:</th>                   <td>Least Squares</td>        <th>  F-statistic:       </th> <td>   17.39</td>\n",
        "</tr>\n",
        "<tr>\n",
        "  <th>Date:</th>                   <td>Mon, 29 Sep 2014</td>       <th>  Prob (F-statistic):</th> <td>3.73e-05</td>\n",
        "</tr>\n",
        "<tr>\n",
        "  <th>Time:</th>                       <td>15:37:29</td>           <th>  Log-Likelihood:    </th> <td> -698.78</td>\n",
        "</tr>\n",
        "<tr>\n",
        "  <th>No. Observations:</th>            <td>   409</td>            <th>  AIC:               </th> <td>   1402.</td>\n",
        "</tr>\n",
        "<tr>\n",
        "  <th>Df Residuals:</th>                <td>   407</td>            <th>  BIC:               </th> <td>   1410.</td>\n",
        "</tr>\n",
        "<tr>\n",
        "  <th>Df Model:</th>                    <td>     1</td>            <th>                     </th>     <td> </td>   \n",
        "</tr>\n",
        "</table>\n",
        "<table class=\"simpletable\">\n",
        "<tr>\n",
        "       <td></td>         <th>coef</th>     <th>std err</th>      <th>t</th>      <th>P>|t|</th> <th>[95.0% Conf. Int.]</th> \n",
        "</tr>\n",
        "<tr>\n",
        "  <th>budget_log</th> <td>    0.3844</td> <td>    0.092</td> <td>    4.170</td> <td> 0.000</td> <td>    0.203     0.566</td>\n",
        "</tr>\n",
        "<tr>\n",
        "  <th>ones</th>       <td>   10.1513</td> <td>    1.473</td> <td>    6.890</td> <td> 0.000</td> <td>    7.255    13.048</td>\n",
        "</tr>\n",
        "</table>\n",
        "<table class=\"simpletable\">\n",
        "<tr>\n",
        "  <th>Omnibus:</th>       <td>13.664</td> <th>  Durbin-Watson:     </th> <td>   0.179</td>\n",
        "</tr>\n",
        "<tr>\n",
        "  <th>Prob(Omnibus):</th> <td> 0.001</td> <th>  Jarque-Bera (JB):  </th> <td>  14.371</td>\n",
        "</tr>\n",
        "<tr>\n",
        "  <th>Skew:</th>          <td>-0.459</td> <th>  Prob(JB):          </th> <td>0.000757</td>\n",
        "</tr>\n",
        "<tr>\n",
        "  <th>Kurtosis:</th>      <td> 3.026</td> <th>  Cond. No.          </th> <td>    357.</td>\n",
        "</tr>\n",
        "</table>"
       ],
       "metadata": {},
       "output_type": "pyout",
       "prompt_number": 20,
       "text": [
        "<class 'statsmodels.iolib.summary.Summary'>\n",
        "\"\"\"\n",
        "                                 OLS Regression Results                                 \n",
        "========================================================================================\n",
        "Dep. Variable:     domestic_without_opening_log   R-squared:                       0.041\n",
        "Model:                                      OLS   Adj. R-squared:                  0.039\n",
        "Method:                           Least Squares   F-statistic:                     17.39\n",
        "Date:                          Mon, 29 Sep 2014   Prob (F-statistic):           3.73e-05\n",
        "Time:                                  15:37:29   Log-Likelihood:                -698.78\n",
        "No. Observations:                           409   AIC:                             1402.\n",
        "Df Residuals:                               407   BIC:                             1410.\n",
        "Df Model:                                     1                                         \n",
        "==============================================================================\n",
        "                 coef    std err          t      P>|t|      [95.0% Conf. Int.]\n",
        "------------------------------------------------------------------------------\n",
        "budget_log     0.3844      0.092      4.170      0.000         0.203     0.566\n",
        "ones          10.1513      1.473      6.890      0.000         7.255    13.048\n",
        "==============================================================================\n",
        "Omnibus:                       13.664   Durbin-Watson:                   0.179\n",
        "Prob(Omnibus):                  0.001   Jarque-Bera (JB):               14.371\n",
        "Skew:                          -0.459   Prob(JB):                     0.000757\n",
        "Kurtosis:                       3.026   Cond. No.                         357.\n",
        "==============================================================================\n",
        "\"\"\""
       ]
      }
     ],
     "prompt_number": 20
    },
    {
     "cell_type": "code",
     "collapsed": false,
     "input": [],
     "language": "python",
     "metadata": {},
     "outputs": [],
     "prompt_number": 20
    },
    {
     "cell_type": "code",
     "collapsed": false,
     "input": [
      "plt.scatter(movies_small_budget.budget_log, movies_small_budget.domestic_total_gross_log)\n",
      "plt.xlabel('Budget')\n",
      "plt.ylabel('Total Box Office')\n",
      "plt.plot(movies_small_budget.budget_log, linmodel_small_budget.predict(X_small_budget), 'rx')"
     ],
     "language": "python",
     "metadata": {},
     "outputs": [
      {
       "metadata": {},
       "output_type": "pyout",
       "prompt_number": 21,
       "text": [
        "[<matplotlib.lines.Line2D at 0x10b409390>]"
       ]
      }
     ],
     "prompt_number": 21
    },
    {
     "cell_type": "code",
     "collapsed": false,
     "input": [
      "# effect of opening weekend on domestic total gross (not including opening weekend)\n",
      "X_opening = movies_final[['openingweekendgross_log','ones']]\n",
      "Y_opening = movies_final.domestic_without_opening_log\n",
      "linmodel_opening = sm.OLS(Y_opening, X_opening).fit()\n",
      "linmodel_opening.summary()"
     ],
     "language": "python",
     "metadata": {},
     "outputs": [
      {
       "html": [
        "<table class=\"simpletable\">\n",
        "<caption>OLS Regression Results</caption>\n",
        "<tr>\n",
        "  <th>Dep. Variable:</th>    <td>domestic_without_opening_log</td> <th>  R-squared:         </th> <td>   0.642</td>\n",
        "</tr>\n",
        "<tr>\n",
        "  <th>Model:</th>                         <td>OLS</td>             <th>  Adj. R-squared:    </th> <td>   0.642</td>\n",
        "</tr>\n",
        "<tr>\n",
        "  <th>Method:</th>                   <td>Least Squares</td>        <th>  F-statistic:       </th> <td>   3244.</td>\n",
        "</tr>\n",
        "<tr>\n",
        "  <th>Date:</th>                   <td>Mon, 29 Sep 2014</td>       <th>  Prob (F-statistic):</th>  <td>  0.00</td> \n",
        "</tr>\n",
        "<tr>\n",
        "  <th>Time:</th>                       <td>15:37:29</td>           <th>  Log-Likelihood:    </th> <td> -2104.0</td>\n",
        "</tr>\n",
        "<tr>\n",
        "  <th>No. Observations:</th>            <td>  1808</td>            <th>  AIC:               </th> <td>   4212.</td>\n",
        "</tr>\n",
        "<tr>\n",
        "  <th>Df Residuals:</th>                <td>  1806</td>            <th>  BIC:               </th> <td>   4223.</td>\n",
        "</tr>\n",
        "<tr>\n",
        "  <th>Df Model:</th>                    <td>     1</td>            <th>                     </th>     <td> </td>   \n",
        "</tr>\n",
        "</table>\n",
        "<table class=\"simpletable\">\n",
        "<tr>\n",
        "             <td></td>                <th>coef</th>     <th>std err</th>      <th>t</th>      <th>P>|t|</th> <th>[95.0% Conf. Int.]</th> \n",
        "</tr>\n",
        "<tr>\n",
        "  <th>openingweekendgross_log</th> <td>    0.6266</td> <td>    0.011</td> <td>   56.958</td> <td> 0.000</td> <td>    0.605     0.648</td>\n",
        "</tr>\n",
        "<tr>\n",
        "  <th>ones</th>                    <td>    7.0858</td> <td>    0.177</td> <td>   39.985</td> <td> 0.000</td> <td>    6.738     7.433</td>\n",
        "</tr>\n",
        "</table>\n",
        "<table class=\"simpletable\">\n",
        "<tr>\n",
        "  <th>Omnibus:</th>       <td>29.762</td> <th>  Durbin-Watson:     </th> <td>   1.395</td>\n",
        "</tr>\n",
        "<tr>\n",
        "  <th>Prob(Omnibus):</th> <td> 0.000</td> <th>  Jarque-Bera (JB):  </th> <td>  45.566</td>\n",
        "</tr>\n",
        "<tr>\n",
        "  <th>Skew:</th>          <td> 0.155</td> <th>  Prob(JB):          </th> <td>1.28e-10</td>\n",
        "</tr>\n",
        "<tr>\n",
        "  <th>Kurtosis:</th>      <td> 3.713</td> <th>  Cond. No.          </th> <td>    157.</td>\n",
        "</tr>\n",
        "</table>"
       ],
       "metadata": {},
       "output_type": "pyout",
       "prompt_number": 22,
       "text": [
        "<class 'statsmodels.iolib.summary.Summary'>\n",
        "\"\"\"\n",
        "                                 OLS Regression Results                                 \n",
        "========================================================================================\n",
        "Dep. Variable:     domestic_without_opening_log   R-squared:                       0.642\n",
        "Model:                                      OLS   Adj. R-squared:                  0.642\n",
        "Method:                           Least Squares   F-statistic:                     3244.\n",
        "Date:                          Mon, 29 Sep 2014   Prob (F-statistic):               0.00\n",
        "Time:                                  15:37:29   Log-Likelihood:                -2104.0\n",
        "No. Observations:                          1808   AIC:                             4212.\n",
        "Df Residuals:                              1806   BIC:                             4223.\n",
        "Df Model:                                     1                                         \n",
        "===========================================================================================\n",
        "                              coef    std err          t      P>|t|      [95.0% Conf. Int.]\n",
        "-------------------------------------------------------------------------------------------\n",
        "openingweekendgross_log     0.6266      0.011     56.958      0.000         0.605     0.648\n",
        "ones                        7.0858      0.177     39.985      0.000         6.738     7.433\n",
        "==============================================================================\n",
        "Omnibus:                       29.762   Durbin-Watson:                   1.395\n",
        "Prob(Omnibus):                  0.000   Jarque-Bera (JB):               45.566\n",
        "Skew:                           0.155   Prob(JB):                     1.28e-10\n",
        "Kurtosis:                       3.713   Cond. No.                         157.\n",
        "==============================================================================\n",
        "\"\"\""
       ]
      }
     ],
     "prompt_number": 22
    },
    {
     "cell_type": "code",
     "collapsed": false,
     "input": [
      "plt.scatter(movies_final.openingweekendgross_log, movies_final.domestic_without_opening_log)\n",
      "plt.xlabel('Opening Weekend')\n",
      "plt.ylabel('Box Office \\n(not including opening weekend)')\n",
      "plt.plot(movies_final.openingweekendgross_log, linmodel_opening.predict(X_opening), 'r', linewidth=2)\n",
      "\n",
      "from statsmodels.sandbox.regression.predstd import wls_prediction_std\n",
      "prstd1, conf_lower1, conf_upper1 = wls_prediction_std(linmodel_opening)\n",
      "plt.plot(movies_final['openingweekendgross_log'], conf_lower1, 'y--', linewidth = 2)\n",
      "plt.plot(movies_final['openingweekendgross_log'], conf_upper1, 'y--', linewidth = 2)"
     ],
     "language": "python",
     "metadata": {},
     "outputs": [
      {
       "metadata": {},
       "output_type": "pyout",
       "prompt_number": 23,
       "text": [
        "[<matplotlib.lines.Line2D at 0x10b42eb10>]"
       ]
      }
     ],
     "prompt_number": 23
    },
    {
     "cell_type": "code",
     "collapsed": false,
     "input": [
      "# effect of opening weekend on domestic total gross (not including opening weekend)\n",
      "# for big budget films\n",
      "X_big_opening = movies_big_budget[['openingweekendgross','ones']]\n",
      "Y_big_opening = movies_big_budget.domestic_without_opening\n",
      "linmodel_big_opening = sm.OLS(Y_big_opening, X_big_opening).fit()\n",
      "linmodel_big_opening.summary()"
     ],
     "language": "python",
     "metadata": {},
     "outputs": [
      {
       "html": [
        "<table class=\"simpletable\">\n",
        "<caption>OLS Regression Results</caption>\n",
        "<tr>\n",
        "  <th>Dep. Variable:</th>    <td>domestic_without_opening</td> <th>  R-squared:         </th> <td>   0.568</td> \n",
        "</tr>\n",
        "<tr>\n",
        "  <th>Model:</th>                       <td>OLS</td>           <th>  Adj. R-squared:    </th> <td>   0.566</td> \n",
        "</tr>\n",
        "<tr>\n",
        "  <th>Method:</th>                 <td>Least Squares</td>      <th>  F-statistic:       </th> <td>   527.5</td> \n",
        "</tr>\n",
        "<tr>\n",
        "  <th>Date:</th>                 <td>Mon, 29 Sep 2014</td>     <th>  Prob (F-statistic):</th> <td>3.58e-75</td> \n",
        "</tr>\n",
        "<tr>\n",
        "  <th>Time:</th>                     <td>15:37:29</td>         <th>  Log-Likelihood:    </th> <td> -7733.9</td> \n",
        "</tr>\n",
        "<tr>\n",
        "  <th>No. Observations:</th>          <td>   404</td>          <th>  AIC:               </th> <td>1.547e+04</td>\n",
        "</tr>\n",
        "<tr>\n",
        "  <th>Df Residuals:</th>              <td>   402</td>          <th>  BIC:               </th> <td>1.548e+04</td>\n",
        "</tr>\n",
        "<tr>\n",
        "  <th>Df Model:</th>                  <td>     1</td>          <th>                     </th>     <td> </td>    \n",
        "</tr>\n",
        "</table>\n",
        "<table class=\"simpletable\">\n",
        "<tr>\n",
        "           <td></td>              <th>coef</th>     <th>std err</th>      <th>t</th>      <th>P>|t|</th> <th>[95.0% Conf. Int.]</th> \n",
        "</tr>\n",
        "<tr>\n",
        "  <th>openingweekendgross</th> <td>    1.8269</td> <td>    0.080</td> <td>   22.967</td> <td> 0.000</td> <td>    1.671     1.983</td>\n",
        "</tr>\n",
        "<tr>\n",
        "  <th>ones</th>                <td> 2.463e+07</td> <td> 4.14e+06</td> <td>    5.956</td> <td> 0.000</td> <td> 1.65e+07  3.28e+07</td>\n",
        "</tr>\n",
        "</table>\n",
        "<table class=\"simpletable\">\n",
        "<tr>\n",
        "  <th>Omnibus:</th>       <td>331.409</td> <th>  Durbin-Watson:     </th> <td>   1.519</td> \n",
        "</tr>\n",
        "<tr>\n",
        "  <th>Prob(Omnibus):</th> <td> 0.000</td>  <th>  Jarque-Bera (JB):  </th> <td>11050.262</td>\n",
        "</tr>\n",
        "<tr>\n",
        "  <th>Skew:</th>          <td> 3.179</td>  <th>  Prob(JB):          </th> <td>    0.00</td> \n",
        "</tr>\n",
        "<tr>\n",
        "  <th>Kurtosis:</th>      <td>27.820</td>  <th>  Cond. No.          </th> <td>8.65e+07</td> \n",
        "</tr>\n",
        "</table>"
       ],
       "metadata": {},
       "output_type": "pyout",
       "prompt_number": 24,
       "text": [
        "<class 'statsmodels.iolib.summary.Summary'>\n",
        "\"\"\"\n",
        "                               OLS Regression Results                               \n",
        "====================================================================================\n",
        "Dep. Variable:     domestic_without_opening   R-squared:                       0.568\n",
        "Model:                                  OLS   Adj. R-squared:                  0.566\n",
        "Method:                       Least Squares   F-statistic:                     527.5\n",
        "Date:                      Mon, 29 Sep 2014   Prob (F-statistic):           3.58e-75\n",
        "Time:                              15:37:29   Log-Likelihood:                -7733.9\n",
        "No. Observations:                       404   AIC:                         1.547e+04\n",
        "Df Residuals:                           402   BIC:                         1.548e+04\n",
        "Df Model:                                 1                                         \n",
        "=======================================================================================\n",
        "                          coef    std err          t      P>|t|      [95.0% Conf. Int.]\n",
        "---------------------------------------------------------------------------------------\n",
        "openingweekendgross     1.8269      0.080     22.967      0.000         1.671     1.983\n",
        "ones                 2.463e+07   4.14e+06      5.956      0.000      1.65e+07  3.28e+07\n",
        "==============================================================================\n",
        "Omnibus:                      331.409   Durbin-Watson:                   1.519\n",
        "Prob(Omnibus):                  0.000   Jarque-Bera (JB):            11050.262\n",
        "Skew:                           3.179   Prob(JB):                         0.00\n",
        "Kurtosis:                      27.820   Cond. No.                     8.65e+07\n",
        "==============================================================================\n",
        "\n",
        "Warnings:\n",
        "[1] The condition number is large, 8.65e+07. This might indicate that there are\n",
        "strong multicollinearity or other numerical problems.\n",
        "\"\"\""
       ]
      }
     ],
     "prompt_number": 24
    },
    {
     "cell_type": "code",
     "collapsed": false,
     "input": [
      "plt.scatter(movies_big_budget.openingweekendgross_log, movies_big_budget.domestic_without_opening_log)\n",
      "            \n",
      "plt.xlabel('Opening Weekend')\n",
      "plt.ylabel('Box Office \\n(not including opening weekend)')\n",
      "plt.plot(movies_big_budget.openingweekendgross_log, linmodel_big_opening.predict(X_big_opening), 'r', linewidth=2)\n",
      "\n",
      "from statsmodels.sandbox.regression.predstd import wls_prediction_std\n",
      "prstd1, conf_lower1, conf_upper1 = wls_prediction_std(linmodel_big_opening)\n",
      "plt.plot(movies_big_budget['openingweekendgross_log'], conf_lower1, 'y--', linewidth = 2)\n",
      "plt.plot(movies_big_budget['openingweekendgross_log'], conf_upper1, 'y--', linewidth = 2)"
     ],
     "language": "python",
     "metadata": {},
     "outputs": [
      {
       "metadata": {},
       "output_type": "pyout",
       "prompt_number": 25,
       "text": [
        "[<matplotlib.lines.Line2D at 0x10b42eb90>]"
       ]
      }
     ],
     "prompt_number": 25
    },
    {
     "cell_type": "code",
     "collapsed": false,
     "input": [
      "reload(plotters)\n",
      "name = movies_big_budget['movie_title']\n",
      "x = movies_big_budget.openingweekendgross_log\n",
      "# initiate plotter                                                                                                                                                                   \n",
      "plotter = plotters.TwoVariableComparisonPlotter(x, Y_big_opening, name,\n",
      "                                           x_range=(None, None),\n",
      "                                           y_range = (None, None),\n",
      "                                           label_display_style=\"click\",\n",
      "                                           xlabel=\"Budget (million dollars)\",\n",
      "                                           ylabel = \"Domestic Gross (million dollars)\")\n",
      "\n",
      "# plot!                                                                                                                                                                              \n",
      "plotter.add_text(0, 360, \"Highly\\nprofitable\")\n",
      "plotter.add_text(200, 0, \"Absolutely\\nregrettable\")\n",
      "\n",
      "plotter.plot()"
     ],
     "language": "python",
     "metadata": {},
     "outputs": [],
     "prompt_number": 26
    },
    {
     "cell_type": "code",
     "collapsed": false,
     "input": [
      "# effect of opening weekend on domestic total gross (not including opening weekend)\n",
      "# for small budget films\n",
      "\n",
      "X_small_opening = movies_small_budget[['openingweekendgross','ones']]\n",
      "Y_small_opening = movies_small_budget.domestic_without_opening\n",
      "linmodel_small_opening = sm.OLS(Y_small_opening, X_small_opening).fit()\n",
      "linmodel_small_opening.summary()"
     ],
     "language": "python",
     "metadata": {},
     "outputs": [
      {
       "html": [
        "<table class=\"simpletable\">\n",
        "<caption>OLS Regression Results</caption>\n",
        "<tr>\n",
        "  <th>Dep. Variable:</th>    <td>domestic_without_opening</td> <th>  R-squared:         </th> <td>   0.121</td> \n",
        "</tr>\n",
        "<tr>\n",
        "  <th>Model:</th>                       <td>OLS</td>           <th>  Adj. R-squared:    </th> <td>   0.119</td> \n",
        "</tr>\n",
        "<tr>\n",
        "  <th>Method:</th>                 <td>Least Squares</td>      <th>  F-statistic:       </th> <td>   55.98</td> \n",
        "</tr>\n",
        "<tr>\n",
        "  <th>Date:</th>                 <td>Mon, 29 Sep 2014</td>     <th>  Prob (F-statistic):</th> <td>4.55e-13</td> \n",
        "</tr>\n",
        "<tr>\n",
        "  <th>Time:</th>                     <td>15:37:33</td>         <th>  Log-Likelihood:    </th> <td> -7704.4</td> \n",
        "</tr>\n",
        "<tr>\n",
        "  <th>No. Observations:</th>          <td>   409</td>          <th>  AIC:               </th> <td>1.541e+04</td>\n",
        "</tr>\n",
        "<tr>\n",
        "  <th>Df Residuals:</th>              <td>   407</td>          <th>  BIC:               </th> <td>1.542e+04</td>\n",
        "</tr>\n",
        "<tr>\n",
        "  <th>Df Model:</th>                  <td>     1</td>          <th>                     </th>     <td> </td>    \n",
        "</tr>\n",
        "</table>\n",
        "<table class=\"simpletable\">\n",
        "<tr>\n",
        "           <td></td>              <th>coef</th>     <th>std err</th>      <th>t</th>      <th>P>|t|</th> <th>[95.0% Conf. Int.]</th> \n",
        "</tr>\n",
        "<tr>\n",
        "  <th>openingweekendgross</th> <td>    1.5605</td> <td>    0.209</td> <td>    7.482</td> <td> 0.000</td> <td>    1.151     1.970</td>\n",
        "</tr>\n",
        "<tr>\n",
        "  <th>ones</th>                <td> 1.414e+07</td> <td>  2.4e+06</td> <td>    5.899</td> <td> 0.000</td> <td> 9.43e+06  1.89e+07</td>\n",
        "</tr>\n",
        "</table>\n",
        "<table class=\"simpletable\">\n",
        "<tr>\n",
        "  <th>Omnibus:</th>       <td>435.801</td> <th>  Durbin-Watson:     </th> <td>   0.396</td> \n",
        "</tr>\n",
        "<tr>\n",
        "  <th>Prob(Omnibus):</th> <td> 0.000</td>  <th>  Jarque-Bera (JB):  </th> <td>16506.288</td>\n",
        "</tr>\n",
        "<tr>\n",
        "  <th>Skew:</th>          <td> 4.852</td>  <th>  Prob(JB):          </th> <td>    0.00</td> \n",
        "</tr>\n",
        "<tr>\n",
        "  <th>Kurtosis:</th>      <td>32.570</td>  <th>  Cond. No.          </th> <td>1.51e+07</td> \n",
        "</tr>\n",
        "</table>"
       ],
       "metadata": {},
       "output_type": "pyout",
       "prompt_number": 27,
       "text": [
        "<class 'statsmodels.iolib.summary.Summary'>\n",
        "\"\"\"\n",
        "                               OLS Regression Results                               \n",
        "====================================================================================\n",
        "Dep. Variable:     domestic_without_opening   R-squared:                       0.121\n",
        "Model:                                  OLS   Adj. R-squared:                  0.119\n",
        "Method:                       Least Squares   F-statistic:                     55.98\n",
        "Date:                      Mon, 29 Sep 2014   Prob (F-statistic):           4.55e-13\n",
        "Time:                              15:37:33   Log-Likelihood:                -7704.4\n",
        "No. Observations:                       409   AIC:                         1.541e+04\n",
        "Df Residuals:                           407   BIC:                         1.542e+04\n",
        "Df Model:                                 1                                         \n",
        "=======================================================================================\n",
        "                          coef    std err          t      P>|t|      [95.0% Conf. Int.]\n",
        "---------------------------------------------------------------------------------------\n",
        "openingweekendgross     1.5605      0.209      7.482      0.000         1.151     1.970\n",
        "ones                 1.414e+07    2.4e+06      5.899      0.000      9.43e+06  1.89e+07\n",
        "==============================================================================\n",
        "Omnibus:                      435.801   Durbin-Watson:                   0.396\n",
        "Prob(Omnibus):                  0.000   Jarque-Bera (JB):            16506.288\n",
        "Skew:                           4.852   Prob(JB):                         0.00\n",
        "Kurtosis:                      32.570   Cond. No.                     1.51e+07\n",
        "==============================================================================\n",
        "\n",
        "Warnings:\n",
        "[1] The condition number is large, 1.51e+07. This might indicate that there are\n",
        "strong multicollinearity or other numerical problems.\n",
        "\"\"\""
       ]
      }
     ],
     "prompt_number": 27
    },
    {
     "cell_type": "code",
     "collapsed": false,
     "input": [
      "reload(plotters)\n",
      "name = movies_small_budget['movie_title']\n",
      "x = movies_small_budget.openingweekendgross_log\n",
      "# initiate plotter                                                                                                                                                                   \n",
      "plotter = plotters.TwoVariableComparisonPlotter(x, Y_small_opening, name,\n",
      "                                           x_range=(None, None),\n",
      "                                           y_range = (None, None),\n",
      "                                           label_display_style=\"click\",\n",
      "                                           xlabel=\"Budget (million dollars)\",\n",
      "                                           ylabel = \"Domestic Gross (million dollars)\")\n",
      "\n",
      "# plot!                                                                                                                                                                              \n",
      "plotter.add_text(0, 360, \"Highly\\nprofitable\")\n",
      "plotter.add_text(200, 0, \"Absolutely\\nregrettable\")\n",
      "\n",
      "plotter.plot()"
     ],
     "language": "python",
     "metadata": {},
     "outputs": [],
     "prompt_number": 28
    },
    {
     "cell_type": "code",
     "collapsed": false,
     "input": [
      "plt.scatter(movies_small_budget.openingweekendgross_log, movies_small_budget.domestic_without_opening_log)\n",
      "plt.xlabel('Opening Weekend')\n",
      "plt.ylabel('Box Office \\n(not including opening weekend)')\n",
      "plt.plot(movies_small_budget.openingweekendgross_log, linmodel_small_opening.predict(X_small_opening), 'r', linewidth=2)\n",
      "\n",
      "from statsmodels.sandbox.regression.predstd import wls_prediction_std\n",
      "prstd1, conf_lower1, conf_upper1 = wls_prediction_std(linmodel_small_opening)\n",
      "plt.plot(movies_small_budget['openingweekendgross_log'], conf_lower1, 'y--', linewidth = 2)\n",
      "plt.plot(movies_small_budget['openingweekendgross_log'], conf_upper1, 'y--', linewidth = 2)"
     ],
     "language": "python",
     "metadata": {},
     "outputs": [
      {
       "metadata": {},
       "output_type": "pyout",
       "prompt_number": 29,
       "text": [
        "[<matplotlib.lines.Line2D at 0x10b459bd0>]"
       ]
      }
     ],
     "prompt_number": 29
    },
    {
     "cell_type": "code",
     "collapsed": false,
     "input": [
      "x_small = movies_small_budget.openingweekendgross_log\n",
      "name_small = movies_small_budget.movie_title"
     ],
     "language": "python",
     "metadata": {},
     "outputs": [],
     "prompt_number": 30
    },
    {
     "cell_type": "code",
     "collapsed": false,
     "input": [
      "# effect of openingweekend/budget on domestic total gross (not including opening weekend)\n",
      "\n",
      "X_div = movies_final[['budget_log','openingweekendgross_log','ones']]\n",
      "Y_div = movies_final.domestic_without_opening_log\n",
      "linmodel_div = sm.OLS(Y_div, X_div).fit()\n",
      "linmodel_div.summary()"
     ],
     "language": "python",
     "metadata": {},
     "outputs": [
      {
       "html": [
        "<table class=\"simpletable\">\n",
        "<caption>OLS Regression Results</caption>\n",
        "<tr>\n",
        "  <th>Dep. Variable:</th>    <td>domestic_without_opening_log</td> <th>  R-squared:         </th> <td>   0.643</td>\n",
        "</tr>\n",
        "<tr>\n",
        "  <th>Model:</th>                         <td>OLS</td>             <th>  Adj. R-squared:    </th> <td>   0.643</td>\n",
        "</tr>\n",
        "<tr>\n",
        "  <th>Method:</th>                   <td>Least Squares</td>        <th>  F-statistic:       </th> <td>   1628.</td>\n",
        "</tr>\n",
        "<tr>\n",
        "  <th>Date:</th>                   <td>Mon, 29 Sep 2014</td>       <th>  Prob (F-statistic):</th>  <td>  0.00</td> \n",
        "</tr>\n",
        "<tr>\n",
        "  <th>Time:</th>                       <td>15:37:34</td>           <th>  Log-Likelihood:    </th> <td> -2101.5</td>\n",
        "</tr>\n",
        "<tr>\n",
        "  <th>No. Observations:</th>            <td>  1808</td>            <th>  AIC:               </th> <td>   4209.</td>\n",
        "</tr>\n",
        "<tr>\n",
        "  <th>Df Residuals:</th>                <td>  1805</td>            <th>  BIC:               </th> <td>   4225.</td>\n",
        "</tr>\n",
        "<tr>\n",
        "  <th>Df Model:</th>                    <td>     2</td>            <th>                     </th>     <td> </td>   \n",
        "</tr>\n",
        "</table>\n",
        "<table class=\"simpletable\">\n",
        "<tr>\n",
        "             <td></td>                <th>coef</th>     <th>std err</th>      <th>t</th>      <th>P>|t|</th> <th>[95.0% Conf. Int.]</th> \n",
        "</tr>\n",
        "<tr>\n",
        "  <th>budget_log</th>              <td>    0.0470</td> <td>    0.021</td> <td>    2.236</td> <td> 0.025</td> <td>    0.006     0.088</td>\n",
        "</tr>\n",
        "<tr>\n",
        "  <th>openingweekendgross_log</th> <td>    0.6077</td> <td>    0.014</td> <td>   43.838</td> <td> 0.000</td> <td>    0.581     0.635</td>\n",
        "</tr>\n",
        "<tr>\n",
        "  <th>ones</th>                    <td>    6.5747</td> <td>    0.289</td> <td>   22.741</td> <td> 0.000</td> <td>    6.008     7.142</td>\n",
        "</tr>\n",
        "</table>\n",
        "<table class=\"simpletable\">\n",
        "<tr>\n",
        "  <th>Omnibus:</th>       <td>32.613</td> <th>  Durbin-Watson:     </th> <td>   1.409</td>\n",
        "</tr>\n",
        "<tr>\n",
        "  <th>Prob(Omnibus):</th> <td> 0.000</td> <th>  Jarque-Bera (JB):  </th> <td>  51.913</td>\n",
        "</tr>\n",
        "<tr>\n",
        "  <th>Skew:</th>          <td> 0.158</td> <th>  Prob(JB):          </th> <td>5.34e-12</td>\n",
        "</tr>\n",
        "<tr>\n",
        "  <th>Kurtosis:</th>      <td> 3.768</td> <th>  Cond. No.          </th> <td>    377.</td>\n",
        "</tr>\n",
        "</table>"
       ],
       "metadata": {},
       "output_type": "pyout",
       "prompt_number": 31,
       "text": [
        "<class 'statsmodels.iolib.summary.Summary'>\n",
        "\"\"\"\n",
        "                                 OLS Regression Results                                 \n",
        "========================================================================================\n",
        "Dep. Variable:     domestic_without_opening_log   R-squared:                       0.643\n",
        "Model:                                      OLS   Adj. R-squared:                  0.643\n",
        "Method:                           Least Squares   F-statistic:                     1628.\n",
        "Date:                          Mon, 29 Sep 2014   Prob (F-statistic):               0.00\n",
        "Time:                                  15:37:34   Log-Likelihood:                -2101.5\n",
        "No. Observations:                          1808   AIC:                             4209.\n",
        "Df Residuals:                              1805   BIC:                             4225.\n",
        "Df Model:                                     2                                         \n",
        "===========================================================================================\n",
        "                              coef    std err          t      P>|t|      [95.0% Conf. Int.]\n",
        "-------------------------------------------------------------------------------------------\n",
        "budget_log                  0.0470      0.021      2.236      0.025         0.006     0.088\n",
        "openingweekendgross_log     0.6077      0.014     43.838      0.000         0.581     0.635\n",
        "ones                        6.5747      0.289     22.741      0.000         6.008     7.142\n",
        "==============================================================================\n",
        "Omnibus:                       32.613   Durbin-Watson:                   1.409\n",
        "Prob(Omnibus):                  0.000   Jarque-Bera (JB):               51.913\n",
        "Skew:                           0.158   Prob(JB):                     5.34e-12\n",
        "Kurtosis:                       3.768   Cond. No.                         377.\n",
        "==============================================================================\n",
        "\"\"\""
       ]
      }
     ],
     "prompt_number": 31
    },
    {
     "cell_type": "code",
     "collapsed": false,
     "input": [
      "import random\n",
      "small_rows = random.sample(movies_small_budget.index.values, 102)"
     ],
     "language": "python",
     "metadata": {},
     "outputs": [],
     "prompt_number": 32
    },
    {
     "cell_type": "code",
     "collapsed": false,
     "input": [
      "small_test_movies = movies_small_budget.ix[small_rows]\n",
      "small_training_movies = movies_small_budget.drop(small_rows)\n",
      "print len (small_test_movies)\n",
      "print len (small_training_movies)"
     ],
     "language": "python",
     "metadata": {},
     "outputs": [
      {
       "output_type": "stream",
       "stream": "stdout",
       "text": [
        "102\n",
        "307\n"
       ]
      }
     ],
     "prompt_number": 33
    },
    {
     "cell_type": "code",
     "collapsed": false,
     "input": [
      "X_small_opening_training = small_training_movies[['openingweekendgross_log','ones']]\n",
      "Y_small_opening_training = small_training_movies['domestic_without_opening_log']\n",
      "linmodel_opening_training = sm.OLS(Y_small_opening_training, X_small_opening_training).fit()\n",
      "linmodel_opening_training.summary()\n",
      "\n"
     ],
     "language": "python",
     "metadata": {},
     "outputs": [
      {
       "html": [
        "<table class=\"simpletable\">\n",
        "<caption>OLS Regression Results</caption>\n",
        "<tr>\n",
        "  <th>Dep. Variable:</th>    <td>domestic_without_opening_log</td> <th>  R-squared:         </th> <td>   0.489</td>\n",
        "</tr>\n",
        "<tr>\n",
        "  <th>Model:</th>                         <td>OLS</td>             <th>  Adj. R-squared:    </th> <td>   0.488</td>\n",
        "</tr>\n",
        "<tr>\n",
        "  <th>Method:</th>                   <td>Least Squares</td>        <th>  F-statistic:       </th> <td>   292.4</td>\n",
        "</tr>\n",
        "<tr>\n",
        "  <th>Date:</th>                   <td>Mon, 29 Sep 2014</td>       <th>  Prob (F-statistic):</th> <td>1.92e-46</td>\n",
        "</tr>\n",
        "<tr>\n",
        "  <th>Time:</th>                       <td>15:37:34</td>           <th>  Log-Likelihood:    </th> <td> -425.75</td>\n",
        "</tr>\n",
        "<tr>\n",
        "  <th>No. Observations:</th>            <td>   307</td>            <th>  AIC:               </th> <td>   855.5</td>\n",
        "</tr>\n",
        "<tr>\n",
        "  <th>Df Residuals:</th>                <td>   305</td>            <th>  BIC:               </th> <td>   863.0</td>\n",
        "</tr>\n",
        "<tr>\n",
        "  <th>Df Model:</th>                    <td>     1</td>            <th>                     </th>     <td> </td>   \n",
        "</tr>\n",
        "</table>\n",
        "<table class=\"simpletable\">\n",
        "<tr>\n",
        "             <td></td>                <th>coef</th>     <th>std err</th>      <th>t</th>      <th>P>|t|</th> <th>[95.0% Conf. Int.]</th> \n",
        "</tr>\n",
        "<tr>\n",
        "  <th>openingweekendgross_log</th> <td>    0.4644</td> <td>    0.027</td> <td>   17.101</td> <td> 0.000</td> <td>    0.411     0.518</td>\n",
        "</tr>\n",
        "<tr>\n",
        "  <th>ones</th>                    <td>    9.4022</td> <td>    0.402</td> <td>   23.386</td> <td> 0.000</td> <td>    8.611    10.193</td>\n",
        "</tr>\n",
        "</table>\n",
        "<table class=\"simpletable\">\n",
        "<tr>\n",
        "  <th>Omnibus:</th>       <td> 3.273</td> <th>  Durbin-Watson:     </th> <td>   1.114</td>\n",
        "</tr>\n",
        "<tr>\n",
        "  <th>Prob(Omnibus):</th> <td> 0.195</td> <th>  Jarque-Bera (JB):  </th> <td>   3.725</td>\n",
        "</tr>\n",
        "<tr>\n",
        "  <th>Skew:</th>          <td> 0.038</td> <th>  Prob(JB):          </th> <td>   0.155</td>\n",
        "</tr>\n",
        "<tr>\n",
        "  <th>Kurtosis:</th>      <td> 3.534</td> <th>  Cond. No.          </th> <td>    108.</td>\n",
        "</tr>\n",
        "</table>"
       ],
       "metadata": {},
       "output_type": "pyout",
       "prompt_number": 34,
       "text": [
        "<class 'statsmodels.iolib.summary.Summary'>\n",
        "\"\"\"\n",
        "                                 OLS Regression Results                                 \n",
        "========================================================================================\n",
        "Dep. Variable:     domestic_without_opening_log   R-squared:                       0.489\n",
        "Model:                                      OLS   Adj. R-squared:                  0.488\n",
        "Method:                           Least Squares   F-statistic:                     292.4\n",
        "Date:                          Mon, 29 Sep 2014   Prob (F-statistic):           1.92e-46\n",
        "Time:                                  15:37:34   Log-Likelihood:                -425.75\n",
        "No. Observations:                           307   AIC:                             855.5\n",
        "Df Residuals:                               305   BIC:                             863.0\n",
        "Df Model:                                     1                                         \n",
        "===========================================================================================\n",
        "                              coef    std err          t      P>|t|      [95.0% Conf. Int.]\n",
        "-------------------------------------------------------------------------------------------\n",
        "openingweekendgross_log     0.4644      0.027     17.101      0.000         0.411     0.518\n",
        "ones                        9.4022      0.402     23.386      0.000         8.611    10.193\n",
        "==============================================================================\n",
        "Omnibus:                        3.273   Durbin-Watson:                   1.114\n",
        "Prob(Omnibus):                  0.195   Jarque-Bera (JB):                3.725\n",
        "Skew:                           0.038   Prob(JB):                        0.155\n",
        "Kurtosis:                       3.534   Cond. No.                         108.\n",
        "==============================================================================\n",
        "\"\"\""
       ]
      }
     ],
     "prompt_number": 34
    },
    {
     "cell_type": "code",
     "collapsed": false,
     "input": [
      "print len (small_training_movies.openingweekendgross_log)\n",
      "print len (linmodel_opening.predict(X_small_opening_training))"
     ],
     "language": "python",
     "metadata": {},
     "outputs": [
      {
       "output_type": "stream",
       "stream": "stdout",
       "text": [
        "307\n",
        "307\n"
       ]
      }
     ],
     "prompt_number": 35
    },
    {
     "cell_type": "code",
     "collapsed": false,
     "input": [
      "plt.scatter(small_training_movies.openingweekendgross_log, small_training_movies.domestic_without_opening_log)\n",
      "plt.xlabel('Opening Weekend')\n",
      "plt.ylabel('Box Office \\n(not including opening weekend)')\n",
      "plt.plot(small_training_movies.openingweekendgross_log, linmodel_opening.predict(X_small_opening_training), 'r', linewidth=2)\n",
      "\n",
      "# from statsmodels.sandbox.regression.predstd import wls_prediction_std\n",
      "# prstd1, conf_lower1, conf_upper1 = wls_prediction_std(linmodel_small_opening_training)\n",
      "# plt.plot(small_training_movies['openingweekendgross_log'], conf_lower1, 'y--', linewidth = 2)\n",
      "# plt.plot(small_training_movies['openingweekendgross_log'], conf_upper1, 'y--', linewidth = 2)"
     ],
     "language": "python",
     "metadata": {},
     "outputs": [
      {
       "metadata": {},
       "output_type": "pyout",
       "prompt_number": 36,
       "text": [
        "[<matplotlib.lines.Line2D at 0x10bcad150>]"
       ]
      }
     ],
     "prompt_number": 36
    },
    {
     "cell_type": "code",
     "collapsed": false,
     "input": [
      "X_small_opening_test = small_test_movies[['openingweekendgross','ones']]\n",
      "Y_small_opening_test = small_test_movies['domestic_without_opening']\n",
      "linmodel_small_opening_test = sm.OLS(Y_small_opening_test, X_small_opening_test).fit()\n",
      "linmodel_small_opening_training = sm.OLS(Y_small_opening_training, X_small_opening_training).fit()\n",
      "\n",
      "linmodel_opening_test.summary()\n"
     ],
     "language": "python",
     "metadata": {},
     "outputs": [
      {
       "html": [
        "<table class=\"simpletable\">\n",
        "<caption>OLS Regression Results</caption>\n",
        "<tr>\n",
        "  <th>Dep. Variable:</th>    <td>domestic_without_opening</td> <th>  R-squared:         </th> <td>   0.190</td>\n",
        "</tr>\n",
        "<tr>\n",
        "  <th>Model:</th>                       <td>OLS</td>           <th>  Adj. R-squared:    </th> <td>   0.182</td>\n",
        "</tr>\n",
        "<tr>\n",
        "  <th>Method:</th>                 <td>Least Squares</td>      <th>  F-statistic:       </th> <td>   23.49</td>\n",
        "</tr>\n",
        "<tr>\n",
        "  <th>Date:</th>                 <td>Mon, 29 Sep 2014</td>     <th>  Prob (F-statistic):</th> <td>4.60e-06</td>\n",
        "</tr>\n",
        "<tr>\n",
        "  <th>Time:</th>                     <td>15:40:21</td>         <th>  Log-Likelihood:    </th> <td> -1917.4</td>\n",
        "</tr>\n",
        "<tr>\n",
        "  <th>No. Observations:</th>          <td>   102</td>          <th>  AIC:               </th> <td>   3839.</td>\n",
        "</tr>\n",
        "<tr>\n",
        "  <th>Df Residuals:</th>              <td>   100</td>          <th>  BIC:               </th> <td>   3844.</td>\n",
        "</tr>\n",
        "<tr>\n",
        "  <th>Df Model:</th>                  <td>     1</td>          <th>                     </th>     <td> </td>   \n",
        "</tr>\n",
        "</table>\n",
        "<table class=\"simpletable\">\n",
        "<tr>\n",
        "           <td></td>              <th>coef</th>     <th>std err</th>      <th>t</th>      <th>P>|t|</th> <th>[95.0% Conf. Int.]</th> \n",
        "</tr>\n",
        "<tr>\n",
        "  <th>openingweekendgross</th> <td>    1.8547</td> <td>    0.383</td> <td>    4.847</td> <td> 0.000</td> <td>    1.096     2.614</td>\n",
        "</tr>\n",
        "<tr>\n",
        "  <th>ones</th>                <td> 1.611e+07</td> <td> 4.65e+06</td> <td>    3.464</td> <td> 0.001</td> <td> 6.88e+06  2.53e+07</td>\n",
        "</tr>\n",
        "</table>\n",
        "<table class=\"simpletable\">\n",
        "<tr>\n",
        "  <th>Omnibus:</th>       <td>99.665</td> <th>  Durbin-Watson:     </th> <td>   1.512</td> \n",
        "</tr>\n",
        "<tr>\n",
        "  <th>Prob(Omnibus):</th> <td> 0.000</td> <th>  Jarque-Bera (JB):  </th> <td>1093.136</td> \n",
        "</tr>\n",
        "<tr>\n",
        "  <th>Skew:</th>          <td> 3.253</td> <th>  Prob(JB):          </th> <td>4.25e-238</td>\n",
        "</tr>\n",
        "<tr>\n",
        "  <th>Kurtosis:</th>      <td>17.659</td> <th>  Cond. No.          </th> <td>1.60e+07</td> \n",
        "</tr>\n",
        "</table>"
       ],
       "metadata": {},
       "output_type": "pyout",
       "prompt_number": 52,
       "text": [
        "<class 'statsmodels.iolib.summary.Summary'>\n",
        "\"\"\"\n",
        "                               OLS Regression Results                               \n",
        "====================================================================================\n",
        "Dep. Variable:     domestic_without_opening   R-squared:                       0.190\n",
        "Model:                                  OLS   Adj. R-squared:                  0.182\n",
        "Method:                       Least Squares   F-statistic:                     23.49\n",
        "Date:                      Mon, 29 Sep 2014   Prob (F-statistic):           4.60e-06\n",
        "Time:                              15:40:21   Log-Likelihood:                -1917.4\n",
        "No. Observations:                       102   AIC:                             3839.\n",
        "Df Residuals:                           100   BIC:                             3844.\n",
        "Df Model:                                 1                                         \n",
        "=======================================================================================\n",
        "                          coef    std err          t      P>|t|      [95.0% Conf. Int.]\n",
        "---------------------------------------------------------------------------------------\n",
        "openingweekendgross     1.8547      0.383      4.847      0.000         1.096     2.614\n",
        "ones                 1.611e+07   4.65e+06      3.464      0.001      6.88e+06  2.53e+07\n",
        "==============================================================================\n",
        "Omnibus:                       99.665   Durbin-Watson:                   1.512\n",
        "Prob(Omnibus):                  0.000   Jarque-Bera (JB):             1093.136\n",
        "Skew:                           3.253   Prob(JB):                    4.25e-238\n",
        "Kurtosis:                      17.659   Cond. No.                     1.60e+07\n",
        "==============================================================================\n",
        "\n",
        "Warnings:\n",
        "[1] The condition number is large, 1.6e+07. This might indicate that there are\n",
        "strong multicollinearity or other numerical problems.\n",
        "\"\"\""
       ]
      }
     ],
     "prompt_number": 52
    },
    {
     "cell_type": "code",
     "collapsed": false,
     "input": [
      "plt.scatter(np.exp(small_test_movies.openingweekendgross_log), np.exp(small_test_movies.domestic_without_opening_log))\n",
      "plt.xlabel('Opening Weekend')\n",
      "plt.ylabel('Box Office \\n(not including opening weekend)')\n",
      "plt.plot(np.exp(small_test_movies.openingweekendgross_log), np.exp(linmodel_opening_training.predict(X_small_opening_test)),'rs')"
     ],
     "language": "python",
     "metadata": {},
     "outputs": [
      {
       "metadata": {},
       "output_type": "pyout",
       "prompt_number": 38,
       "text": [
        "[<matplotlib.lines.Line2D at 0x10e24a6d0>]"
       ]
      }
     ],
     "prompt_number": 38
    },
    {
     "cell_type": "code",
     "collapsed": false,
     "input": [
      "big_rows = random.sample(movies_big_budget.index.values, 101)"
     ],
     "language": "python",
     "metadata": {},
     "outputs": [],
     "prompt_number": 39
    },
    {
     "cell_type": "code",
     "collapsed": false,
     "input": [
      "big_test_movies = movies_big_budget.ix[big_rows]\n",
      "big_training_movies = movies_big_budget.drop(big_rows)"
     ],
     "language": "python",
     "metadata": {},
     "outputs": [],
     "prompt_number": 40
    },
    {
     "cell_type": "code",
     "collapsed": false,
     "input": [
      "X_big_opening_training = big_training_movies[['openingweekendgross_log','ones']]\n",
      "Y_big_opening_training = big_training_movies.domestic_without_opening_log\n",
      "linmodel_big_opening_training = sm.OLS(Y_big_opening_training, X_big_opening_training).fit()\n",
      "linmodel_big_opening_training.summary()"
     ],
     "language": "python",
     "metadata": {},
     "outputs": [
      {
       "html": [
        "<table class=\"simpletable\">\n",
        "<caption>OLS Regression Results</caption>\n",
        "<tr>\n",
        "  <th>Dep. Variable:</th>    <td>domestic_without_opening_log</td> <th>  R-squared:         </th> <td>   0.714</td>\n",
        "</tr>\n",
        "<tr>\n",
        "  <th>Model:</th>                         <td>OLS</td>             <th>  Adj. R-squared:    </th> <td>   0.713</td>\n",
        "</tr>\n",
        "<tr>\n",
        "  <th>Method:</th>                   <td>Least Squares</td>        <th>  F-statistic:       </th> <td>   752.5</td>\n",
        "</tr>\n",
        "<tr>\n",
        "  <th>Date:</th>                   <td>Mon, 29 Sep 2014</td>       <th>  Prob (F-statistic):</th> <td>7.11e-84</td>\n",
        "</tr>\n",
        "<tr>\n",
        "  <th>Time:</th>                       <td>15:37:34</td>           <th>  Log-Likelihood:    </th> <td> -188.91</td>\n",
        "</tr>\n",
        "<tr>\n",
        "  <th>No. Observations:</th>            <td>   303</td>            <th>  AIC:               </th> <td>   381.8</td>\n",
        "</tr>\n",
        "<tr>\n",
        "  <th>Df Residuals:</th>                <td>   301</td>            <th>  BIC:               </th> <td>   389.2</td>\n",
        "</tr>\n",
        "<tr>\n",
        "  <th>Df Model:</th>                    <td>     1</td>            <th>                     </th>     <td> </td>   \n",
        "</tr>\n",
        "</table>\n",
        "<table class=\"simpletable\">\n",
        "<tr>\n",
        "             <td></td>                <th>coef</th>     <th>std err</th>      <th>t</th>      <th>P>|t|</th> <th>[95.0% Conf. Int.]</th> \n",
        "</tr>\n",
        "<tr>\n",
        "  <th>openingweekendgross_log</th> <td>    0.9435</td> <td>    0.034</td> <td>   27.432</td> <td> 0.000</td> <td>    0.876     1.011</td>\n",
        "</tr>\n",
        "<tr>\n",
        "  <th>ones</th>                    <td>    1.8426</td> <td>    0.594</td> <td>    3.100</td> <td> 0.002</td> <td>    0.673     3.012</td>\n",
        "</tr>\n",
        "</table>\n",
        "<table class=\"simpletable\">\n",
        "<tr>\n",
        "  <th>Omnibus:</th>       <td>28.124</td> <th>  Durbin-Watson:     </th> <td>   1.575</td>\n",
        "</tr>\n",
        "<tr>\n",
        "  <th>Prob(Omnibus):</th> <td> 0.000</td> <th>  Jarque-Bera (JB):  </th> <td>  38.249</td>\n",
        "</tr>\n",
        "<tr>\n",
        "  <th>Skew:</th>          <td> 0.651</td> <th>  Prob(JB):          </th> <td>4.95e-09</td>\n",
        "</tr>\n",
        "<tr>\n",
        "  <th>Kurtosis:</th>      <td> 4.156</td> <th>  Cond. No.          </th> <td>    396.</td>\n",
        "</tr>\n",
        "</table>"
       ],
       "metadata": {},
       "output_type": "pyout",
       "prompt_number": 41,
       "text": [
        "<class 'statsmodels.iolib.summary.Summary'>\n",
        "\"\"\"\n",
        "                                 OLS Regression Results                                 \n",
        "========================================================================================\n",
        "Dep. Variable:     domestic_without_opening_log   R-squared:                       0.714\n",
        "Model:                                      OLS   Adj. R-squared:                  0.713\n",
        "Method:                           Least Squares   F-statistic:                     752.5\n",
        "Date:                          Mon, 29 Sep 2014   Prob (F-statistic):           7.11e-84\n",
        "Time:                                  15:37:34   Log-Likelihood:                -188.91\n",
        "No. Observations:                           303   AIC:                             381.8\n",
        "Df Residuals:                               301   BIC:                             389.2\n",
        "Df Model:                                     1                                         \n",
        "===========================================================================================\n",
        "                              coef    std err          t      P>|t|      [95.0% Conf. Int.]\n",
        "-------------------------------------------------------------------------------------------\n",
        "openingweekendgross_log     0.9435      0.034     27.432      0.000         0.876     1.011\n",
        "ones                        1.8426      0.594      3.100      0.002         0.673     3.012\n",
        "==============================================================================\n",
        "Omnibus:                       28.124   Durbin-Watson:                   1.575\n",
        "Prob(Omnibus):                  0.000   Jarque-Bera (JB):               38.249\n",
        "Skew:                           0.651   Prob(JB):                     4.95e-09\n",
        "Kurtosis:                       4.156   Cond. No.                         396.\n",
        "==============================================================================\n",
        "\"\"\""
       ]
      }
     ],
     "prompt_number": 41
    },
    {
     "cell_type": "code",
     "collapsed": false,
     "input": [
      "X_big_opening_test = big_test_movies[['openingweekendgross','ones']]\n",
      "Y_big_opening_test = big_test_movies.domestic_without_opening\n",
      "linmodel_big_opening_test = sm.OLS(Y_big_opening_test, X_big_opening_test).fit()\n",
      "linmodel_big_opening_test.summary()"
     ],
     "language": "python",
     "metadata": {},
     "outputs": [
      {
       "html": [
        "<table class=\"simpletable\">\n",
        "<caption>OLS Regression Results</caption>\n",
        "<tr>\n",
        "  <th>Dep. Variable:</th>    <td>domestic_without_opening</td> <th>  R-squared:         </th> <td>   0.740</td>\n",
        "</tr>\n",
        "<tr>\n",
        "  <th>Model:</th>                       <td>OLS</td>           <th>  Adj. R-squared:    </th> <td>   0.737</td>\n",
        "</tr>\n",
        "<tr>\n",
        "  <th>Method:</th>                 <td>Least Squares</td>      <th>  F-statistic:       </th> <td>   281.2</td>\n",
        "</tr>\n",
        "<tr>\n",
        "  <th>Date:</th>                 <td>Mon, 29 Sep 2014</td>     <th>  Prob (F-statistic):</th> <td>1.10e-30</td>\n",
        "</tr>\n",
        "<tr>\n",
        "  <th>Time:</th>                     <td>15:37:35</td>         <th>  Log-Likelihood:    </th> <td> -1913.3</td>\n",
        "</tr>\n",
        "<tr>\n",
        "  <th>No. Observations:</th>          <td>   101</td>          <th>  AIC:               </th> <td>   3831.</td>\n",
        "</tr>\n",
        "<tr>\n",
        "  <th>Df Residuals:</th>              <td>    99</td>          <th>  BIC:               </th> <td>   3836.</td>\n",
        "</tr>\n",
        "<tr>\n",
        "  <th>Df Model:</th>                  <td>     1</td>          <th>                     </th>     <td> </td>   \n",
        "</tr>\n",
        "</table>\n",
        "<table class=\"simpletable\">\n",
        "<tr>\n",
        "           <td></td>              <th>coef</th>     <th>std err</th>      <th>t</th>      <th>P>|t|</th> <th>[95.0% Conf. Int.]</th> \n",
        "</tr>\n",
        "<tr>\n",
        "  <th>openingweekendgross</th> <td>    1.8680</td> <td>    0.111</td> <td>   16.768</td> <td> 0.000</td> <td>    1.647     2.089</td>\n",
        "</tr>\n",
        "<tr>\n",
        "  <th>ones</th>                <td> 1.791e+07</td> <td> 6.46e+06</td> <td>    2.773</td> <td> 0.007</td> <td>  5.1e+06  3.07e+07</td>\n",
        "</tr>\n",
        "</table>\n",
        "<table class=\"simpletable\">\n",
        "<tr>\n",
        "  <th>Omnibus:</th>       <td>34.977</td> <th>  Durbin-Watson:     </th> <td>   2.129</td>\n",
        "</tr>\n",
        "<tr>\n",
        "  <th>Prob(Omnibus):</th> <td> 0.000</td> <th>  Jarque-Bera (JB):  </th> <td> 116.790</td>\n",
        "</tr>\n",
        "<tr>\n",
        "  <th>Skew:</th>          <td> 1.115</td> <th>  Prob(JB):          </th> <td>4.36e-26</td>\n",
        "</tr>\n",
        "<tr>\n",
        "  <th>Kurtosis:</th>      <td> 7.773</td> <th>  Cond. No.          </th> <td>9.13e+07</td>\n",
        "</tr>\n",
        "</table>"
       ],
       "metadata": {},
       "output_type": "pyout",
       "prompt_number": 42,
       "text": [
        "<class 'statsmodels.iolib.summary.Summary'>\n",
        "\"\"\"\n",
        "                               OLS Regression Results                               \n",
        "====================================================================================\n",
        "Dep. Variable:     domestic_without_opening   R-squared:                       0.740\n",
        "Model:                                  OLS   Adj. R-squared:                  0.737\n",
        "Method:                       Least Squares   F-statistic:                     281.2\n",
        "Date:                      Mon, 29 Sep 2014   Prob (F-statistic):           1.10e-30\n",
        "Time:                              15:37:35   Log-Likelihood:                -1913.3\n",
        "No. Observations:                       101   AIC:                             3831.\n",
        "Df Residuals:                            99   BIC:                             3836.\n",
        "Df Model:                                 1                                         \n",
        "=======================================================================================\n",
        "                          coef    std err          t      P>|t|      [95.0% Conf. Int.]\n",
        "---------------------------------------------------------------------------------------\n",
        "openingweekendgross     1.8680      0.111     16.768      0.000         1.647     2.089\n",
        "ones                 1.791e+07   6.46e+06      2.773      0.007       5.1e+06  3.07e+07\n",
        "==============================================================================\n",
        "Omnibus:                       34.977   Durbin-Watson:                   2.129\n",
        "Prob(Omnibus):                  0.000   Jarque-Bera (JB):              116.790\n",
        "Skew:                           1.115   Prob(JB):                     4.36e-26\n",
        "Kurtosis:                       7.773   Cond. No.                     9.13e+07\n",
        "==============================================================================\n",
        "\n",
        "Warnings:\n",
        "[1] The condition number is large, 9.13e+07. This might indicate that there are\n",
        "strong multicollinearity or other numerical problems.\n",
        "\"\"\""
       ]
      }
     ],
     "prompt_number": 42
    },
    {
     "cell_type": "code",
     "collapsed": false,
     "input": [
      "b = mean_squared_error(np.exp(Y_big_opening_test), np.exp(linmodel_big_opening_training.predict(X_big_opening_test)))\n",
      "print math.sqrt(b)"
     ],
     "language": "python",
     "metadata": {},
     "outputs": [
      {
       "ename": "ValueError",
       "evalue": "Input contains NaN, infinity or a value too large for dtype('float64').",
       "output_type": "pyerr",
       "traceback": [
        "\u001b[0;31m---------------------------------------------------------------------------\u001b[0m\n\u001b[0;31mValueError\u001b[0m                                Traceback (most recent call last)",
        "\u001b[0;32m<ipython-input-44-7d730426375c>\u001b[0m in \u001b[0;36m<module>\u001b[0;34m()\u001b[0m\n\u001b[0;32m----> 1\u001b[0;31m \u001b[0mb\u001b[0m \u001b[0;34m=\u001b[0m \u001b[0mmean_squared_error\u001b[0m\u001b[0;34m(\u001b[0m\u001b[0mnp\u001b[0m\u001b[0;34m.\u001b[0m\u001b[0mexp\u001b[0m\u001b[0;34m(\u001b[0m\u001b[0mY_big_opening_test\u001b[0m\u001b[0;34m)\u001b[0m\u001b[0;34m,\u001b[0m \u001b[0mnp\u001b[0m\u001b[0;34m.\u001b[0m\u001b[0mexp\u001b[0m\u001b[0;34m(\u001b[0m\u001b[0mlinmodel_big_opening_training\u001b[0m\u001b[0;34m.\u001b[0m\u001b[0mpredict\u001b[0m\u001b[0;34m(\u001b[0m\u001b[0mX_big_opening_test\u001b[0m\u001b[0;34m)\u001b[0m\u001b[0;34m)\u001b[0m\u001b[0;34m)\u001b[0m\u001b[0;34m\u001b[0m\u001b[0m\n\u001b[0m\u001b[1;32m      2\u001b[0m \u001b[0;32mprint\u001b[0m \u001b[0mmath\u001b[0m\u001b[0;34m.\u001b[0m\u001b[0msqrt\u001b[0m\u001b[0;34m(\u001b[0m\u001b[0mb\u001b[0m\u001b[0;34m)\u001b[0m\u001b[0;34m\u001b[0m\u001b[0m\n",
        "\u001b[0;32m/usr/local/lib/python2.7/site-packages/sklearn/metrics/metrics.pyc\u001b[0m in \u001b[0;36mmean_squared_error\u001b[0;34m(y_true, y_pred, sample_weight)\u001b[0m\n\u001b[1;32m   2217\u001b[0m \u001b[0;34m\u001b[0m\u001b[0m\n\u001b[1;32m   2218\u001b[0m     \"\"\"\n\u001b[0;32m-> 2219\u001b[0;31m     \u001b[0my_type\u001b[0m\u001b[0;34m,\u001b[0m \u001b[0my_true\u001b[0m\u001b[0;34m,\u001b[0m \u001b[0my_pred\u001b[0m \u001b[0;34m=\u001b[0m \u001b[0m_check_reg_targets\u001b[0m\u001b[0;34m(\u001b[0m\u001b[0my_true\u001b[0m\u001b[0;34m,\u001b[0m \u001b[0my_pred\u001b[0m\u001b[0;34m)\u001b[0m\u001b[0;34m\u001b[0m\u001b[0m\n\u001b[0m\u001b[1;32m   2220\u001b[0m     return np.average(((y_pred - y_true) ** 2).mean(axis=1),\n\u001b[1;32m   2221\u001b[0m                       weights=sample_weight)\n",
        "\u001b[0;32m/usr/local/lib/python2.7/site-packages/sklearn/metrics/metrics.pyc\u001b[0m in \u001b[0;36m_check_reg_targets\u001b[0;34m(y_true, y_pred)\u001b[0m\n\u001b[1;32m     63\u001b[0m         \u001b[0mEstimated\u001b[0m \u001b[0mtarget\u001b[0m \u001b[0mvalues\u001b[0m\u001b[0;34m.\u001b[0m\u001b[0;34m\u001b[0m\u001b[0m\n\u001b[1;32m     64\u001b[0m     \"\"\"\n\u001b[0;32m---> 65\u001b[0;31m     \u001b[0my_true\u001b[0m\u001b[0;34m,\u001b[0m \u001b[0my_pred\u001b[0m \u001b[0;34m=\u001b[0m \u001b[0mcheck_arrays\u001b[0m\u001b[0;34m(\u001b[0m\u001b[0my_true\u001b[0m\u001b[0;34m,\u001b[0m \u001b[0my_pred\u001b[0m\u001b[0;34m)\u001b[0m\u001b[0;34m\u001b[0m\u001b[0m\n\u001b[0m\u001b[1;32m     66\u001b[0m \u001b[0;34m\u001b[0m\u001b[0m\n\u001b[1;32m     67\u001b[0m     \u001b[0;32mif\u001b[0m \u001b[0my_true\u001b[0m\u001b[0;34m.\u001b[0m\u001b[0mndim\u001b[0m \u001b[0;34m==\u001b[0m \u001b[0;36m1\u001b[0m\u001b[0;34m:\u001b[0m\u001b[0;34m\u001b[0m\u001b[0m\n",
        "\u001b[0;32m/usr/local/lib/python2.7/site-packages/sklearn/utils/validation.pyc\u001b[0m in \u001b[0;36mcheck_arrays\u001b[0;34m(*arrays, **options)\u001b[0m\n\u001b[1;32m    281\u001b[0m                     \u001b[0marray\u001b[0m \u001b[0;34m=\u001b[0m \u001b[0mnp\u001b[0m\u001b[0;34m.\u001b[0m\u001b[0masarray\u001b[0m\u001b[0;34m(\u001b[0m\u001b[0marray\u001b[0m\u001b[0;34m,\u001b[0m \u001b[0mdtype\u001b[0m\u001b[0;34m=\u001b[0m\u001b[0mdtype\u001b[0m\u001b[0;34m)\u001b[0m\u001b[0;34m\u001b[0m\u001b[0m\n\u001b[1;32m    282\u001b[0m                 \u001b[0;32mif\u001b[0m \u001b[0;32mnot\u001b[0m \u001b[0mallow_nans\u001b[0m\u001b[0;34m:\u001b[0m\u001b[0;34m\u001b[0m\u001b[0m\n\u001b[0;32m--> 283\u001b[0;31m                     \u001b[0m_assert_all_finite\u001b[0m\u001b[0;34m(\u001b[0m\u001b[0marray\u001b[0m\u001b[0;34m)\u001b[0m\u001b[0;34m\u001b[0m\u001b[0m\n\u001b[0m\u001b[1;32m    284\u001b[0m \u001b[0;34m\u001b[0m\u001b[0m\n\u001b[1;32m    285\u001b[0m             \u001b[0;32mif\u001b[0m \u001b[0;32mnot\u001b[0m \u001b[0mallow_nd\u001b[0m \u001b[0;32mand\u001b[0m \u001b[0marray\u001b[0m\u001b[0;34m.\u001b[0m\u001b[0mndim\u001b[0m \u001b[0;34m>=\u001b[0m \u001b[0;36m3\u001b[0m\u001b[0;34m:\u001b[0m\u001b[0;34m\u001b[0m\u001b[0m\n",
        "\u001b[0;32m/usr/local/lib/python2.7/site-packages/sklearn/utils/validation.pyc\u001b[0m in \u001b[0;36m_assert_all_finite\u001b[0;34m(X)\u001b[0m\n\u001b[1;32m     41\u001b[0m             and not np.isfinite(X).all()):\n\u001b[1;32m     42\u001b[0m         raise ValueError(\"Input contains NaN, infinity\"\n\u001b[0;32m---> 43\u001b[0;31m                          \" or a value too large for %r.\" % X.dtype)\n\u001b[0m\u001b[1;32m     44\u001b[0m \u001b[0;34m\u001b[0m\u001b[0m\n\u001b[1;32m     45\u001b[0m \u001b[0;34m\u001b[0m\u001b[0m\n",
        "\u001b[0;31mValueError\u001b[0m: Input contains NaN, infinity or a value too large for dtype('float64')."
       ]
      }
     ],
     "prompt_number": 44
    },
    {
     "cell_type": "code",
     "collapsed": false,
     "input": [
      "import math\n",
      "s = mean_squared_error(np.exp(Y_small_opening_test), np.exp(linmodel_small_opening_training.predict(X_small_opening_test)))\n",
      "print math.sqrt(s)"
     ],
     "language": "python",
     "metadata": {},
     "outputs": [
      {
       "ename": "NameError",
       "evalue": "name 'linmodel_small_opening_training' is not defined",
       "output_type": "pyerr",
       "traceback": [
        "\u001b[0;31m---------------------------------------------------------------------------\u001b[0m\n\u001b[0;31mNameError\u001b[0m                                 Traceback (most recent call last)",
        "\u001b[0;32m<ipython-input-51-c75de629606b>\u001b[0m in \u001b[0;36m<module>\u001b[0;34m()\u001b[0m\n\u001b[1;32m      1\u001b[0m \u001b[0;32mimport\u001b[0m \u001b[0mmath\u001b[0m\u001b[0;34m\u001b[0m\u001b[0m\n\u001b[0;32m----> 2\u001b[0;31m \u001b[0ms\u001b[0m \u001b[0;34m=\u001b[0m \u001b[0mmean_squared_error\u001b[0m\u001b[0;34m(\u001b[0m\u001b[0mnp\u001b[0m\u001b[0;34m.\u001b[0m\u001b[0mexp\u001b[0m\u001b[0;34m(\u001b[0m\u001b[0mY_small_opening_test\u001b[0m\u001b[0;34m)\u001b[0m\u001b[0;34m,\u001b[0m \u001b[0mnp\u001b[0m\u001b[0;34m.\u001b[0m\u001b[0mexp\u001b[0m\u001b[0;34m(\u001b[0m\u001b[0mlinmodel_small_opening_training\u001b[0m\u001b[0;34m.\u001b[0m\u001b[0mpredict\u001b[0m\u001b[0;34m(\u001b[0m\u001b[0mX_small_opening_test\u001b[0m\u001b[0;34m)\u001b[0m\u001b[0;34m)\u001b[0m\u001b[0;34m)\u001b[0m\u001b[0;34m\u001b[0m\u001b[0m\n\u001b[0m\u001b[1;32m      3\u001b[0m \u001b[0;32mprint\u001b[0m \u001b[0mmath\u001b[0m\u001b[0;34m.\u001b[0m\u001b[0msqrt\u001b[0m\u001b[0;34m(\u001b[0m\u001b[0ms\u001b[0m\u001b[0;34m)\u001b[0m\u001b[0;34m\u001b[0m\u001b[0m\n",
        "\u001b[0;31mNameError\u001b[0m: name 'linmodel_small_opening_training' is not defined"
       ]
      }
     ],
     "prompt_number": 51
    },
    {
     "cell_type": "code",
     "collapsed": false,
     "input": [
      "budget_residual_small = linmodel_small_opening.resid\n",
      "budget_std_small = np.std(budget_residual_small)\n",
      "print budget_std_small"
     ],
     "language": "python",
     "metadata": {},
     "outputs": []
    },
    {
     "cell_type": "code",
     "collapsed": false,
     "input": [
      "budget_residual_big = linmodel_big_opening.resid\n",
      "budget_std_big = np.std(budget_residual_big)\n",
      "print budget_std_big"
     ],
     "language": "python",
     "metadata": {},
     "outputs": []
    },
    {
     "cell_type": "code",
     "collapsed": false,
     "input": [
      "# budget_div_list = movies_final['budget_div_log'].tolist()"
     ],
     "language": "python",
     "metadata": {},
     "outputs": []
    },
    {
     "cell_type": "code",
     "collapsed": false,
     "input": [
      "import random \n",
      "import math\n",
      "expected_outcome = []\n",
      "\n",
      "def underlying_gross_model(x):\n",
      "    return 0.2514*x+17.9154+random.gauss(0, 0.997693431706)\n",
      "\n",
      "for x in movies_final.opening_div_budget_log:\n",
      "    value = underlying_gross_model(x)\n",
      "    expected_outcome.append(value)\n",
      "\n",
      "movies_final['simulated'] = expected_outcome"
     ],
     "language": "python",
     "metadata": {},
     "outputs": []
    },
    {
     "cell_type": "code",
     "collapsed": false,
     "input": [
      "movies_final.head()"
     ],
     "language": "python",
     "metadata": {},
     "outputs": []
    },
    {
     "cell_type": "code",
     "collapsed": false,
     "input": [
      "#challenge 1\n",
      "plt.plot(movies_final.opening_div_budget_log, movies_final.domestic_without_opening_log, 'bx')\n",
      "plt.xlabel('Log(Opening/Budget)')\n",
      "plt.ylabel('Box Office Without Opening')\n",
      "plt.plot(movies_final.opening_div_budget_log, movies_final.simulated, 'rx')"
     ],
     "language": "python",
     "metadata": {},
     "outputs": []
    },
    {
     "cell_type": "code",
     "collapsed": false,
     "input": [
      "#start challenge 2\n",
      "expected_outcome_2 = []\n",
      "\n",
      "def underlying_gross_model_2(x):\n",
      "    return .2*x+5+random.gauss(0, 12)\n",
      "\n",
      "for x in movies_final.opening_div_budget_log:\n",
      "    value = underlying_gross_model(x)\n",
      "    expected_outcome_2.append(value)\n",
      "\n",
      "movies_final['experiment'] = expected_outcome_2"
     ],
     "language": "python",
     "metadata": {},
     "outputs": []
    },
    {
     "cell_type": "code",
     "collapsed": false,
     "input": [
      "expected_outcome_3 = []\n",
      "\n",
      "def underlying_gross_model_3(x):\n",
      "    return .2*(log(x))+5+random.gauss(0, 12)\n",
      "\n",
      "for x in movies_final.opening_div_budget_log:\n",
      "    value = underlying_gross_model(x)\n",
      "    expected_outcome_3.append(value)\n",
      "movies_final['experiment_2'] = expected_outcome_3\n",
      "movies_final.head()"
     ],
     "language": "python",
     "metadata": {},
     "outputs": []
    },
    {
     "cell_type": "code",
     "collapsed": false,
     "input": [
      "expected_outcome_4 = []\n",
      "\n",
      "def underlying_gross_model_4(x):\n",
      "    return .2*(x**6)+5+random.gauss(0, 12)\n",
      "\n",
      "for x in movies_final.opening_div_budget_log:\n",
      "    value = underlying_gross_model(x)\n",
      "    expected_outcome_4.append(value)\n",
      "movies_final['experiment_3'] = expected_outcome_4\n",
      "movies_final.head()"
     ],
     "language": "python",
     "metadata": {},
     "outputs": []
    },
    {
     "cell_type": "code",
     "collapsed": false,
     "input": [],
     "language": "python",
     "metadata": {},
     "outputs": []
    },
    {
     "cell_type": "code",
     "collapsed": false,
     "input": [
      "#challenge 2\n",
      "plt.plot(movies_small_budget.opening_div_budget_log, movies_small_budget.experiment, 'ro')\n",
      "plt.plot(movies_small_budget.opening_div_budget_log, movies_small_budget.experiment_2, 'bo')\n",
      "plt.plot(movies_small_budget.opening_div_budget_log, movies_small_budget.experiment_3, 'go')"
     ],
     "language": "python",
     "metadata": {},
     "outputs": []
    },
    {
     "cell_type": "code",
     "collapsed": false,
     "input": [
      "rows = random.sample(movies_final.index.values, 450)"
     ],
     "language": "python",
     "metadata": {},
     "outputs": []
    },
    {
     "cell_type": "code",
     "collapsed": false,
     "input": [
      "test_movies = movies_final.ix[rows]\n",
      "training_movies = movies_final.drop(rows)"
     ],
     "language": "python",
     "metadata": {},
     "outputs": []
    },
    {
     "cell_type": "code",
     "collapsed": false,
     "input": [
      "# power_of_feature = movies_final[['opening_div_budget_log','opening_div_budget_2','opening_div_budget_3','opening_div_budget_4',\n",
      "#                     'opening_div_budget_5','opening_div_budget_6','opening_div_budget_7','opening_div_budget_8']]\n",
      "# power_of_feature.head()"
     ],
     "language": "python",
     "metadata": {},
     "outputs": []
    },
    {
     "cell_type": "code",
     "collapsed": false,
     "input": [
      "# for x in power_of_feature.iteritems(columns):\n",
      "#     print x\n",
      "# X_training = training_movies[['opening_div_budget_log','opening_div_budget_2','opening_div_budget_3','opening_div_budget_4',\n",
      "#                               'opening_div_budget_5','opening_div_budget_6','opening_div_budget_7','ones']]\n",
      "# Y_training = training_movies['domestic_without_opening_log']\n",
      "# linmodel_training = sm.OLS(Y_training, X_training).fit()\n",
      "# linmodel_training.summary()"
     ],
     "language": "python",
     "metadata": {},
     "outputs": []
    },
    {
     "cell_type": "code",
     "collapsed": false,
     "input": [],
     "language": "python",
     "metadata": {},
     "outputs": []
    },
    {
     "cell_type": "code",
     "collapsed": false,
     "input": [
      "training_list =[]\n",
      "test_list = []"
     ],
     "language": "python",
     "metadata": {},
     "outputs": []
    },
    {
     "cell_type": "code",
     "collapsed": false,
     "input": [
      "X_training = training_movies[['opening_div_budget_log','ones']]\n",
      "Y_training = training_movies['domestic_without_opening_log']\n",
      "linmodel_training = sm.OLS(Y_training, X_training).fit()\n",
      "\n",
      "X_test =test_movies[['opening_div_budget_log','ones']]\n",
      "Y_test = test_movies['domestic_without_opening_log']\n",
      "\n",
      "training_error = mean_squared_error(Y_training,linmodel_training.predict(X_training))\n",
      "training_list.append(training_error)\n",
      "print 'training error: %s' %training_error\n",
      "test_error = mean_squared_error(Y_test, linmodel_training.predict(X_test))\n",
      "test_list.append(test_error)\n",
      "print 'test error: %s' %test_error\n",
      "linmodel_training.summary()"
     ],
     "language": "python",
     "metadata": {},
     "outputs": []
    },
    {
     "cell_type": "code",
     "collapsed": false,
     "input": [
      "X_training = training_movies[['opening_div_budget_log','opening_div_budget_2','ones']]\n",
      "Y_training = training_movies['domestic_without_opening_log']\n",
      "linmodel_training = sm.OLS(Y_training, X_training).fit()\n",
      "\n",
      "X_test =test_movies[['opening_div_budget_log','opening_div_budget_2','ones']]\n",
      "Y_test = test_movies['domestic_without_opening_log']\n",
      "\n",
      "training_error = mean_squared_error(Y_training,linmodel_training.predict(X_training))\n",
      "training_list.append(training_error)\n",
      "print 'training error: %s' %training_error\n",
      "test_error = mean_squared_error(Y_test, linmodel_training.predict(X_test))\n",
      "test_list.append(test_error)\n",
      "print 'test error: %s' %test_error\n",
      "linmodel_training.summary()"
     ],
     "language": "python",
     "metadata": {},
     "outputs": []
    },
    {
     "cell_type": "code",
     "collapsed": false,
     "input": [
      "X_training = training_movies[['opening_div_budget_log','opening_div_budget_2','opening_div_budget_3','ones']]\n",
      "Y_training = training_movies['domestic_without_opening_log']\n",
      "linmodel_training = sm.OLS(Y_training, X_training).fit()\n",
      "\n",
      "X_test =test_movies[['opening_div_budget_log','opening_div_budget_2','opening_div_budget_3','ones']]\n",
      "Y_test = test_movies['domestic_without_opening_log']\n",
      "\n",
      "training_error = mean_squared_error(Y_training,linmodel_training.predict(X_training))\n",
      "training_list.append(training_error)\n",
      "print 'training error: %s' %training_error\n",
      "test_error = mean_squared_error(Y_test, linmodel_training.predict(X_test))\n",
      "test_list.append(test_error)\n",
      "print 'test error: %s' %test_error\n",
      "linmodel_training.summary()"
     ],
     "language": "python",
     "metadata": {},
     "outputs": []
    },
    {
     "cell_type": "code",
     "collapsed": false,
     "input": [
      "X_training = training_movies[['opening_div_budget_log','opening_div_budget_2','opening_div_budget_3','opening_div_budget_4',\n",
      "                              'ones']]\n",
      "Y_training = training_movies['domestic_without_opening_log']\n",
      "linmodel_training = sm.OLS(Y_training, X_training).fit()\n",
      "\n",
      "X_test =test_movies[['opening_div_budget_log','opening_div_budget_2','opening_div_budget_3','opening_div_budget_4',\n",
      "                     'ones']]\n",
      "Y_test = test_movies['domestic_without_opening_log']\n",
      "\n",
      "training_error = mean_squared_error(Y_training,linmodel_training.predict(X_training))\n",
      "training_list.append(training_error)\n",
      "print 'training error: %s' %training_error\n",
      "test_error = mean_squared_error(Y_test, linmodel_training.predict(X_test))\n",
      "test_list.append(test_error)\n",
      "print 'test error: %s' %test_error\n",
      "linmodel_training.summary()"
     ],
     "language": "python",
     "metadata": {},
     "outputs": []
    },
    {
     "cell_type": "code",
     "collapsed": false,
     "input": [
      "X_training = training_movies[['opening_div_budget_log','opening_div_budget_2','opening_div_budget_3','opening_div_budget_4',\n",
      "                              'opening_div_budget_5','ones']]\n",
      "Y_training = training_movies['domestic_without_opening_log']\n",
      "linmodel_training = sm.OLS(Y_training, X_training).fit()\n",
      "\n",
      "X_test =test_movies[['opening_div_budget_log','opening_div_budget_2','opening_div_budget_3','opening_div_budget_4',\n",
      "                     'opening_div_budget_5','ones']]\n",
      "Y_test = test_movies['domestic_without_opening_log']\n",
      "\n",
      "training_error = mean_squared_error(Y_training,linmodel_training.predict(X_training))\n",
      "training_list.append(training_error)\n",
      "print 'training error: %s' %training_error\n",
      "test_error = mean_squared_error(Y_test, linmodel_training.predict(X_test))\n",
      "test_list.append(test_error)\n",
      "print 'test error: %s' %test_error\n",
      "linmodel_training.summary()"
     ],
     "language": "python",
     "metadata": {},
     "outputs": []
    },
    {
     "cell_type": "code",
     "collapsed": false,
     "input": [
      "X_training = training_movies[['opening_div_budget_log','opening_div_budget_2','opening_div_budget_3','opening_div_budget_4',\n",
      "                              'opening_div_budget_5','opening_div_budget_6','opening_div_budget_7','ones']]\n",
      "Y_training = training_movies['domestic_without_opening_log']\n",
      "linmodel_training = sm.OLS(Y_training, X_training).fit()\n",
      "\n",
      "X_test =test_movies[['opening_div_budget_log','opening_div_budget_2','opening_div_budget_3','opening_div_budget_4',\n",
      "                     'opening_div_budget_5','opening_div_budget_6','opening_div_budget_7','ones']]\n",
      "Y_test = test_movies['domestic_without_opening_log']\n",
      "\n",
      "training_error = mean_squared_error(Y_training,linmodel_training.predict(X_training))\n",
      "training_list.append(training_error)\n",
      "print 'training error: %s' %training_error\n",
      "test_error = mean_squared_error(Y_test, linmodel_training.predict(X_test))\n",
      "test_list.append(test_error)\n",
      "print 'test error: %s' %test_error\n",
      "linmodel_training.summary()"
     ],
     "language": "python",
     "metadata": {},
     "outputs": []
    },
    {
     "cell_type": "code",
     "collapsed": false,
     "input": [
      "X_training = training_movies[['opening_div_budget_log','opening_div_budget_2','opening_div_budget_3','opening_div_budget_4',\n",
      "                              'opening_div_budget_5','opening_div_budget_6','opening_div_budget_7','opening_div_budget_8','ones']]\n",
      "Y_training = training_movies['domestic_without_opening_log']\n",
      "linmodel_training = sm.OLS(Y_training, X_training).fit()\n",
      "\n",
      "X_test =test_movies[['opening_div_budget_log','opening_div_budget_2','opening_div_budget_3','opening_div_budget_4',\n",
      "                     'opening_div_budget_5','opening_div_budget_6','opening_div_budget_7','opening_div_budget_8','ones']]\n",
      "Y_test = test_movies['domestic_without_opening_log']\n",
      "\n",
      "training_error = mean_squared_error(Y_training,linmodel_training.predict(X_training))\n",
      "training_list.append(training_error)\n",
      "print 'training error: %s' %training_error\n",
      "test_error = mean_squared_error(Y_test, linmodel_training.predict(X_test))\n",
      "test_list.append(test_error)\n",
      "print 'test error: %s' %test_error\n",
      "linmodel_training.summary()"
     ],
     "language": "python",
     "metadata": {},
     "outputs": []
    },
    {
     "cell_type": "code",
     "collapsed": false,
     "input": [
      "X_training = training_movies[['opening_div_budget_log','opening_div_budget_2','opening_div_budget_3','opening_div_budget_4','opening_div_budget_5',\n",
      "                              'opening_div_budget_6','opening_div_budget_8','ones']]\n",
      "Y_training = training_movies['domestic_without_opening_log']\n",
      "linmodel_training = sm.OLS(Y_training, X_training).fit()\n",
      "\n",
      "X_test =test_movies[['opening_div_budget_log','opening_div_budget_2','opening_div_budget_3','opening_div_budget_4','opening_div_budget_5',\n",
      "                     'opening_div_budget_6','opening_div_budget_8','ones']]\n",
      "Y_test = test_movies['domestic_without_opening_log']\n",
      "\n",
      "training_error = mean_squared_error(Y_training,linmodel_training.predict(X_training))\n",
      "training_list.append(training_error)\n",
      "print 'training error: %s' %training_error\n",
      "test_error = mean_squared_error(Y_test, linmodel_training.predict(X_test))\n",
      "test_list.append(test_error)\n",
      "print 'test error: %s' %test_error\n",
      "linmodel_training.summary()"
     ],
     "language": "python",
     "metadata": {},
     "outputs": []
    },
    {
     "cell_type": "code",
     "collapsed": false,
     "input": [
      "print training_list\n",
      "print test_list"
     ],
     "language": "python",
     "metadata": {},
     "outputs": []
    },
    {
     "cell_type": "code",
     "collapsed": false,
     "input": [
      "plt.plot(training_list, label='training set')\n",
      "test_list.pop(-1)\n",
      "plt.plot(test_list, label='test set')\n",
      "\n",
      "plt.legend()"
     ],
     "language": "python",
     "metadata": {},
     "outputs": []
    },
    {
     "cell_type": "code",
     "collapsed": false,
     "input": [
      "# plt.scatter(training_movies.opening_div_budget_log, training_movies.domestic_without_opening_log)\n",
      "# plt.plot(training_movies.opening_div_budget_log, linmodel_training.predict(X_training), 'r')"
     ],
     "language": "python",
     "metadata": {},
     "outputs": []
    },
    {
     "cell_type": "code",
     "collapsed": false,
     "input": [
      "X_test =test_movies[['opening_div_budget_2','opening_div_budget_5','opening_div_budget_4',\n",
      "                              'opening_div_budget_6','opening_div_budget_7','ones']]\n",
      "Y_test = test_movies['domestic_without_opening_log']"
     ],
     "language": "python",
     "metadata": {},
     "outputs": []
    },
    {
     "cell_type": "code",
     "collapsed": false,
     "input": [
      "plt.scatter(test_movies.opening_div_budget_log, test_movies.domestic_without_opening_log)\n",
      "plt.plot(test_movies.opening_div_budget_log, linmodel_training.predict(X_test), 'ro')"
     ],
     "language": "python",
     "metadata": {},
     "outputs": []
    },
    {
     "cell_type": "code",
     "collapsed": false,
     "input": [
      "training_error = mean_squared_error(Y_training,linmodel_training.predict(X_training))\n",
      "print training_error"
     ],
     "language": "python",
     "metadata": {},
     "outputs": []
    },
    {
     "cell_type": "code",
     "collapsed": false,
     "input": [
      "test_error = mean_squared_error(Y_test, linmodel_training.predict(X_test))\n",
      "print test_error"
     ],
     "language": "python",
     "metadata": {},
     "outputs": []
    },
    {
     "cell_type": "code",
     "collapsed": false,
     "input": [],
     "language": "python",
     "metadata": {},
     "outputs": []
    }
   ],
   "metadata": {}
  }
 ]
}