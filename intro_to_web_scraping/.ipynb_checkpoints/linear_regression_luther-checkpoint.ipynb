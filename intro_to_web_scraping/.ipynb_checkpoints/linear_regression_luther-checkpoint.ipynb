{
 "metadata": {
  "name": "",
  "signature": "sha256:4f33cb00c9908e20e0ad1eb5337dfae076216e526ea15b95855c2fe35db825af"
 },
 "nbformat": 3,
 "nbformat_minor": 0,
 "worksheets": [
  {
   "cells": [
    {
     "cell_type": "code",
     "collapsed": false,
     "input": [
      "import plotters\n",
      "import pandas as pd\n",
      "import numpy as np\n",
      "import matplotlib.pylab as plt\n",
      "import statsmodels.formula.api as sm\n",
      "from sklearn.metrics import mean_squared_error\n",
      "\n",
      "\n",
      "df = pd.DataFrame.from_csv('Luther_movies_all_time.csv', index_col=False)\n",
      "df = df.drop(['Unnamed: 8','Unnamed: 9'], axis=1)\n",
      "len (df)"
     ],
     "language": "python",
     "metadata": {},
     "outputs": [
      {
       "metadata": {},
       "output_type": "pyout",
       "prompt_number": 1,
       "text": [
        "7618"
       ]
      }
     ],
     "prompt_number": 1
    },
    {
     "cell_type": "code",
     "collapsed": false,
     "input": [
      "movies_with_budget = df.dropna(subset=['budget'])  \n",
      "len (movies_with_budget)"
     ],
     "language": "python",
     "metadata": {},
     "outputs": [
      {
       "metadata": {},
       "output_type": "pyout",
       "prompt_number": 3,
       "text": [
        "2552"
       ]
      }
     ],
     "prompt_number": 3
    },
    {
     "cell_type": "code",
     "collapsed": false,
     "input": [
      "movies_with_gross = movies_with_budget.dropna(subset=['director'])\n",
      "len (movies_with_gross)"
     ],
     "language": "python",
     "metadata": {},
     "outputs": [
      {
       "metadata": {},
       "output_type": "pyout",
       "prompt_number": 5,
       "text": [
        "1839"
       ]
      }
     ],
     "prompt_number": 5
    },
    {
     "cell_type": "code",
     "collapsed": false,
     "input": [
      "movies_with_opening = movies_with_gross.dropna(subset=['openingweekendgross'])\n",
      "len (movies_with_opening)"
     ],
     "language": "python",
     "metadata": {},
     "outputs": [
      {
       "metadata": {},
       "output_type": "pyout",
       "prompt_number": 7,
       "text": [
        "1809"
       ]
      }
     ],
     "prompt_number": 7
    },
    {
     "cell_type": "code",
     "collapsed": false,
     "input": [
      "movies_with_opening['domestic_without_opening'] = movies_with_opening.domestic_total_gross - movies_with_opening.openingweekendgross\n",
      "movies_with_opening['opening_div_total'] = movies_with_opening.openingweekendgross/movies_with_opening.domestic_total_gross\n",
      "movies_with_opening['ones'] = 1.0"
     ],
     "language": "python",
     "metadata": {},
     "outputs": [
      {
       "output_type": "stream",
       "stream": "stderr",
       "text": [
        "-c:1: SettingWithCopyWarning: A value is trying to be set on a copy of a slice from a DataFrame.\n",
        "Try using .loc[row_index,col_indexer] = value instead\n",
        "-c:2: SettingWithCopyWarning: A value is trying to be set on a copy of a slice from a DataFrame.\n",
        "Try using .loc[row_index,col_indexer] = value instead\n"
       ]
      },
      {
       "output_type": "stream",
       "stream": "stderr",
       "text": [
        "-c:3: SettingWithCopyWarning: A value is trying to be set on a copy of a slice from a DataFrame.\n",
        "Try using .loc[row_index,col_indexer] = value instead\n"
       ]
      }
     ],
     "prompt_number": 9
    },
    {
     "cell_type": "code",
     "collapsed": false,
     "input": [
      "movies_final = movies_with_opening.drop([497])\n",
      "# movies_final = movies_with_opening.add([1])\n",
      "movies_final.head()"
     ],
     "language": "python",
     "metadata": {},
     "outputs": [
      {
       "html": [
        "<div style=\"max-height:1000px;max-width:1500px;overflow:auto;\">\n",
        "<table border=\"1\" class=\"dataframe\">\n",
        "  <thead>\n",
        "    <tr style=\"text-align: right;\">\n",
        "      <th></th>\n",
        "      <th>director</th>\n",
        "      <th>rating</th>\n",
        "      <th>openingweekendgross</th>\n",
        "      <th>movie_title</th>\n",
        "      <th>domestic_total_gross</th>\n",
        "      <th>release_date</th>\n",
        "      <th>runtime</th>\n",
        "      <th>budget</th>\n",
        "      <th>domestic_without_opening</th>\n",
        "      <th>opening_div_total</th>\n",
        "      <th>ones</th>\n",
        "    </tr>\n",
        "  </thead>\n",
        "  <tbody>\n",
        "    <tr>\n",
        "      <th>1</th>\n",
        "      <td>     James Cameron</td>\n",
        "      <td> PG-13</td>\n",
        "      <td>  28638131</td>\n",
        "      <td>                                   Titanic</td>\n",
        "      <td> 600788188</td>\n",
        "      <td> 12/19/97 0:00</td>\n",
        "      <td> 194</td>\n",
        "      <td> 200000000</td>\n",
        "      <td> 572150057</td>\n",
        "      <td> 0.047668</td>\n",
        "      <td> 1</td>\n",
        "    </tr>\n",
        "    <tr>\n",
        "      <th>2</th>\n",
        "      <td>       Joss Whedon</td>\n",
        "      <td> PG-13</td>\n",
        "      <td> 207438708</td>\n",
        "      <td>                     Marvel's The Avengers</td>\n",
        "      <td> 623357910</td>\n",
        "      <td>   5/4/12 0:00</td>\n",
        "      <td> 142</td>\n",
        "      <td> 220000000</td>\n",
        "      <td> 415919202</td>\n",
        "      <td> 0.332776</td>\n",
        "      <td> 1</td>\n",
        "    </tr>\n",
        "    <tr>\n",
        "      <th>3</th>\n",
        "      <td> Christopher Nolan</td>\n",
        "      <td> PG-13</td>\n",
        "      <td> 158411483</td>\n",
        "      <td>                           The Dark Knight</td>\n",
        "      <td> 533345358</td>\n",
        "      <td>  7/18/08 0:00</td>\n",
        "      <td> 150</td>\n",
        "      <td> 185000000</td>\n",
        "      <td> 374933875</td>\n",
        "      <td> 0.297015</td>\n",
        "      <td> 1</td>\n",
        "    </tr>\n",
        "    <tr>\n",
        "      <th>4</th>\n",
        "      <td>      George Lucas</td>\n",
        "      <td>    PG</td>\n",
        "      <td>  64820970</td>\n",
        "      <td> Star Wars: Episode I - The Phantom Menace</td>\n",
        "      <td> 431088295</td>\n",
        "      <td>  5/19/99 0:00</td>\n",
        "      <td> 133</td>\n",
        "      <td> 115000000</td>\n",
        "      <td> 366267325</td>\n",
        "      <td> 0.150366</td>\n",
        "      <td> 1</td>\n",
        "    </tr>\n",
        "    <tr>\n",
        "      <th>5</th>\n",
        "      <td>      George Lucas</td>\n",
        "      <td>    PG</td>\n",
        "      <td>   6806951</td>\n",
        "      <td>                                 Star Wars</td>\n",
        "      <td> 307263857</td>\n",
        "      <td>  5/25/77 0:00</td>\n",
        "      <td> 121</td>\n",
        "      <td>  11000000</td>\n",
        "      <td> 300456906</td>\n",
        "      <td> 0.022153</td>\n",
        "      <td> 1</td>\n",
        "    </tr>\n",
        "  </tbody>\n",
        "</table>\n",
        "</div>"
       ],
       "metadata": {},
       "output_type": "pyout",
       "prompt_number": 11,
       "text": [
        "            director rating  openingweekendgross  \\\n",
        "1      James Cameron  PG-13             28638131   \n",
        "2        Joss Whedon  PG-13            207438708   \n",
        "3  Christopher Nolan  PG-13            158411483   \n",
        "4       George Lucas     PG             64820970   \n",
        "5       George Lucas     PG              6806951   \n",
        "\n",
        "                                 movie_title  domestic_total_gross  \\\n",
        "1                                    Titanic             600788188   \n",
        "2                      Marvel's The Avengers             623357910   \n",
        "3                            The Dark Knight             533345358   \n",
        "4  Star Wars: Episode I - The Phantom Menace             431088295   \n",
        "5                                  Star Wars             307263857   \n",
        "\n",
        "    release_date runtime     budget  domestic_without_opening  \\\n",
        "1  12/19/97 0:00     194  200000000                 572150057   \n",
        "2    5/4/12 0:00     142  220000000                 415919202   \n",
        "3   7/18/08 0:00     150  185000000                 374933875   \n",
        "4   5/19/99 0:00     133  115000000                 366267325   \n",
        "5   5/25/77 0:00     121   11000000                 300456906   \n",
        "\n",
        "   opening_div_total  ones  \n",
        "1           0.047668     1  \n",
        "2           0.332776     1  \n",
        "3           0.297015     1  \n",
        "4           0.150366     1  \n",
        "5           0.022153     1  "
       ]
      }
     ],
     "prompt_number": 11
    },
    {
     "cell_type": "code",
     "collapsed": false,
     "input": [
      "movies_final['domestic_without_opening_log'] = np.log(movies_final.domestic_without_opening)\n",
      "movies_final['openingweekendgross_log'] = np.log(movies_final.openingweekendgross)\n",
      "movies_final['budget_log'] = np.log(movies_final.budget)\n",
      "movies_final['domestic_total_gross_log'] = np.log(movies_final.domestic_total_gross)"
     ],
     "language": "python",
     "metadata": {},
     "outputs": [],
     "prompt_number": 13
    },
    {
     "cell_type": "code",
     "collapsed": false,
     "input": [
      "movies_small_budget = movies_final[movies_final.budget > 490000]\n",
      "movies_small_budget = movies_small_budget[movies_small_budget.budget < 19000000]\n",
      "print len (movies_small_budget)"
     ],
     "language": "python",
     "metadata": {},
     "outputs": [
      {
       "output_type": "stream",
       "stream": "stdout",
       "text": [
        "409\n"
       ]
      }
     ],
     "prompt_number": 15
    },
    {
     "cell_type": "code",
     "collapsed": false,
     "input": [
      "movies_big_budget = movies_final[movies_final.budget > 75000000]\n",
      "movies_big_budget = movies_big_budget[movies_big_budget.budget < 300000000]\n",
      "print len (movies_big_budget)"
     ],
     "language": "python",
     "metadata": {},
     "outputs": [
      {
       "output_type": "stream",
       "stream": "stdout",
       "text": [
        "404\n"
       ]
      }
     ],
     "prompt_number": 16
    },
    {
     "cell_type": "code",
     "collapsed": false,
     "input": [
      "# movies_medium_budget = movies_final[movies_final.budget > 49000000]\n",
      "# movies_medium_budget = movies_medium_budget[movies_medium_budget.budget < 100000001]\n",
      "# print len (movies_medium_budget)"
     ],
     "language": "python",
     "metadata": {},
     "outputs": [],
     "prompt_number": 11
    },
    {
     "cell_type": "code",
     "collapsed": false,
     "input": [
      "print movies_big_budget.opening_div_total.mean()"
     ],
     "language": "python",
     "metadata": {},
     "outputs": [
      {
       "output_type": "stream",
       "stream": "stdout",
       "text": [
        "0.305029962545\n"
       ]
      }
     ],
     "prompt_number": 12
    },
    {
     "cell_type": "code",
     "collapsed": false,
     "input": [
      "print movies_small_budget.opening_div_total.mean()"
     ],
     "language": "python",
     "metadata": {},
     "outputs": [
      {
       "output_type": "stream",
       "stream": "stdout",
       "text": [
        "0.245249148931\n"
       ]
      }
     ],
     "prompt_number": 13
    },
    {
     "cell_type": "code",
     "collapsed": false,
     "input": [
      "X_bo = movies_final[['budget_log','openingweekendgross_log','ones']]\n",
      "Y_bo = movies_final.domestic_without_opening_log\n",
      "linmodel_bo = sm.OLS(Y_bo, X_bo).fit()\n",
      "linmodel_bo.summary()"
     ],
     "language": "python",
     "metadata": {},
     "outputs": [
      {
       "html": [
        "<table class=\"simpletable\">\n",
        "<caption>OLS Regression Results</caption>\n",
        "<tr>\n",
        "  <th>Dep. Variable:</th>    <td>domestic_without_opening_log</td> <th>  R-squared:         </th> <td>   0.643</td>\n",
        "</tr>\n",
        "<tr>\n",
        "  <th>Model:</th>                         <td>OLS</td>             <th>  Adj. R-squared:    </th> <td>   0.643</td>\n",
        "</tr>\n",
        "<tr>\n",
        "  <th>Method:</th>                   <td>Least Squares</td>        <th>  F-statistic:       </th> <td>   1628.</td>\n",
        "</tr>\n",
        "<tr>\n",
        "  <th>Date:</th>                   <td>Thu, 18 Sep 2014</td>       <th>  Prob (F-statistic):</th>  <td>  0.00</td> \n",
        "</tr>\n",
        "<tr>\n",
        "  <th>Time:</th>                       <td>11:11:28</td>           <th>  Log-Likelihood:    </th> <td> -2101.5</td>\n",
        "</tr>\n",
        "<tr>\n",
        "  <th>No. Observations:</th>            <td>  1808</td>            <th>  AIC:               </th> <td>   4209.</td>\n",
        "</tr>\n",
        "<tr>\n",
        "  <th>Df Residuals:</th>                <td>  1805</td>            <th>  BIC:               </th> <td>   4225.</td>\n",
        "</tr>\n",
        "<tr>\n",
        "  <th>Df Model:</th>                    <td>     2</td>            <th>                     </th>     <td> </td>   \n",
        "</tr>\n",
        "</table>\n",
        "<table class=\"simpletable\">\n",
        "<tr>\n",
        "             <td></td>                <th>coef</th>     <th>std err</th>      <th>t</th>      <th>P>|t|</th> <th>[95.0% Conf. Int.]</th> \n",
        "</tr>\n",
        "<tr>\n",
        "  <th>budget_log</th>              <td>    0.0470</td> <td>    0.021</td> <td>    2.236</td> <td> 0.025</td> <td>    0.006     0.088</td>\n",
        "</tr>\n",
        "<tr>\n",
        "  <th>openingweekendgross_log</th> <td>    0.6077</td> <td>    0.014</td> <td>   43.838</td> <td> 0.000</td> <td>    0.581     0.635</td>\n",
        "</tr>\n",
        "<tr>\n",
        "  <th>ones</th>                    <td>    6.5747</td> <td>    0.289</td> <td>   22.741</td> <td> 0.000</td> <td>    6.008     7.142</td>\n",
        "</tr>\n",
        "</table>\n",
        "<table class=\"simpletable\">\n",
        "<tr>\n",
        "  <th>Omnibus:</th>       <td>32.613</td> <th>  Durbin-Watson:     </th> <td>   1.409</td>\n",
        "</tr>\n",
        "<tr>\n",
        "  <th>Prob(Omnibus):</th> <td> 0.000</td> <th>  Jarque-Bera (JB):  </th> <td>  51.913</td>\n",
        "</tr>\n",
        "<tr>\n",
        "  <th>Skew:</th>          <td> 0.158</td> <th>  Prob(JB):          </th> <td>5.34e-12</td>\n",
        "</tr>\n",
        "<tr>\n",
        "  <th>Kurtosis:</th>      <td> 3.768</td> <th>  Cond. No.          </th> <td>    377.</td>\n",
        "</tr>\n",
        "</table>"
       ],
       "metadata": {},
       "output_type": "pyout",
       "prompt_number": 14,
       "text": [
        "<class 'statsmodels.iolib.summary.Summary'>\n",
        "\"\"\"\n",
        "                                 OLS Regression Results                                 \n",
        "========================================================================================\n",
        "Dep. Variable:     domestic_without_opening_log   R-squared:                       0.643\n",
        "Model:                                      OLS   Adj. R-squared:                  0.643\n",
        "Method:                           Least Squares   F-statistic:                     1628.\n",
        "Date:                          Thu, 18 Sep 2014   Prob (F-statistic):               0.00\n",
        "Time:                                  11:11:28   Log-Likelihood:                -2101.5\n",
        "No. Observations:                          1808   AIC:                             4209.\n",
        "Df Residuals:                              1805   BIC:                             4225.\n",
        "Df Model:                                     2                                         \n",
        "===========================================================================================\n",
        "                              coef    std err          t      P>|t|      [95.0% Conf. Int.]\n",
        "-------------------------------------------------------------------------------------------\n",
        "budget_log                  0.0470      0.021      2.236      0.025         0.006     0.088\n",
        "openingweekendgross_log     0.6077      0.014     43.838      0.000         0.581     0.635\n",
        "ones                        6.5747      0.289     22.741      0.000         6.008     7.142\n",
        "==============================================================================\n",
        "Omnibus:                       32.613   Durbin-Watson:                   1.409\n",
        "Prob(Omnibus):                  0.000   Jarque-Bera (JB):               51.913\n",
        "Skew:                           0.158   Prob(JB):                     5.34e-12\n",
        "Kurtosis:                       3.768   Cond. No.                         377.\n",
        "==============================================================================\n",
        "\"\"\""
       ]
      }
     ],
     "prompt_number": 14
    },
    {
     "cell_type": "code",
     "collapsed": false,
     "input": [
      "plt.scatter(movies_final.budget_log, movies_final.openingweekendgross_log)\n",
      "plt.xlabel('Budget')\n",
      "plt.ylabel('Total Box Office')\n",
      "plt.plot(movies_final.budget_log, linmodel_bo.predict(X_bo), 'rx')"
     ],
     "language": "python",
     "metadata": {},
     "outputs": [
      {
       "metadata": {},
       "output_type": "pyout",
       "prompt_number": 15,
       "text": [
        "[<matplotlib.lines.Line2D at 0x108fabc50>]"
       ]
      }
     ],
     "prompt_number": 15
    },
    {
     "cell_type": "code",
     "collapsed": false,
     "input": [],
     "language": "python",
     "metadata": {},
     "outputs": [],
     "prompt_number": 15
    },
    {
     "cell_type": "code",
     "collapsed": false,
     "input": [],
     "language": "python",
     "metadata": {},
     "outputs": [],
     "prompt_number": 15
    },
    {
     "cell_type": "code",
     "collapsed": false,
     "input": [
      "#effect of budget on total gross for all movies\n",
      "\n",
      "X_budget = movies_final[['budget_log','ones']]\n",
      "Y_budget = movies_final.domestic_total_gross_log\n",
      "linmodel_budget = sm.OLS(Y_budget, X_budget).fit()\n",
      "linmodel_budget.summary()"
     ],
     "language": "python",
     "metadata": {},
     "outputs": [
      {
       "html": [
        "<table class=\"simpletable\">\n",
        "<caption>OLS Regression Results</caption>\n",
        "<tr>\n",
        "  <th>Dep. Variable:</th>    <td>domestic_total_gross_log</td> <th>  R-squared:         </th> <td>   0.303</td> \n",
        "</tr>\n",
        "<tr>\n",
        "  <th>Model:</th>                       <td>OLS</td>           <th>  Adj. R-squared:    </th> <td>   0.302</td> \n",
        "</tr>\n",
        "<tr>\n",
        "  <th>Method:</th>                 <td>Least Squares</td>      <th>  F-statistic:       </th> <td>   783.8</td> \n",
        "</tr>\n",
        "<tr>\n",
        "  <th>Date:</th>                 <td>Thu, 18 Sep 2014</td>     <th>  Prob (F-statistic):</th> <td>1.46e-143</td>\n",
        "</tr>\n",
        "<tr>\n",
        "  <th>Time:</th>                     <td>11:11:28</td>         <th>  Log-Likelihood:    </th> <td> -2672.9</td> \n",
        "</tr>\n",
        "<tr>\n",
        "  <th>No. Observations:</th>          <td>  1808</td>          <th>  AIC:               </th> <td>   5350.</td> \n",
        "</tr>\n",
        "<tr>\n",
        "  <th>Df Residuals:</th>              <td>  1806</td>          <th>  BIC:               </th> <td>   5361.</td> \n",
        "</tr>\n",
        "<tr>\n",
        "  <th>Df Model:</th>                  <td>     1</td>          <th>                     </th>     <td> </td>    \n",
        "</tr>\n",
        "</table>\n",
        "<table class=\"simpletable\">\n",
        "<tr>\n",
        "       <td></td>         <th>coef</th>     <th>std err</th>      <th>t</th>      <th>P>|t|</th> <th>[95.0% Conf. Int.]</th> \n",
        "</tr>\n",
        "<tr>\n",
        "  <th>budget_log</th> <td>    0.6392</td> <td>    0.023</td> <td>   27.997</td> <td> 0.000</td> <td>    0.594     0.684</td>\n",
        "</tr>\n",
        "<tr>\n",
        "  <th>ones</th>       <td>    6.4030</td> <td>    0.396</td> <td>   16.150</td> <td> 0.000</td> <td>    5.625     7.181</td>\n",
        "</tr>\n",
        "</table>\n",
        "<table class=\"simpletable\">\n",
        "<tr>\n",
        "  <th>Omnibus:</th>       <td>185.533</td> <th>  Durbin-Watson:     </th> <td>   0.611</td>\n",
        "</tr>\n",
        "<tr>\n",
        "  <th>Prob(Omnibus):</th> <td> 0.000</td>  <th>  Jarque-Bera (JB):  </th> <td> 280.624</td>\n",
        "</tr>\n",
        "<tr>\n",
        "  <th>Skew:</th>          <td>-0.754</td>  <th>  Prob(JB):          </th> <td>1.16e-61</td>\n",
        "</tr>\n",
        "<tr>\n",
        "  <th>Kurtosis:</th>      <td> 4.206</td>  <th>  Cond. No.          </th> <td>    277.</td>\n",
        "</tr>\n",
        "</table>"
       ],
       "metadata": {},
       "output_type": "pyout",
       "prompt_number": 16,
       "text": [
        "<class 'statsmodels.iolib.summary.Summary'>\n",
        "\"\"\"\n",
        "                               OLS Regression Results                               \n",
        "====================================================================================\n",
        "Dep. Variable:     domestic_total_gross_log   R-squared:                       0.303\n",
        "Model:                                  OLS   Adj. R-squared:                  0.302\n",
        "Method:                       Least Squares   F-statistic:                     783.8\n",
        "Date:                      Thu, 18 Sep 2014   Prob (F-statistic):          1.46e-143\n",
        "Time:                              11:11:28   Log-Likelihood:                -2672.9\n",
        "No. Observations:                      1808   AIC:                             5350.\n",
        "Df Residuals:                          1806   BIC:                             5361.\n",
        "Df Model:                                 1                                         \n",
        "==============================================================================\n",
        "                 coef    std err          t      P>|t|      [95.0% Conf. Int.]\n",
        "------------------------------------------------------------------------------\n",
        "budget_log     0.6392      0.023     27.997      0.000         0.594     0.684\n",
        "ones           6.4030      0.396     16.150      0.000         5.625     7.181\n",
        "==============================================================================\n",
        "Omnibus:                      185.533   Durbin-Watson:                   0.611\n",
        "Prob(Omnibus):                  0.000   Jarque-Bera (JB):              280.624\n",
        "Skew:                          -0.754   Prob(JB):                     1.16e-61\n",
        "Kurtosis:                       4.206   Cond. No.                         277.\n",
        "==============================================================================\n",
        "\"\"\""
       ]
      }
     ],
     "prompt_number": 16
    },
    {
     "cell_type": "code",
     "collapsed": false,
     "input": [],
     "language": "python",
     "metadata": {},
     "outputs": [],
     "prompt_number": 16
    },
    {
     "cell_type": "code",
     "collapsed": false,
     "input": [
      "plt.scatter(movies_final.budget_log, movies_final.domestic_total_gross_log)\n",
      "plt.xlabel('Budget')\n",
      "plt.ylabel('Total Box Office')\n",
      "plt.plot(movies_final.budget_log, linmodel_budget.predict(X_budget), 'r')"
     ],
     "language": "python",
     "metadata": {},
     "outputs": [
      {
       "metadata": {},
       "output_type": "pyout",
       "prompt_number": 17,
       "text": [
        "[<matplotlib.lines.Line2D at 0x10aa48f90>]"
       ]
      }
     ],
     "prompt_number": 17
    },
    {
     "cell_type": "code",
     "collapsed": false,
     "input": [
      "#effect of budget on total gross for big budget movies\n",
      "\n",
      "X_big_budget = movies_big_budget[['budget_log','openingweekendgross_log','ones']]\n",
      "Y_big_budget = movies_big_budget.domestic_without_opening_log\n",
      "linmodel_big_budget = sm.OLS(Y_big_budget, X_big_budget).fit()\n",
      "linmodel_big_budget.summary()"
     ],
     "language": "python",
     "metadata": {},
     "outputs": [
      {
       "html": [
        "<table class=\"simpletable\">\n",
        "<caption>OLS Regression Results</caption>\n",
        "<tr>\n",
        "  <th>Dep. Variable:</th>    <td>domestic_without_opening_log</td> <th>  R-squared:         </th> <td>   0.740</td> \n",
        "</tr>\n",
        "<tr>\n",
        "  <th>Model:</th>                         <td>OLS</td>             <th>  Adj. R-squared:    </th> <td>   0.738</td> \n",
        "</tr>\n",
        "<tr>\n",
        "  <th>Method:</th>                   <td>Least Squares</td>        <th>  F-statistic:       </th> <td>   569.7</td> \n",
        "</tr>\n",
        "<tr>\n",
        "  <th>Date:</th>                   <td>Thu, 18 Sep 2014</td>       <th>  Prob (F-statistic):</th> <td>6.40e-118</td>\n",
        "</tr>\n",
        "<tr>\n",
        "  <th>Time:</th>                       <td>11:11:28</td>           <th>  Log-Likelihood:    </th> <td> -234.37</td> \n",
        "</tr>\n",
        "<tr>\n",
        "  <th>No. Observations:</th>            <td>   404</td>            <th>  AIC:               </th> <td>   474.7</td> \n",
        "</tr>\n",
        "<tr>\n",
        "  <th>Df Residuals:</th>                <td>   401</td>            <th>  BIC:               </th> <td>   486.7</td> \n",
        "</tr>\n",
        "<tr>\n",
        "  <th>Df Model:</th>                    <td>     2</td>            <th>                     </th>     <td> </td>    \n",
        "</tr>\n",
        "</table>\n",
        "<table class=\"simpletable\">\n",
        "<tr>\n",
        "             <td></td>                <th>coef</th>     <th>std err</th>      <th>t</th>      <th>P>|t|</th> <th>[95.0% Conf. Int.]</th> \n",
        "</tr>\n",
        "<tr>\n",
        "  <th>budget_log</th>              <td>   -0.0716</td> <td>    0.079</td> <td>   -0.909</td> <td> 0.364</td> <td>   -0.226     0.083</td>\n",
        "</tr>\n",
        "<tr>\n",
        "  <th>openingweekendgross_log</th> <td>    0.9375</td> <td>    0.031</td> <td>   30.234</td> <td> 0.000</td> <td>    0.877     0.998</td>\n",
        "</tr>\n",
        "<tr>\n",
        "  <th>ones</th>                    <td>    3.2697</td> <td>    1.301</td> <td>    2.514</td> <td> 0.012</td> <td>    0.713     5.827</td>\n",
        "</tr>\n",
        "</table>\n",
        "<table class=\"simpletable\">\n",
        "<tr>\n",
        "  <th>Omnibus:</th>       <td>35.809</td> <th>  Durbin-Watson:     </th> <td>   1.726</td>\n",
        "</tr>\n",
        "<tr>\n",
        "  <th>Prob(Omnibus):</th> <td> 0.000</td> <th>  Jarque-Bera (JB):  </th> <td>  52.371</td>\n",
        "</tr>\n",
        "<tr>\n",
        "  <th>Skew:</th>          <td> 0.621</td> <th>  Prob(JB):          </th> <td>4.25e-12</td>\n",
        "</tr>\n",
        "<tr>\n",
        "  <th>Kurtosis:</th>      <td> 4.252</td> <th>  Cond. No.          </th> <td>1.53e+03</td>\n",
        "</tr>\n",
        "</table>"
       ],
       "metadata": {},
       "output_type": "pyout",
       "prompt_number": 18,
       "text": [
        "<class 'statsmodels.iolib.summary.Summary'>\n",
        "\"\"\"\n",
        "                                 OLS Regression Results                                 \n",
        "========================================================================================\n",
        "Dep. Variable:     domestic_without_opening_log   R-squared:                       0.740\n",
        "Model:                                      OLS   Adj. R-squared:                  0.738\n",
        "Method:                           Least Squares   F-statistic:                     569.7\n",
        "Date:                          Thu, 18 Sep 2014   Prob (F-statistic):          6.40e-118\n",
        "Time:                                  11:11:28   Log-Likelihood:                -234.37\n",
        "No. Observations:                           404   AIC:                             474.7\n",
        "Df Residuals:                               401   BIC:                             486.7\n",
        "Df Model:                                     2                                         \n",
        "===========================================================================================\n",
        "                              coef    std err          t      P>|t|      [95.0% Conf. Int.]\n",
        "-------------------------------------------------------------------------------------------\n",
        "budget_log                 -0.0716      0.079     -0.909      0.364        -0.226     0.083\n",
        "openingweekendgross_log     0.9375      0.031     30.234      0.000         0.877     0.998\n",
        "ones                        3.2697      1.301      2.514      0.012         0.713     5.827\n",
        "==============================================================================\n",
        "Omnibus:                       35.809   Durbin-Watson:                   1.726\n",
        "Prob(Omnibus):                  0.000   Jarque-Bera (JB):               52.371\n",
        "Skew:                           0.621   Prob(JB):                     4.25e-12\n",
        "Kurtosis:                       4.252   Cond. No.                     1.53e+03\n",
        "==============================================================================\n",
        "\n",
        "Warnings:\n",
        "[1] The condition number is large, 1.53e+03. This might indicate that there are\n",
        "strong multicollinearity or other numerical problems.\n",
        "\"\"\""
       ]
      }
     ],
     "prompt_number": 18
    },
    {
     "cell_type": "code",
     "collapsed": false,
     "input": [
      "plt.scatter(movies_big_budget.budget_log, movies_big_budget.domestic_total_gross_log)\n",
      "plt.xlabel('Budget')\n",
      "plt.ylabel('Total Box Office')\n",
      "plt.plot(movies_big_budget.budget_log, linmodel_big_budget.predict(X_big_budget), 'rx')"
     ],
     "language": "python",
     "metadata": {},
     "outputs": [
      {
       "metadata": {},
       "output_type": "pyout",
       "prompt_number": 19,
       "text": [
        "[<matplotlib.lines.Line2D at 0x108fb5f90>]"
       ]
      }
     ],
     "prompt_number": 19
    },
    {
     "cell_type": "code",
     "collapsed": false,
     "input": [
      "#effect of budget on total gross for small budget movies\n",
      "\n",
      "X_small_budget = movies_small_budget[['budget_log','openingweekendgross_log','ones']]\n",
      "Y_small_budget = movies_small_budget.domestic_without_opening_log\n",
      "linmodel_small_budget = sm.OLS(Y_small_budget, X_small_budget).fit()\n",
      "linmodel_small_budget.summary()"
     ],
     "language": "python",
     "metadata": {},
     "outputs": [
      {
       "html": [
        "<table class=\"simpletable\">\n",
        "<caption>OLS Regression Results</caption>\n",
        "<tr>\n",
        "  <th>Dep. Variable:</th>    <td>domestic_without_opening_log</td> <th>  R-squared:         </th> <td>   0.476</td>\n",
        "</tr>\n",
        "<tr>\n",
        "  <th>Model:</th>                         <td>OLS</td>             <th>  Adj. R-squared:    </th> <td>   0.473</td>\n",
        "</tr>\n",
        "<tr>\n",
        "  <th>Method:</th>                   <td>Least Squares</td>        <th>  F-statistic:       </th> <td>   184.3</td>\n",
        "</tr>\n",
        "<tr>\n",
        "  <th>Date:</th>                   <td>Thu, 18 Sep 2014</td>       <th>  Prob (F-statistic):</th> <td>1.11e-57</td>\n",
        "</tr>\n",
        "<tr>\n",
        "  <th>Time:</th>                       <td>11:11:28</td>           <th>  Log-Likelihood:    </th> <td> -575.23</td>\n",
        "</tr>\n",
        "<tr>\n",
        "  <th>No. Observations:</th>            <td>   409</td>            <th>  AIC:               </th> <td>   1156.</td>\n",
        "</tr>\n",
        "<tr>\n",
        "  <th>Df Residuals:</th>                <td>   406</td>            <th>  BIC:               </th> <td>   1169.</td>\n",
        "</tr>\n",
        "<tr>\n",
        "  <th>Df Model:</th>                    <td>     2</td>            <th>                     </th>     <td> </td>   \n",
        "</tr>\n",
        "</table>\n",
        "<table class=\"simpletable\">\n",
        "<tr>\n",
        "             <td></td>                <th>coef</th>     <th>std err</th>      <th>t</th>      <th>P>|t|</th> <th>[95.0% Conf. Int.]</th> \n",
        "</tr>\n",
        "<tr>\n",
        "  <th>budget_log</th>              <td>    0.0400</td> <td>    0.071</td> <td>    0.566</td> <td> 0.572</td> <td>   -0.099     0.179</td>\n",
        "</tr>\n",
        "<tr>\n",
        "  <th>openingweekendgross_log</th> <td>    0.4548</td> <td>    0.025</td> <td>   18.354</td> <td> 0.000</td> <td>    0.406     0.504</td>\n",
        "</tr>\n",
        "<tr>\n",
        "  <th>ones</th>                    <td>    8.9722</td> <td>    1.092</td> <td>    8.213</td> <td> 0.000</td> <td>    6.825    11.120</td>\n",
        "</tr>\n",
        "</table>\n",
        "<table class=\"simpletable\">\n",
        "<tr>\n",
        "  <th>Omnibus:</th>       <td> 1.939</td> <th>  Durbin-Watson:     </th> <td>   1.148</td>\n",
        "</tr>\n",
        "<tr>\n",
        "  <th>Prob(Omnibus):</th> <td> 0.379</td> <th>  Jarque-Bera (JB):  </th> <td>   1.866</td>\n",
        "</tr>\n",
        "<tr>\n",
        "  <th>Skew:</th>          <td>-0.030</td> <th>  Prob(JB):          </th> <td>   0.393</td>\n",
        "</tr>\n",
        "<tr>\n",
        "  <th>Kurtosis:</th>      <td> 3.326</td> <th>  Cond. No.          </th> <td>    486.</td>\n",
        "</tr>\n",
        "</table>"
       ],
       "metadata": {},
       "output_type": "pyout",
       "prompt_number": 20,
       "text": [
        "<class 'statsmodels.iolib.summary.Summary'>\n",
        "\"\"\"\n",
        "                                 OLS Regression Results                                 \n",
        "========================================================================================\n",
        "Dep. Variable:     domestic_without_opening_log   R-squared:                       0.476\n",
        "Model:                                      OLS   Adj. R-squared:                  0.473\n",
        "Method:                           Least Squares   F-statistic:                     184.3\n",
        "Date:                          Thu, 18 Sep 2014   Prob (F-statistic):           1.11e-57\n",
        "Time:                                  11:11:28   Log-Likelihood:                -575.23\n",
        "No. Observations:                           409   AIC:                             1156.\n",
        "Df Residuals:                               406   BIC:                             1169.\n",
        "Df Model:                                     2                                         \n",
        "===========================================================================================\n",
        "                              coef    std err          t      P>|t|      [95.0% Conf. Int.]\n",
        "-------------------------------------------------------------------------------------------\n",
        "budget_log                  0.0400      0.071      0.566      0.572        -0.099     0.179\n",
        "openingweekendgross_log     0.4548      0.025     18.354      0.000         0.406     0.504\n",
        "ones                        8.9722      1.092      8.213      0.000         6.825    11.120\n",
        "==============================================================================\n",
        "Omnibus:                        1.939   Durbin-Watson:                   1.148\n",
        "Prob(Omnibus):                  0.379   Jarque-Bera (JB):                1.866\n",
        "Skew:                          -0.030   Prob(JB):                        0.393\n",
        "Kurtosis:                       3.326   Cond. No.                         486.\n",
        "==============================================================================\n",
        "\"\"\""
       ]
      }
     ],
     "prompt_number": 20
    },
    {
     "cell_type": "code",
     "collapsed": false,
     "input": [
      "plt.scatter(movies_small_budget.budget_log, movies_small_budget.domestic_total_gross_log)\n",
      "plt.xlabel('Budget')\n",
      "plt.ylabel('Total Box Office')\n",
      "plt.plot(movies_small_budget.budget_log, linmodel_small_budget.predict(X_small_budget), 'rx')"
     ],
     "language": "python",
     "metadata": {},
     "outputs": [
      {
       "metadata": {},
       "output_type": "pyout",
       "prompt_number": 21,
       "text": [
        "[<matplotlib.lines.Line2D at 0x107f86a90>]"
       ]
      }
     ],
     "prompt_number": 21
    },
    {
     "cell_type": "code",
     "collapsed": false,
     "input": [
      "# effect of opening weekend on domestic total gross (not including opening weekend)\n",
      "X_opening = movies_final[['openingweekendgross_log','ones']]\n",
      "Y_opening = movies_final.domestic_without_opening_log\n",
      "linmodel_opening = sm.OLS(Y_opening, X_opening).fit()\n",
      "linmodel_opening.summary()"
     ],
     "language": "python",
     "metadata": {},
     "outputs": [
      {
       "html": [
        "<table class=\"simpletable\">\n",
        "<caption>OLS Regression Results</caption>\n",
        "<tr>\n",
        "  <th>Dep. Variable:</th>    <td>domestic_without_opening_log</td> <th>  R-squared:         </th> <td>   0.642</td>\n",
        "</tr>\n",
        "<tr>\n",
        "  <th>Model:</th>                         <td>OLS</td>             <th>  Adj. R-squared:    </th> <td>   0.642</td>\n",
        "</tr>\n",
        "<tr>\n",
        "  <th>Method:</th>                   <td>Least Squares</td>        <th>  F-statistic:       </th> <td>   3244.</td>\n",
        "</tr>\n",
        "<tr>\n",
        "  <th>Date:</th>                   <td>Thu, 18 Sep 2014</td>       <th>  Prob (F-statistic):</th>  <td>  0.00</td> \n",
        "</tr>\n",
        "<tr>\n",
        "  <th>Time:</th>                       <td>11:29:35</td>           <th>  Log-Likelihood:    </th> <td> -2104.0</td>\n",
        "</tr>\n",
        "<tr>\n",
        "  <th>No. Observations:</th>            <td>  1808</td>            <th>  AIC:               </th> <td>   4212.</td>\n",
        "</tr>\n",
        "<tr>\n",
        "  <th>Df Residuals:</th>                <td>  1806</td>            <th>  BIC:               </th> <td>   4223.</td>\n",
        "</tr>\n",
        "<tr>\n",
        "  <th>Df Model:</th>                    <td>     1</td>            <th>                     </th>     <td> </td>   \n",
        "</tr>\n",
        "</table>\n",
        "<table class=\"simpletable\">\n",
        "<tr>\n",
        "             <td></td>                <th>coef</th>     <th>std err</th>      <th>t</th>      <th>P>|t|</th> <th>[95.0% Conf. Int.]</th> \n",
        "</tr>\n",
        "<tr>\n",
        "  <th>openingweekendgross_log</th> <td>    0.6266</td> <td>    0.011</td> <td>   56.958</td> <td> 0.000</td> <td>    0.605     0.648</td>\n",
        "</tr>\n",
        "<tr>\n",
        "  <th>ones</th>                    <td>    7.0858</td> <td>    0.177</td> <td>   39.985</td> <td> 0.000</td> <td>    6.738     7.433</td>\n",
        "</tr>\n",
        "</table>\n",
        "<table class=\"simpletable\">\n",
        "<tr>\n",
        "  <th>Omnibus:</th>       <td>29.762</td> <th>  Durbin-Watson:     </th> <td>   1.395</td>\n",
        "</tr>\n",
        "<tr>\n",
        "  <th>Prob(Omnibus):</th> <td> 0.000</td> <th>  Jarque-Bera (JB):  </th> <td>  45.566</td>\n",
        "</tr>\n",
        "<tr>\n",
        "  <th>Skew:</th>          <td> 0.155</td> <th>  Prob(JB):          </th> <td>1.28e-10</td>\n",
        "</tr>\n",
        "<tr>\n",
        "  <th>Kurtosis:</th>      <td> 3.713</td> <th>  Cond. No.          </th> <td>    157.</td>\n",
        "</tr>\n",
        "</table>"
       ],
       "metadata": {},
       "output_type": "pyout",
       "prompt_number": 17,
       "text": [
        "<class 'statsmodels.iolib.summary.Summary'>\n",
        "\"\"\"\n",
        "                                 OLS Regression Results                                 \n",
        "========================================================================================\n",
        "Dep. Variable:     domestic_without_opening_log   R-squared:                       0.642\n",
        "Model:                                      OLS   Adj. R-squared:                  0.642\n",
        "Method:                           Least Squares   F-statistic:                     3244.\n",
        "Date:                          Thu, 18 Sep 2014   Prob (F-statistic):               0.00\n",
        "Time:                                  11:29:35   Log-Likelihood:                -2104.0\n",
        "No. Observations:                          1808   AIC:                             4212.\n",
        "Df Residuals:                              1806   BIC:                             4223.\n",
        "Df Model:                                     1                                         \n",
        "===========================================================================================\n",
        "                              coef    std err          t      P>|t|      [95.0% Conf. Int.]\n",
        "-------------------------------------------------------------------------------------------\n",
        "openingweekendgross_log     0.6266      0.011     56.958      0.000         0.605     0.648\n",
        "ones                        7.0858      0.177     39.985      0.000         6.738     7.433\n",
        "==============================================================================\n",
        "Omnibus:                       29.762   Durbin-Watson:                   1.395\n",
        "Prob(Omnibus):                  0.000   Jarque-Bera (JB):               45.566\n",
        "Skew:                           0.155   Prob(JB):                     1.28e-10\n",
        "Kurtosis:                       3.713   Cond. No.                         157.\n",
        "==============================================================================\n",
        "\"\"\""
       ]
      }
     ],
     "prompt_number": 17
    },
    {
     "cell_type": "code",
     "collapsed": false,
     "input": [
      "plt.scatter(movies_final.openingweekendgross_log, movies_final.domestic_without_opening_log)\n",
      "plt.xlabel('Opening Weekend')\n",
      "plt.ylabel('Box Office')\n",
      "plt.plot(movies_final.openingweekendgross_log, linmodel_opening.predict(X_opening), 'r')"
     ],
     "language": "python",
     "metadata": {},
     "outputs": [
      {
       "metadata": {},
       "output_type": "pyout",
       "prompt_number": 12,
       "text": [
        "[<matplotlib.lines.Line2D at 0x108c3c090>]"
       ]
      }
     ],
     "prompt_number": 12
    },
    {
     "cell_type": "code",
     "collapsed": false,
     "input": [
      "# effect of opening weekend on domestic total gross (not including opening weekend)\n",
      "# for big budget films\n",
      "X_big_opening = movies_big_budget[['openingweekendgross_log','ones']]\n",
      "Y_big_opening = movies_big_budget.domestic_without_opening_log\n",
      "linmodel_big_opening = sm.OLS(Y_big_opening, X_big_opening).fit()\n",
      "linmodel_big_opening.summary()"
     ],
     "language": "python",
     "metadata": {},
     "outputs": [
      {
       "html": [
        "<table class=\"simpletable\">\n",
        "<caption>OLS Regression Results</caption>\n",
        "<tr>\n",
        "  <th>Dep. Variable:</th>    <td>domestic_without_opening_log</td> <th>  R-squared:         </th> <td>   0.739</td> \n",
        "</tr>\n",
        "<tr>\n",
        "  <th>Model:</th>                         <td>OLS</td>             <th>  Adj. R-squared:    </th> <td>   0.739</td> \n",
        "</tr>\n",
        "<tr>\n",
        "  <th>Method:</th>                   <td>Least Squares</td>        <th>  F-statistic:       </th> <td>   1139.</td> \n",
        "</tr>\n",
        "<tr>\n",
        "  <th>Date:</th>                   <td>Thu, 18 Sep 2014</td>       <th>  Prob (F-statistic):</th> <td>2.28e-119</td>\n",
        "</tr>\n",
        "<tr>\n",
        "  <th>Time:</th>                       <td>11:29:46</td>           <th>  Log-Likelihood:    </th> <td> -234.79</td> \n",
        "</tr>\n",
        "<tr>\n",
        "  <th>No. Observations:</th>            <td>   404</td>            <th>  AIC:               </th> <td>   473.6</td> \n",
        "</tr>\n",
        "<tr>\n",
        "  <th>Df Residuals:</th>                <td>   402</td>            <th>  BIC:               </th> <td>   481.6</td> \n",
        "</tr>\n",
        "<tr>\n",
        "  <th>Df Model:</th>                    <td>     1</td>            <th>                     </th>     <td> </td>    \n",
        "</tr>\n",
        "</table>\n",
        "<table class=\"simpletable\">\n",
        "<tr>\n",
        "             <td></td>                <th>coef</th>     <th>std err</th>      <th>t</th>      <th>P>|t|</th> <th>[95.0% Conf. Int.]</th> \n",
        "</tr>\n",
        "<tr>\n",
        "  <th>openingweekendgross_log</th> <td>    0.9243</td> <td>    0.027</td> <td>   33.751</td> <td> 0.000</td> <td>    0.870     0.978</td>\n",
        "</tr>\n",
        "<tr>\n",
        "  <th>ones</th>                    <td>    2.1684</td> <td>    0.473</td> <td>    4.581</td> <td> 0.000</td> <td>    1.238     3.099</td>\n",
        "</tr>\n",
        "</table>\n",
        "<table class=\"simpletable\">\n",
        "<tr>\n",
        "  <th>Omnibus:</th>       <td>32.933</td> <th>  Durbin-Watson:     </th> <td>   1.724</td>\n",
        "</tr>\n",
        "<tr>\n",
        "  <th>Prob(Omnibus):</th> <td> 0.000</td> <th>  Jarque-Bera (JB):  </th> <td>  45.938</td>\n",
        "</tr>\n",
        "<tr>\n",
        "  <th>Skew:</th>          <td> 0.599</td> <th>  Prob(JB):          </th> <td>1.06e-10</td>\n",
        "</tr>\n",
        "<tr>\n",
        "  <th>Kurtosis:</th>      <td> 4.137</td> <th>  Cond. No.          </th> <td>    380.</td>\n",
        "</tr>\n",
        "</table>"
       ],
       "metadata": {},
       "output_type": "pyout",
       "prompt_number": 18,
       "text": [
        "<class 'statsmodels.iolib.summary.Summary'>\n",
        "\"\"\"\n",
        "                                 OLS Regression Results                                 \n",
        "========================================================================================\n",
        "Dep. Variable:     domestic_without_opening_log   R-squared:                       0.739\n",
        "Model:                                      OLS   Adj. R-squared:                  0.739\n",
        "Method:                           Least Squares   F-statistic:                     1139.\n",
        "Date:                          Thu, 18 Sep 2014   Prob (F-statistic):          2.28e-119\n",
        "Time:                                  11:29:46   Log-Likelihood:                -234.79\n",
        "No. Observations:                           404   AIC:                             473.6\n",
        "Df Residuals:                               402   BIC:                             481.6\n",
        "Df Model:                                     1                                         \n",
        "===========================================================================================\n",
        "                              coef    std err          t      P>|t|      [95.0% Conf. Int.]\n",
        "-------------------------------------------------------------------------------------------\n",
        "openingweekendgross_log     0.9243      0.027     33.751      0.000         0.870     0.978\n",
        "ones                        2.1684      0.473      4.581      0.000         1.238     3.099\n",
        "==============================================================================\n",
        "Omnibus:                       32.933   Durbin-Watson:                   1.724\n",
        "Prob(Omnibus):                  0.000   Jarque-Bera (JB):               45.938\n",
        "Skew:                           0.599   Prob(JB):                     1.06e-10\n",
        "Kurtosis:                       4.137   Cond. No.                         380.\n",
        "==============================================================================\n",
        "\"\"\""
       ]
      }
     ],
     "prompt_number": 18
    },
    {
     "cell_type": "code",
     "collapsed": false,
     "input": [
      "plt.scatter(movies_big_budget.openingweekendgross_log, movies_big_budget.domestic_without_opening_log)\n",
      "plt.xlabel('Opening Weekend')\n",
      "plt.ylabel('Box Office')\n",
      "plt.plot(movies_big_budget.openingweekendgross_log, linmodel_big_opening.predict(X_big_opening), 'r')"
     ],
     "language": "python",
     "metadata": {},
     "outputs": [
      {
       "metadata": {},
       "output_type": "pyout",
       "prompt_number": 25,
       "text": [
        "[<matplotlib.lines.Line2D at 0x10aa5d1d0>]"
       ]
      }
     ],
     "prompt_number": 25
    },
    {
     "cell_type": "code",
     "collapsed": false,
     "input": [
      "name = movies_big_budget['movie_title']\n",
      "x = movies_big_budget.openingweekendgross_log"
     ],
     "language": "python",
     "metadata": {},
     "outputs": [],
     "prompt_number": 19
    },
    {
     "cell_type": "code",
     "collapsed": false,
     "input": [
      "reload(plotters)\n",
      "\n",
      "# initiate plotter                                                                                                                                                                   \n",
      "plotter = plotters.TwoVariableComparisonPlotter(x, Y_big_opening, name,\n",
      "                                           x_range=(None, None),\n",
      "                                           y_range = (None, None),\n",
      "                                           label_display_style=\"click\",\n",
      "                                           xlabel=\"Budget (million dollars)\",\n",
      "                                           ylabel = \"Domestic Gross (million dollars)\")\n",
      "\n",
      "# plot!                                                                                                                                                                              \n",
      "plotter.add_text(0, 360, \"Highly\\nprofitable\")\n",
      "plotter.add_text(200, 0, \"Absolutely\\nregrettable\")\n",
      "\n",
      "plotter.plot()"
     ],
     "language": "python",
     "metadata": {},
     "outputs": []
    },
    {
     "cell_type": "code",
     "collapsed": false,
     "input": [
      "# effect of opening weekend on domestic total gross (not including opening weekend)\n",
      "# for small budget films\n",
      "\n",
      "X_small_opening = movies_small_budget[['openingweekendgross_log','ones']]\n",
      "Y_small_opening = movies_small_budget.domestic_without_opening_log\n",
      "linmodel_small_opening = sm.OLS(Y_small_opening, X_small_opening).fit()\n",
      "linmodel_small_opening.summary()"
     ],
     "language": "python",
     "metadata": {},
     "outputs": [
      {
       "html": [
        "<table class=\"simpletable\">\n",
        "<caption>OLS Regression Results</caption>\n",
        "<tr>\n",
        "  <th>Dep. Variable:</th>    <td>domestic_without_opening_log</td> <th>  R-squared:         </th> <td>   0.475</td>\n",
        "</tr>\n",
        "<tr>\n",
        "  <th>Model:</th>                         <td>OLS</td>             <th>  Adj. R-squared:    </th> <td>   0.474</td>\n",
        "</tr>\n",
        "<tr>\n",
        "  <th>Method:</th>                   <td>Least Squares</td>        <th>  F-statistic:       </th> <td>   368.9</td>\n",
        "</tr>\n",
        "<tr>\n",
        "  <th>Date:</th>                   <td>Thu, 18 Sep 2014</td>       <th>  Prob (F-statistic):</th> <td>5.42e-59</td>\n",
        "</tr>\n",
        "<tr>\n",
        "  <th>Time:</th>                       <td>11:11:29</td>           <th>  Log-Likelihood:    </th> <td> -575.39</td>\n",
        "</tr>\n",
        "<tr>\n",
        "  <th>No. Observations:</th>            <td>   409</td>            <th>  AIC:               </th> <td>   1155.</td>\n",
        "</tr>\n",
        "<tr>\n",
        "  <th>Df Residuals:</th>                <td>   407</td>            <th>  BIC:               </th> <td>   1163.</td>\n",
        "</tr>\n",
        "<tr>\n",
        "  <th>Df Model:</th>                    <td>     1</td>            <th>                     </th>     <td> </td>   \n",
        "</tr>\n",
        "</table>\n",
        "<table class=\"simpletable\">\n",
        "<tr>\n",
        "             <td></td>                <th>coef</th>     <th>std err</th>      <th>t</th>      <th>P>|t|</th> <th>[95.0% Conf. Int.]</th> \n",
        "</tr>\n",
        "<tr>\n",
        "  <th>openingweekendgross_log</th> <td>    0.4585</td> <td>    0.024</td> <td>   19.207</td> <td> 0.000</td> <td>    0.412     0.505</td>\n",
        "</tr>\n",
        "<tr>\n",
        "  <th>ones</th>                    <td>    9.5571</td> <td>    0.354</td> <td>   27.006</td> <td> 0.000</td> <td>    8.861    10.253</td>\n",
        "</tr>\n",
        "</table>\n",
        "<table class=\"simpletable\">\n",
        "<tr>\n",
        "  <th>Omnibus:</th>       <td> 1.839</td> <th>  Durbin-Watson:     </th> <td>   1.138</td>\n",
        "</tr>\n",
        "<tr>\n",
        "  <th>Prob(Omnibus):</th> <td> 0.399</td> <th>  Jarque-Bera (JB):  </th> <td>   1.753</td>\n",
        "</tr>\n",
        "<tr>\n",
        "  <th>Skew:</th>          <td>-0.015</td> <th>  Prob(JB):          </th> <td>   0.416</td>\n",
        "</tr>\n",
        "<tr>\n",
        "  <th>Kurtosis:</th>      <td> 3.319</td> <th>  Cond. No.          </th> <td>    108.</td>\n",
        "</tr>\n",
        "</table>"
       ],
       "metadata": {},
       "output_type": "pyout",
       "prompt_number": 28,
       "text": [
        "<class 'statsmodels.iolib.summary.Summary'>\n",
        "\"\"\"\n",
        "                                 OLS Regression Results                                 \n",
        "========================================================================================\n",
        "Dep. Variable:     domestic_without_opening_log   R-squared:                       0.475\n",
        "Model:                                      OLS   Adj. R-squared:                  0.474\n",
        "Method:                           Least Squares   F-statistic:                     368.9\n",
        "Date:                          Thu, 18 Sep 2014   Prob (F-statistic):           5.42e-59\n",
        "Time:                                  11:11:29   Log-Likelihood:                -575.39\n",
        "No. Observations:                           409   AIC:                             1155.\n",
        "Df Residuals:                               407   BIC:                             1163.\n",
        "Df Model:                                     1                                         \n",
        "===========================================================================================\n",
        "                              coef    std err          t      P>|t|      [95.0% Conf. Int.]\n",
        "-------------------------------------------------------------------------------------------\n",
        "openingweekendgross_log     0.4585      0.024     19.207      0.000         0.412     0.505\n",
        "ones                        9.5571      0.354     27.006      0.000         8.861    10.253\n",
        "==============================================================================\n",
        "Omnibus:                        1.839   Durbin-Watson:                   1.138\n",
        "Prob(Omnibus):                  0.399   Jarque-Bera (JB):                1.753\n",
        "Skew:                          -0.015   Prob(JB):                        0.416\n",
        "Kurtosis:                       3.319   Cond. No.                         108.\n",
        "==============================================================================\n",
        "\"\"\""
       ]
      }
     ],
     "prompt_number": 28
    },
    {
     "cell_type": "code",
     "collapsed": false,
     "input": [],
     "language": "python",
     "metadata": {},
     "outputs": [],
     "prompt_number": 28
    },
    {
     "cell_type": "code",
     "collapsed": false,
     "input": [
      "plt.scatter(movies_small_budget.openingweekendgross_log, movies_small_budget.domestic_without_opening_log)\n",
      "plt.xlabel('Opening Weekend')\n",
      "plt.ylabel('Box Office')\n",
      "plt.plot(movies_small_budget.openingweekendgross_log, linmodel_small_opening.predict(X_small_opening), 'r')"
     ],
     "language": "python",
     "metadata": {},
     "outputs": [
      {
       "metadata": {},
       "output_type": "pyout",
       "prompt_number": 29,
       "text": [
        "[<matplotlib.lines.Line2D at 0x10ad29c90>]"
       ]
      }
     ],
     "prompt_number": 29
    },
    {
     "cell_type": "code",
     "collapsed": false,
     "input": [
      "# effect of openingweekend/budget on domestic total gross (not including opening weekend)\n",
      "\n",
      "X_div = movies_final[['budget_log','openingweekendgross_log','ones']]\n",
      "Y_div = movies_final.domestic_without_opening_log\n",
      "linmodel_div = sm.OLS(Y_div, X_div).fit()\n",
      "linmodel_div.summary()"
     ],
     "language": "python",
     "metadata": {},
     "outputs": [
      {
       "html": [
        "<table class=\"simpletable\">\n",
        "<caption>OLS Regression Results</caption>\n",
        "<tr>\n",
        "  <th>Dep. Variable:</th>    <td>domestic_without_opening_log</td> <th>  R-squared:         </th> <td>   0.643</td>\n",
        "</tr>\n",
        "<tr>\n",
        "  <th>Model:</th>                         <td>OLS</td>             <th>  Adj. R-squared:    </th> <td>   0.643</td>\n",
        "</tr>\n",
        "<tr>\n",
        "  <th>Method:</th>                   <td>Least Squares</td>        <th>  F-statistic:       </th> <td>   1628.</td>\n",
        "</tr>\n",
        "<tr>\n",
        "  <th>Date:</th>                   <td>Thu, 18 Sep 2014</td>       <th>  Prob (F-statistic):</th>  <td>  0.00</td> \n",
        "</tr>\n",
        "<tr>\n",
        "  <th>Time:</th>                       <td>11:11:29</td>           <th>  Log-Likelihood:    </th> <td> -2101.5</td>\n",
        "</tr>\n",
        "<tr>\n",
        "  <th>No. Observations:</th>            <td>  1808</td>            <th>  AIC:               </th> <td>   4209.</td>\n",
        "</tr>\n",
        "<tr>\n",
        "  <th>Df Residuals:</th>                <td>  1805</td>            <th>  BIC:               </th> <td>   4225.</td>\n",
        "</tr>\n",
        "<tr>\n",
        "  <th>Df Model:</th>                    <td>     2</td>            <th>                     </th>     <td> </td>   \n",
        "</tr>\n",
        "</table>\n",
        "<table class=\"simpletable\">\n",
        "<tr>\n",
        "             <td></td>                <th>coef</th>     <th>std err</th>      <th>t</th>      <th>P>|t|</th> <th>[95.0% Conf. Int.]</th> \n",
        "</tr>\n",
        "<tr>\n",
        "  <th>budget_log</th>              <td>    0.0470</td> <td>    0.021</td> <td>    2.236</td> <td> 0.025</td> <td>    0.006     0.088</td>\n",
        "</tr>\n",
        "<tr>\n",
        "  <th>openingweekendgross_log</th> <td>    0.6077</td> <td>    0.014</td> <td>   43.838</td> <td> 0.000</td> <td>    0.581     0.635</td>\n",
        "</tr>\n",
        "<tr>\n",
        "  <th>ones</th>                    <td>    6.5747</td> <td>    0.289</td> <td>   22.741</td> <td> 0.000</td> <td>    6.008     7.142</td>\n",
        "</tr>\n",
        "</table>\n",
        "<table class=\"simpletable\">\n",
        "<tr>\n",
        "  <th>Omnibus:</th>       <td>32.613</td> <th>  Durbin-Watson:     </th> <td>   1.409</td>\n",
        "</tr>\n",
        "<tr>\n",
        "  <th>Prob(Omnibus):</th> <td> 0.000</td> <th>  Jarque-Bera (JB):  </th> <td>  51.913</td>\n",
        "</tr>\n",
        "<tr>\n",
        "  <th>Skew:</th>          <td> 0.158</td> <th>  Prob(JB):          </th> <td>5.34e-12</td>\n",
        "</tr>\n",
        "<tr>\n",
        "  <th>Kurtosis:</th>      <td> 3.768</td> <th>  Cond. No.          </th> <td>    377.</td>\n",
        "</tr>\n",
        "</table>"
       ],
       "metadata": {},
       "output_type": "pyout",
       "prompt_number": 30,
       "text": [
        "<class 'statsmodels.iolib.summary.Summary'>\n",
        "\"\"\"\n",
        "                                 OLS Regression Results                                 \n",
        "========================================================================================\n",
        "Dep. Variable:     domestic_without_opening_log   R-squared:                       0.643\n",
        "Model:                                      OLS   Adj. R-squared:                  0.643\n",
        "Method:                           Least Squares   F-statistic:                     1628.\n",
        "Date:                          Thu, 18 Sep 2014   Prob (F-statistic):               0.00\n",
        "Time:                                  11:11:29   Log-Likelihood:                -2101.5\n",
        "No. Observations:                          1808   AIC:                             4209.\n",
        "Df Residuals:                              1805   BIC:                             4225.\n",
        "Df Model:                                     2                                         \n",
        "===========================================================================================\n",
        "                              coef    std err          t      P>|t|      [95.0% Conf. Int.]\n",
        "-------------------------------------------------------------------------------------------\n",
        "budget_log                  0.0470      0.021      2.236      0.025         0.006     0.088\n",
        "openingweekendgross_log     0.6077      0.014     43.838      0.000         0.581     0.635\n",
        "ones                        6.5747      0.289     22.741      0.000         6.008     7.142\n",
        "==============================================================================\n",
        "Omnibus:                       32.613   Durbin-Watson:                   1.409\n",
        "Prob(Omnibus):                  0.000   Jarque-Bera (JB):               51.913\n",
        "Skew:                           0.158   Prob(JB):                     5.34e-12\n",
        "Kurtosis:                       3.768   Cond. No.                         377.\n",
        "==============================================================================\n",
        "\"\"\""
       ]
      }
     ],
     "prompt_number": 30
    },
    {
     "cell_type": "code",
     "collapsed": false,
     "input": [
      "budget_residual_big = linmodel_big_div.resid\n",
      "budget_std_big = np.std(budget_residual_big)\n",
      "print budget_std_big"
     ],
     "language": "python",
     "metadata": {},
     "outputs": [
      {
       "ename": "NameError",
       "evalue": "name 'linmodel_big_div' is not defined",
       "output_type": "pyerr",
       "traceback": [
        "\u001b[0;31m---------------------------------------------------------------------------\u001b[0m\n\u001b[0;31mNameError\u001b[0m                                 Traceback (most recent call last)",
        "\u001b[0;32m<ipython-input-31-68d221be6904>\u001b[0m in \u001b[0;36m<module>\u001b[0;34m()\u001b[0m\n\u001b[0;32m----> 1\u001b[0;31m \u001b[0mbudget_residual_big\u001b[0m \u001b[0;34m=\u001b[0m \u001b[0mlinmodel_big_div\u001b[0m\u001b[0;34m.\u001b[0m\u001b[0mresid\u001b[0m\u001b[0;34m\u001b[0m\u001b[0m\n\u001b[0m\u001b[1;32m      2\u001b[0m \u001b[0mbudget_std_big\u001b[0m \u001b[0;34m=\u001b[0m \u001b[0mnp\u001b[0m\u001b[0;34m.\u001b[0m\u001b[0mstd\u001b[0m\u001b[0;34m(\u001b[0m\u001b[0mbudget_residual_big\u001b[0m\u001b[0;34m)\u001b[0m\u001b[0;34m\u001b[0m\u001b[0m\n\u001b[1;32m      3\u001b[0m \u001b[0;32mprint\u001b[0m \u001b[0mbudget_std_big\u001b[0m\u001b[0;34m\u001b[0m\u001b[0m\n",
        "\u001b[0;31mNameError\u001b[0m: name 'linmodel_big_div' is not defined"
       ]
      }
     ],
     "prompt_number": 31
    },
    {
     "cell_type": "code",
     "collapsed": false,
     "input": [
      "budget_residual_small = linmodel_small_div.resid\n",
      "budget_std_small = np.std(budget_residual_small)\n",
      "print budget_std_small"
     ],
     "language": "python",
     "metadata": {},
     "outputs": []
    },
    {
     "cell_type": "code",
     "collapsed": false,
     "input": [
      "budget_residual = linmodel_div.resid\n",
      "budget_std = np.std(budget_residual)\n",
      "print budget_std"
     ],
     "language": "python",
     "metadata": {},
     "outputs": []
    },
    {
     "cell_type": "code",
     "collapsed": false,
     "input": [
      "# budget_div_list = movies_final['budget_div_log'].tolist()"
     ],
     "language": "python",
     "metadata": {},
     "outputs": []
    },
    {
     "cell_type": "code",
     "collapsed": false,
     "input": [
      "import random \n",
      "import math\n",
      "expected_outcome = []\n",
      "\n",
      "def underlying_gross_model(x):\n",
      "    return 0.2514*x+17.9154+random.gauss(0, 0.997693431706)\n",
      "\n",
      "for x in movies_final.opening_div_budget_log:\n",
      "    value = underlying_gross_model(x)\n",
      "    expected_outcome.append(value)\n",
      "\n",
      "movies_final['simulated'] = expected_outcome"
     ],
     "language": "python",
     "metadata": {},
     "outputs": []
    },
    {
     "cell_type": "code",
     "collapsed": false,
     "input": [
      "movies_final.head()"
     ],
     "language": "python",
     "metadata": {},
     "outputs": []
    },
    {
     "cell_type": "code",
     "collapsed": false,
     "input": [
      "#challenge 1\n",
      "plt.plot(movies_final.opening_div_budget_log, movies_final.domestic_without_opening_log, 'bx')\n",
      "plt.xlabel('Log(Opening/Budget)')\n",
      "plt.ylabel('Box Office Without Opening')\n",
      "plt.plot(movies_final.opening_div_budget_log, movies_final.simulated, 'rx')"
     ],
     "language": "python",
     "metadata": {},
     "outputs": []
    },
    {
     "cell_type": "code",
     "collapsed": false,
     "input": [
      "#start challenge 2\n",
      "expected_outcome_2 = []\n",
      "\n",
      "def underlying_gross_model_2(x):\n",
      "    return .2*x+5+random.gauss(0, 12)\n",
      "\n",
      "for x in movies_final.opening_div_budget_log:\n",
      "    value = underlying_gross_model(x)\n",
      "    expected_outcome_2.append(value)\n",
      "\n",
      "movies_final['experiment'] = expected_outcome_2"
     ],
     "language": "python",
     "metadata": {},
     "outputs": []
    },
    {
     "cell_type": "code",
     "collapsed": false,
     "input": [
      "expected_outcome_3 = []\n",
      "\n",
      "def underlying_gross_model_3(x):\n",
      "    return .2*(log(x))+5+random.gauss(0, 12)\n",
      "\n",
      "for x in movies_final.opening_div_budget_log:\n",
      "    value = underlying_gross_model(x)\n",
      "    expected_outcome_3.append(value)\n",
      "movies_final['experiment_2'] = expected_outcome_3\n",
      "movies_final.head()"
     ],
     "language": "python",
     "metadata": {},
     "outputs": []
    },
    {
     "cell_type": "code",
     "collapsed": false,
     "input": [
      "expected_outcome_4 = []\n",
      "\n",
      "def underlying_gross_model_4(x):\n",
      "    return .2*(x**6)+5+random.gauss(0, 12)\n",
      "\n",
      "for x in movies_final.opening_div_budget_log:\n",
      "    value = underlying_gross_model(x)\n",
      "    expected_outcome_4.append(value)\n",
      "movies_final['experiment_3'] = expected_outcome_4\n",
      "movies_final.head()"
     ],
     "language": "python",
     "metadata": {},
     "outputs": []
    },
    {
     "cell_type": "code",
     "collapsed": false,
     "input": [],
     "language": "python",
     "metadata": {},
     "outputs": []
    },
    {
     "cell_type": "code",
     "collapsed": false,
     "input": [
      "#challenge 2\n",
      "plt.plot(movies_small_budget.opening_div_budget_log, movies_small_budget.experiment, 'ro')\n",
      "plt.plot(movies_small_budget.opening_div_budget_log, movies_small_budget.experiment_2, 'bo')\n",
      "plt.plot(movies_small_budget.opening_div_budget_log, movies_small_budget.experiment_3, 'go')"
     ],
     "language": "python",
     "metadata": {},
     "outputs": []
    },
    {
     "cell_type": "code",
     "collapsed": false,
     "input": [
      "rows = random.sample(movies_final.index.values, 450)"
     ],
     "language": "python",
     "metadata": {},
     "outputs": []
    },
    {
     "cell_type": "code",
     "collapsed": false,
     "input": [
      "test_movies = movies_final.ix[rows]\n",
      "training_movies = movies_final.drop(rows)"
     ],
     "language": "python",
     "metadata": {},
     "outputs": []
    },
    {
     "cell_type": "code",
     "collapsed": false,
     "input": [
      "# power_of_feature = movies_final[['opening_div_budget_log','opening_div_budget_2','opening_div_budget_3','opening_div_budget_4',\n",
      "#                     'opening_div_budget_5','opening_div_budget_6','opening_div_budget_7','opening_div_budget_8']]\n",
      "# power_of_feature.head()"
     ],
     "language": "python",
     "metadata": {},
     "outputs": []
    },
    {
     "cell_type": "code",
     "collapsed": false,
     "input": [
      "# for x in power_of_feature.iteritems(columns):\n",
      "#     print x\n",
      "# X_training = training_movies[['opening_div_budget_log','opening_div_budget_2','opening_div_budget_3','opening_div_budget_4',\n",
      "#                               'opening_div_budget_5','opening_div_budget_6','opening_div_budget_7','ones']]\n",
      "# Y_training = training_movies['domestic_without_opening_log']\n",
      "# linmodel_training = sm.OLS(Y_training, X_training).fit()\n",
      "# linmodel_training.summary()"
     ],
     "language": "python",
     "metadata": {},
     "outputs": []
    },
    {
     "cell_type": "code",
     "collapsed": false,
     "input": [],
     "language": "python",
     "metadata": {},
     "outputs": []
    },
    {
     "cell_type": "code",
     "collapsed": false,
     "input": [
      "training_list =[]\n",
      "test_list = []"
     ],
     "language": "python",
     "metadata": {},
     "outputs": []
    },
    {
     "cell_type": "code",
     "collapsed": false,
     "input": [
      "X_training = training_movies[['opening_div_budget_log','ones']]\n",
      "Y_training = training_movies['domestic_without_opening_log']\n",
      "linmodel_training = sm.OLS(Y_training, X_training).fit()\n",
      "\n",
      "X_test =test_movies[['opening_div_budget_log','ones']]\n",
      "Y_test = test_movies['domestic_without_opening_log']\n",
      "\n",
      "training_error = mean_squared_error(Y_training,linmodel_training.predict(X_training))\n",
      "training_list.append(training_error)\n",
      "print 'training error: %s' %training_error\n",
      "test_error = mean_squared_error(Y_test, linmodel_training.predict(X_test))\n",
      "test_list.append(test_error)\n",
      "print 'test error: %s' %test_error\n",
      "linmodel_training.summary()"
     ],
     "language": "python",
     "metadata": {},
     "outputs": []
    },
    {
     "cell_type": "code",
     "collapsed": false,
     "input": [
      "X_training = training_movies[['opening_div_budget_log','opening_div_budget_2','ones']]\n",
      "Y_training = training_movies['domestic_without_opening_log']\n",
      "linmodel_training = sm.OLS(Y_training, X_training).fit()\n",
      "\n",
      "X_test =test_movies[['opening_div_budget_log','opening_div_budget_2','ones']]\n",
      "Y_test = test_movies['domestic_without_opening_log']\n",
      "\n",
      "training_error = mean_squared_error(Y_training,linmodel_training.predict(X_training))\n",
      "training_list.append(training_error)\n",
      "print 'training error: %s' %training_error\n",
      "test_error = mean_squared_error(Y_test, linmodel_training.predict(X_test))\n",
      "test_list.append(test_error)\n",
      "print 'test error: %s' %test_error\n",
      "linmodel_training.summary()"
     ],
     "language": "python",
     "metadata": {},
     "outputs": []
    },
    {
     "cell_type": "code",
     "collapsed": false,
     "input": [
      "X_training = training_movies[['opening_div_budget_log','opening_div_budget_2','opening_div_budget_3','ones']]\n",
      "Y_training = training_movies['domestic_without_opening_log']\n",
      "linmodel_training = sm.OLS(Y_training, X_training).fit()\n",
      "\n",
      "X_test =test_movies[['opening_div_budget_log','opening_div_budget_2','opening_div_budget_3','ones']]\n",
      "Y_test = test_movies['domestic_without_opening_log']\n",
      "\n",
      "training_error = mean_squared_error(Y_training,linmodel_training.predict(X_training))\n",
      "training_list.append(training_error)\n",
      "print 'training error: %s' %training_error\n",
      "test_error = mean_squared_error(Y_test, linmodel_training.predict(X_test))\n",
      "test_list.append(test_error)\n",
      "print 'test error: %s' %test_error\n",
      "linmodel_training.summary()"
     ],
     "language": "python",
     "metadata": {},
     "outputs": []
    },
    {
     "cell_type": "code",
     "collapsed": false,
     "input": [
      "X_training = training_movies[['opening_div_budget_log','opening_div_budget_2','opening_div_budget_3','opening_div_budget_4',\n",
      "                              'ones']]\n",
      "Y_training = training_movies['domestic_without_opening_log']\n",
      "linmodel_training = sm.OLS(Y_training, X_training).fit()\n",
      "\n",
      "X_test =test_movies[['opening_div_budget_log','opening_div_budget_2','opening_div_budget_3','opening_div_budget_4',\n",
      "                     'ones']]\n",
      "Y_test = test_movies['domestic_without_opening_log']\n",
      "\n",
      "training_error = mean_squared_error(Y_training,linmodel_training.predict(X_training))\n",
      "training_list.append(training_error)\n",
      "print 'training error: %s' %training_error\n",
      "test_error = mean_squared_error(Y_test, linmodel_training.predict(X_test))\n",
      "test_list.append(test_error)\n",
      "print 'test error: %s' %test_error\n",
      "linmodel_training.summary()"
     ],
     "language": "python",
     "metadata": {},
     "outputs": []
    },
    {
     "cell_type": "code",
     "collapsed": false,
     "input": [
      "X_training = training_movies[['opening_div_budget_log','opening_div_budget_2','opening_div_budget_3','opening_div_budget_4',\n",
      "                              'opening_div_budget_5','ones']]\n",
      "Y_training = training_movies['domestic_without_opening_log']\n",
      "linmodel_training = sm.OLS(Y_training, X_training).fit()\n",
      "\n",
      "X_test =test_movies[['opening_div_budget_log','opening_div_budget_2','opening_div_budget_3','opening_div_budget_4',\n",
      "                     'opening_div_budget_5','ones']]\n",
      "Y_test = test_movies['domestic_without_opening_log']\n",
      "\n",
      "training_error = mean_squared_error(Y_training,linmodel_training.predict(X_training))\n",
      "training_list.append(training_error)\n",
      "print 'training error: %s' %training_error\n",
      "test_error = mean_squared_error(Y_test, linmodel_training.predict(X_test))\n",
      "test_list.append(test_error)\n",
      "print 'test error: %s' %test_error\n",
      "linmodel_training.summary()"
     ],
     "language": "python",
     "metadata": {},
     "outputs": []
    },
    {
     "cell_type": "code",
     "collapsed": false,
     "input": [
      "X_training = training_movies[['opening_div_budget_log','opening_div_budget_2','opening_div_budget_3','opening_div_budget_4',\n",
      "                              'opening_div_budget_5','opening_div_budget_6','opening_div_budget_7','ones']]\n",
      "Y_training = training_movies['domestic_without_opening_log']\n",
      "linmodel_training = sm.OLS(Y_training, X_training).fit()\n",
      "\n",
      "X_test =test_movies[['opening_div_budget_log','opening_div_budget_2','opening_div_budget_3','opening_div_budget_4',\n",
      "                     'opening_div_budget_5','opening_div_budget_6','opening_div_budget_7','ones']]\n",
      "Y_test = test_movies['domestic_without_opening_log']\n",
      "\n",
      "training_error = mean_squared_error(Y_training,linmodel_training.predict(X_training))\n",
      "training_list.append(training_error)\n",
      "print 'training error: %s' %training_error\n",
      "test_error = mean_squared_error(Y_test, linmodel_training.predict(X_test))\n",
      "test_list.append(test_error)\n",
      "print 'test error: %s' %test_error\n",
      "linmodel_training.summary()"
     ],
     "language": "python",
     "metadata": {},
     "outputs": []
    },
    {
     "cell_type": "code",
     "collapsed": false,
     "input": [
      "X_training = training_movies[['opening_div_budget_log','opening_div_budget_2','opening_div_budget_3','opening_div_budget_4',\n",
      "                              'opening_div_budget_5','opening_div_budget_6','opening_div_budget_7','opening_div_budget_8','ones']]\n",
      "Y_training = training_movies['domestic_without_opening_log']\n",
      "linmodel_training = sm.OLS(Y_training, X_training).fit()\n",
      "\n",
      "X_test =test_movies[['opening_div_budget_log','opening_div_budget_2','opening_div_budget_3','opening_div_budget_4',\n",
      "                     'opening_div_budget_5','opening_div_budget_6','opening_div_budget_7','opening_div_budget_8','ones']]\n",
      "Y_test = test_movies['domestic_without_opening_log']\n",
      "\n",
      "training_error = mean_squared_error(Y_training,linmodel_training.predict(X_training))\n",
      "training_list.append(training_error)\n",
      "print 'training error: %s' %training_error\n",
      "test_error = mean_squared_error(Y_test, linmodel_training.predict(X_test))\n",
      "test_list.append(test_error)\n",
      "print 'test error: %s' %test_error\n",
      "linmodel_training.summary()"
     ],
     "language": "python",
     "metadata": {},
     "outputs": []
    },
    {
     "cell_type": "code",
     "collapsed": false,
     "input": [
      "X_training = training_movies[['opening_div_budget_log','opening_div_budget_2','opening_div_budget_3','opening_div_budget_4','opening_div_budget_5',\n",
      "                              'opening_div_budget_6','opening_div_budget_8','ones']]\n",
      "Y_training = training_movies['domestic_without_opening_log']\n",
      "linmodel_training = sm.OLS(Y_training, X_training).fit()\n",
      "\n",
      "X_test =test_movies[['opening_div_budget_log','opening_div_budget_2','opening_div_budget_3','opening_div_budget_4','opening_div_budget_5',\n",
      "                     'opening_div_budget_6','opening_div_budget_8','ones']]\n",
      "Y_test = test_movies['domestic_without_opening_log']\n",
      "\n",
      "training_error = mean_squared_error(Y_training,linmodel_training.predict(X_training))\n",
      "training_list.append(training_error)\n",
      "print 'training error: %s' %training_error\n",
      "test_error = mean_squared_error(Y_test, linmodel_training.predict(X_test))\n",
      "test_list.append(test_error)\n",
      "print 'test error: %s' %test_error\n",
      "linmodel_training.summary()"
     ],
     "language": "python",
     "metadata": {},
     "outputs": []
    },
    {
     "cell_type": "code",
     "collapsed": false,
     "input": [
      "print training_list\n",
      "print test_list"
     ],
     "language": "python",
     "metadata": {},
     "outputs": []
    },
    {
     "cell_type": "code",
     "collapsed": false,
     "input": [
      "plt.plot(training_list, label='training set')\n",
      "test_list.pop(-1)\n",
      "plt.plot(test_list, label='test set')\n",
      "\n",
      "plt.legend()"
     ],
     "language": "python",
     "metadata": {},
     "outputs": []
    },
    {
     "cell_type": "code",
     "collapsed": false,
     "input": [
      "# plt.scatter(training_movies.opening_div_budget_log, training_movies.domestic_without_opening_log)\n",
      "# plt.plot(training_movies.opening_div_budget_log, linmodel_training.predict(X_training), 'r')"
     ],
     "language": "python",
     "metadata": {},
     "outputs": []
    },
    {
     "cell_type": "code",
     "collapsed": false,
     "input": [
      "X_test =test_movies[['opening_div_budget_2','opening_div_budget_5','opening_div_budget_4',\n",
      "                              'opening_div_budget_6','opening_div_budget_7','ones']]\n",
      "Y_test = test_movies['domestic_without_opening_log']"
     ],
     "language": "python",
     "metadata": {},
     "outputs": []
    },
    {
     "cell_type": "code",
     "collapsed": false,
     "input": [
      "plt.scatter(test_movies.opening_div_budget_log, test_movies.domestic_without_opening_log)\n",
      "plt.plot(test_movies.opening_div_budget_log, linmodel_training.predict(X_test), 'ro')"
     ],
     "language": "python",
     "metadata": {},
     "outputs": []
    },
    {
     "cell_type": "code",
     "collapsed": false,
     "input": [
      "training_error = mean_squared_error(Y_training,linmodel_training.predict(X_training))\n",
      "print training_error"
     ],
     "language": "python",
     "metadata": {},
     "outputs": []
    },
    {
     "cell_type": "code",
     "collapsed": false,
     "input": [
      "test_error = mean_squared_error(Y_test, linmodel_training.predict(X_test))\n",
      "print test_error"
     ],
     "language": "python",
     "metadata": {},
     "outputs": []
    },
    {
     "cell_type": "code",
     "collapsed": false,
     "input": [],
     "language": "python",
     "metadata": {},
     "outputs": []
    }
   ],
   "metadata": {}
  }
 ]
}