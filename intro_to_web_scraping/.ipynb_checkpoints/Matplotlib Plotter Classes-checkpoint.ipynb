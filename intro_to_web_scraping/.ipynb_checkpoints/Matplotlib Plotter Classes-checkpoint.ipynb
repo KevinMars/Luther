{
 "metadata": {
  "name": "",
  "signature": "sha256:f58b944fde746040d5f2d418edbfd8112afccd1382a969771e09dc4f3336b554"
 },
 "nbformat": 3,
 "nbformat_minor": 0,
 "worksheets": [
  {
   "cells": [
    {
     "cell_type": "code",
     "collapsed": false,
     "input": [
      "import pandas as pd\n",
      "import numpy as np\n",
      "import plotters\n",
      "\n",
      "\n",
      "\n",
      "# read the file                                                                                                                                                                      \n",
      "movies_df = pd.read_csv('2013_movies.csv', parse_dates={'Date':['ReleaseDate']})\n",
      "\n",
      "# get rid of rows without budgets                                                                                                                                                    \n",
      "movies_with_budgets = movies_df[ -np.isnan(movies_df['Budget']) ]\n"
     ],
     "language": "python",
     "metadata": {},
     "outputs": [],
     "prompt_number": 43
    },
    {
     "cell_type": "code",
     "collapsed": false,
     "input": [
      "# get the x and y data to plot, and names to pop                                                                                                                                     \n",
      "# divide budget and gross by 1 million dollars for readability                                                                                                                       \n",
      "x = movies_with_budgets['Budget']/1e6\n",
      "y = movies_with_budgets['DomesticTotalGross']/1e6\n",
      "name = movies_with_budgets['Rating']\n"
     ],
     "language": "python",
     "metadata": {},
     "outputs": [],
     "prompt_number": 44
    },
    {
     "cell_type": "code",
     "collapsed": false,
     "input": [
      "# initiate plotter                                                                                                                                                                   \n",
      "plotter = plotters.TwoVariableComparisonPlotter(x, y, name,\n",
      "                                           x_range=(None, None),\n",
      "                                           y_range = (None, None),\n",
      "                                           label_display_style=\"hover\",\n",
      "                                           xlabel=\"Budget (million dollars)\",\n",
      "                                           ylabel = \"Domestic Gross (million dollars)\")\n",
      "\n",
      "# plot!                                                                                                                                                                              \n",
      "plotter.add_text(0, 360, \"Highly\\nprofitable\")\n",
      "plotter.add_text(200, 0, \"Absolutely\\nregrettable\")\n",
      "\n",
      "plotter.plot()"
     ],
     "language": "python",
     "metadata": {},
     "outputs": [],
     "prompt_number": 45
    }
   ],
   "metadata": {}
  }
 ]
}