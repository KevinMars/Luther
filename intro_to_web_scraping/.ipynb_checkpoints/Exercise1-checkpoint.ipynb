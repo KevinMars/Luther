{
 "metadata": {
  "name": "",
  "signature": "sha256:ea50e011393df7fcb76f0c6d728f7c6c4b742adf1590a627509990a112a94900"
 },
 "nbformat": 3,
 "nbformat_minor": 0,
 "worksheets": [
  {
   "cells": [
    {
     "cell_type": "code",
     "collapsed": false,
     "input": [
      "import urllib2\n",
      "import re\n",
      "from bs4 import BeautifulSoup\n",
      "page_number = 23 \n",
      "movie_urls = []\n",
      "\n",
      "while page_number < 24:\n",
      "    url = 'http://boxofficemojo.com/alltime/domestic.htm?page=%s&p=.htm' % (page_number)\n",
      "\n",
      "    page = urllib2.urlopen(url)\n",
      "    soup = BeautifulSoup(page)\n",
      "\n",
      "\n",
      "    for incomplete_url in soup.find_all(href=re.compile(\"movies\")):        \n",
      "        if \"movies/?id\" in incomplete_url['href']:\n",
      "            try:\n",
      "                incomplete_url = str(incomplete_url['href'])\n",
      "                base_url = 'http://boxofficemojo.com'\n",
      "                movie_urls.append(base_url+incomplete_url)\n",
      "            except:\n",
      "                pass\n",
      "        elif \"/movies/?page=releas\" in incomplete_url['href']:\n",
      "            incomplete_url_replace = str(incomplete_url['href'])\n",
      "            incomplete_url_replace = incomplete_url_replace.replace('page=releases&','')\n",
      "            base_url = 'http://boxofficemojo.com'\n",
      "            movie_urls.append(base_url+incomplete_url_replace)\n",
      "    page_number += 1\n",
      "len (movie_urls)\n"
     ],
     "language": "python",
     "metadata": {},
     "outputs": [
      {
       "ename": "UnicodeEncodeError",
       "evalue": "'ascii' codec can't encode character u'\\xa0' in position 21: ordinal not in range(128)",
       "output_type": "pyerr",
       "traceback": [
        "\u001b[0;31m---------------------------------------------------------------------------\u001b[0m\n\u001b[0;31mUnicodeEncodeError\u001b[0m                        Traceback (most recent call last)",
        "\u001b[0;32m<ipython-input-39-d3db5f04e776>\u001b[0m in \u001b[0;36m<module>\u001b[0;34m()\u001b[0m\n\u001b[1;32m     14\u001b[0m     \u001b[0;32mfor\u001b[0m \u001b[0mincomplete_url\u001b[0m \u001b[0;32min\u001b[0m \u001b[0msoup\u001b[0m\u001b[0;34m.\u001b[0m\u001b[0mfind_all\u001b[0m\u001b[0;34m(\u001b[0m\u001b[0mhref\u001b[0m\u001b[0;34m=\u001b[0m\u001b[0mre\u001b[0m\u001b[0;34m.\u001b[0m\u001b[0mcompile\u001b[0m\u001b[0;34m(\u001b[0m\u001b[0;34m\"movies\"\u001b[0m\u001b[0;34m)\u001b[0m\u001b[0;34m)\u001b[0m\u001b[0;34m:\u001b[0m\u001b[0;34m\u001b[0m\u001b[0m\n\u001b[1;32m     15\u001b[0m         \u001b[0;32mif\u001b[0m \u001b[0;34m\"movies/?id\"\u001b[0m \u001b[0;32min\u001b[0m \u001b[0mincomplete_url\u001b[0m\u001b[0;34m[\u001b[0m\u001b[0;34m'href'\u001b[0m\u001b[0;34m]\u001b[0m\u001b[0;34m:\u001b[0m\u001b[0;34m\u001b[0m\u001b[0m\n\u001b[0;32m---> 16\u001b[0;31m             \u001b[0mincomplete_url\u001b[0m \u001b[0;34m=\u001b[0m \u001b[0mstr\u001b[0m\u001b[0;34m(\u001b[0m\u001b[0mincomplete_url\u001b[0m\u001b[0;34m[\u001b[0m\u001b[0;34m'href'\u001b[0m\u001b[0;34m]\u001b[0m\u001b[0;34m)\u001b[0m\u001b[0;34m\u001b[0m\u001b[0m\n\u001b[0m\u001b[1;32m     17\u001b[0m             \u001b[0mbase_url\u001b[0m \u001b[0;34m=\u001b[0m \u001b[0;34m'http://boxofficemojo.com'\u001b[0m\u001b[0;34m\u001b[0m\u001b[0m\n\u001b[1;32m     18\u001b[0m             \u001b[0mmovie_urls\u001b[0m\u001b[0;34m.\u001b[0m\u001b[0mappend\u001b[0m\u001b[0;34m(\u001b[0m\u001b[0mbase_url\u001b[0m\u001b[0;34m+\u001b[0m\u001b[0mincomplete_url\u001b[0m\u001b[0;34m)\u001b[0m\u001b[0;34m\u001b[0m\u001b[0m\n",
        "\u001b[0;31mUnicodeEncodeError\u001b[0m: 'ascii' codec can't encode character u'\\xa0' in position 21: ordinal not in range(128)"
       ]
      }
     ],
     "prompt_number": 39
    },
    {
     "cell_type": "code",
     "collapsed": false,
     "input": [
      "import sys\n",
      "sys.path.append('../movies/')\n",
      "\n",
      "#import the module\n",
      "import bomojo\n",
      "reload(bomojo)\n",
      "bmj = bomojo.BOMojoScraper()\n",
      "\n",
      "\n",
      "movie = []\n",
      "for x in movie_urls:\n",
      "    try:\n",
      "        movie.append(bmj.parse_full_mojo_page(x))      \n",
      "    except:\n",
      "        print x\n",
      "        pass\n",
      "        \n"
     ],
     "language": "python",
     "metadata": {},
     "outputs": [
      {
       "output_type": "stream",
       "stream": "stdout",
       "text": [
        "http://boxofficemojo.com/movies/?id=marvel2014a.htm\n",
        "http://boxofficemojo.com/oscar/movies/?id=juno.htm"
       ]
      },
      {
       "output_type": "stream",
       "stream": "stdout",
       "text": [
        "\n"
       ]
      }
     ],
     "prompt_number": 20
    },
    {
     "cell_type": "code",
     "collapsed": false,
     "input": [
      "first_movie_dict = movie[0]\n",
      "movie_keys = first_movie_dict.keys()"
     ],
     "language": "python",
     "metadata": {},
     "outputs": [],
     "prompt_number": 17
    },
    {
     "cell_type": "code",
     "collapsed": false,
     "input": [
      "import csv\n",
      "\n",
      "open_file = open('Luther_movies_all_time.csv','wb')\n",
      "w = csv.DictWriter(open_file,movie_keys)\n",
      "w.writer.writerow(movie_keys)\n",
      "w.writerows(movie)\n",
      "#open_file.close()"
     ],
     "language": "python",
     "metadata": {},
     "outputs": [],
     "prompt_number": 18
    }
   ],
   "metadata": {}
  }
 ]
}