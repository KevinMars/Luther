{
 "metadata": {
  "name": "",
  "signature": "sha256:d75aeab44431740d38f55184ed906e731aba189e5e10e1c660ee7169a2c6861c"
 },
 "nbformat": 3,
 "nbformat_minor": 0,
 "worksheets": [
  {
   "cells": [
    {
     "cell_type": "code",
     "collapsed": false,
     "input": [
      "import urllib2\n",
      "import re\n",
      "from bs4 import BeautifulSoup\n",
      "\n",
      "url = 'http://www.boxofficemojo.com/alltime/world/'\n",
      "#url = 'http://boxofficemojo.com/yearly/chart/?yr=1997&p=.htm'\n",
      "\n",
      "page = urllib2.urlopen(url)\n",
      "soup = BeautifulSoup(page)\n",
      "\n",
      "movie_urls = []\n",
      "for incomplete_url in soup.find_all(href=re.compile(\"movies\")):        \n",
      "    if \"movies/?id\" in incomplete_url['href']:\n",
      "        incomplete_url = str(incomplete_url['href'])\n",
      "        base_url = 'http://boxofficemojo.com'\n",
      "        movie_urls.append(base_url+incomplete_url)\n",
      "\n",
      "#print movie_urls\n",
      "\n"
     ],
     "language": "python",
     "metadata": {},
     "outputs": [],
     "prompt_number": 38
    },
    {
     "cell_type": "code",
     "collapsed": false,
     "input": [
      "import sys\n",
      "sys.path.append('../movies/')\n",
      "\n",
      "#import the module\n",
      "import bomojo\n",
      "bmj = bomojo.BOMojoScraper()\n",
      "\n",
      "movie = []\n",
      "for x in movie_urls:\n",
      "    try:\n",
      "        movie.append(bmj.parse_full_mojo_page(x))      \n",
      "    except:\n",
      "        print x\n",
      "        pass  \n",
      "        \n"
     ],
     "language": "python",
     "metadata": {},
     "outputs": [
      {
       "output_type": "stream",
       "stream": "stdout",
       "text": [
        "http://boxofficemojo.com/movies/?id=marvel2014a.htm\n",
        "http://boxofficemojo.com/movies/?id=avatar.htm"
       ]
      },
      {
       "output_type": "stream",
       "stream": "stdout",
       "text": [
        "\n",
        "http://boxofficemojo.com/movies/?id=harrypotter72.htm"
       ]
      },
      {
       "output_type": "stream",
       "stream": "stdout",
       "text": [
        "\n",
        "http://boxofficemojo.com/movies/?id=transformers4.htm"
       ]
      },
      {
       "output_type": "stream",
       "stream": "stdout",
       "text": [
        "\n",
        "http://boxofficemojo.com/movies/?id=hobbit.htm"
       ]
      },
      {
       "output_type": "stream",
       "stream": "stdout",
       "text": [
        "\n",
        "http://boxofficemojo.com/movies/?id=harrypotter7.htm"
       ]
      },
      {
       "output_type": "stream",
       "stream": "stdout",
       "text": [
        "\n",
        "http://boxofficemojo.com/movies/?id=hobbit2.htm"
       ]
      },
      {
       "output_type": "stream",
       "stream": "stdout",
       "text": [
        "\n",
        "http://boxofficemojo.com/movies/?id=et.htm"
       ]
      },
      {
       "output_type": "stream",
       "stream": "stdout",
       "text": [
        "\n",
        "http://boxofficemojo.com/movies/?id=maleficient.htm"
       ]
      },
      {
       "output_type": "stream",
       "stream": "stdout",
       "text": [
        "\n",
        "http://boxofficemojo.com/movies/?id=xmen2014.htm"
       ]
      },
      {
       "output_type": "stream",
       "stream": "stdout",
       "text": [
        "\n",
        "http://boxofficemojo.com/movies/?id=monstersinc2.htm"
       ]
      },
      {
       "output_type": "stream",
       "stream": "stdout",
       "text": [
        "\n",
        "http://boxofficemojo.com/movies/?id=gravity.htm"
       ]
      },
      {
       "output_type": "stream",
       "stream": "stdout",
       "text": [
        "\n",
        "http://boxofficemojo.com/movies/?id=amazingspiderman2.htm"
       ]
      },
      {
       "output_type": "stream",
       "stream": "stdout",
       "text": [
        "\n",
        "http://boxofficemojo.com/movies/?id=dawnoftheapes.htm"
       ]
      },
      {
       "output_type": "stream",
       "stream": "stdout",
       "text": [
        "\n",
        "http://boxofficemojo.com/movies/?id=howtotrainyourdragon2.htm"
       ]
      },
      {
       "output_type": "stream",
       "stream": "stdout",
       "text": [
        "\n",
        "http://boxofficemojo.com/movies/?id=marvel2014a.htm"
       ]
      },
      {
       "output_type": "stream",
       "stream": "stdout",
       "text": [
        "\n"
       ]
      }
     ],
     "prompt_number": 43
    },
    {
     "cell_type": "code",
     "collapsed": false,
     "input": [
      "first_movie_dict = movie[0]\n",
      "movie_keys = first_movie_dict.keys()"
     ],
     "language": "python",
     "metadata": {},
     "outputs": [],
     "prompt_number": 40
    },
    {
     "cell_type": "code",
     "collapsed": false,
     "input": [
      "import csv\n",
      "\n",
      "open_file = open('movies_with_budget2.csv','wb')\n",
      "w = csv.DictWriter(open_file,movie_keys)\n",
      "w.writer.writerow(movie_keys)\n",
      "w.writerows(movie)\n",
      "f.close()"
     ],
     "language": "python",
     "metadata": {},
     "outputs": [],
     "prompt_number": 41
    }
   ],
   "metadata": {}
  }
 ]
}