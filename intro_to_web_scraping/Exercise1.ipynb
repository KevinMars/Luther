{
 "metadata": {
  "name": "",
  "signature": "sha256:52a774672e8eb65a918f43b0ce1684e39870f9e305596e3ec679987dfde300f1"
 },
 "nbformat": 3,
 "nbformat_minor": 0,
 "worksheets": [
  {
   "cells": [
    {
     "cell_type": "code",
     "collapsed": false,
     "input": [
      "import urllib2\n",
      "import re\n",
      "from bs4 import BeautifulSoup\n",
      "page_number = 1 \n",
      "movie_urls = []\n",
      "\n",
      "while page_number < 2:\n",
      "    url = 'http://boxofficemojo.com/alltime/domestic.htm?page=%s&p=.htm' % (page_number)\n",
      "\n",
      "    page = urllib2.urlopen(url)\n",
      "    soup = BeautifulSoup(page)\n",
      "\n",
      "\n",
      "    for incomplete_url in soup.find_all(href=re.compile(\"movies\")):        \n",
      "        if \"movies/?id\" in incomplete_url['href']:\n",
      "            try:\n",
      "                incomplete_url = str(incomplete_url['href'])\n",
      "                base_url = 'http://boxofficemojo.com'\n",
      "                movie_urls.append(base_url+incomplete_url)\n",
      "            except:\n",
      "                pass\n",
      "        elif \"/movies/?page=releas\" in incomplete_url['href']:\n",
      "            incomplete_url_replace = str(incomplete_url['href'])\n",
      "            incomplete_url_replace = incomplete_url_replace.replace('page=releases&','')\n",
      "            base_url = 'http://boxofficemojo.com'\n",
      "            movie_urls.append(base_url+incomplete_url_replace)\n",
      "    page_number += 1\n",
      "len (movie_urls)\n"
     ],
     "language": "python",
     "metadata": {},
     "outputs": [
      {
       "metadata": {},
       "output_type": "pyout",
       "prompt_number": 2,
       "text": [
        "101"
       ]
      }
     ],
     "prompt_number": 2
    },
    {
     "cell_type": "code",
     "collapsed": false,
     "input": [
      "import sys\n",
      "sys.path.append('../movies/')\n",
      "\n",
      "#import the module\n",
      "import bomojo\n",
      "reload(bomojo)\n",
      "bmj = bomojo.BOMojoScraper()\n",
      "\n",
      "\n",
      "movie = []\n",
      "for x in movie_urls:\n",
      "    try:\n",
      "        movie.append(bmj.parse_full_mojo_page(x)) \n",
      "    except:\n",
      "        print x\n",
      "        pass\n",
      "        \n"
     ],
     "language": "python",
     "metadata": {},
     "outputs": [
      {
       "output_type": "stream",
       "stream": "stdout",
       "text": [
        "http://boxofficemojo.com/movies/?id=marvel2014a.htm\n",
        "http://boxofficemojo.com/movies/?id=marvel2014a.htm"
       ]
      },
      {
       "output_type": "stream",
       "stream": "stdout",
       "text": [
        "\n",
        "http://boxofficemojo.com/movies/?id=transformers4.htm"
       ]
      },
      {
       "output_type": "stream",
       "stream": "stdout",
       "text": [
        "\n",
        "http://boxofficemojo.com/movies/?id=maleficient.htm"
       ]
      },
      {
       "output_type": "stream",
       "stream": "stdout",
       "text": [
        "\n",
        "http://boxofficemojo.com/movies/?id=marvel2014a.htm"
       ]
      },
      {
       "output_type": "stream",
       "stream": "stdout",
       "text": [
        "\n",
        "http://boxofficemojo.com/movies/?id=xmen2014.htm"
       ]
      },
      {
       "output_type": "stream",
       "stream": "stdout",
       "text": [
        "\n",
        "http://boxofficemojo.com/movies/?id=dawnoftheapes.htm"
       ]
      },
      {
       "output_type": "stream",
       "stream": "stdout",
       "text": [
        "\n",
        "http://boxofficemojo.com/movies/?id=21jumpstreet2.htm"
       ]
      },
      {
       "output_type": "stream",
       "stream": "stdout",
       "text": [
        "\n",
        "http://boxofficemojo.com/movies/?id=marvel2014a.htm"
       ]
      },
      {
       "output_type": "stream",
       "stream": "stdout",
       "text": [
        "\n",
        "http://boxofficemojo.com/movies/?id=tmnt2013.htm"
       ]
      },
      {
       "output_type": "stream",
       "stream": "stdout",
       "text": [
        "\n",
        "http://boxofficemojo.com/movies/?id=howtotrainyourdragon2.htm"
       ]
      },
      {
       "output_type": "stream",
       "stream": "stdout",
       "text": [
        "\n",
        "http://boxofficemojo.com/movies/?id=marvel2014a.htm"
       ]
      },
      {
       "output_type": "stream",
       "stream": "stdout",
       "text": [
        "\n",
        "http://boxofficemojo.com/movies/?id=faultinourstars.htm"
       ]
      },
      {
       "output_type": "stream",
       "stream": "stdout",
       "text": [
        "\n",
        "http://boxofficemojo.com/movies/?id=marvel2014a.htm"
       ]
      },
      {
       "output_type": "stream",
       "stream": "stdout",
       "text": [
        "\n",
        "http://boxofficemojo.com/movies/?id=lucy.htm"
       ]
      },
      {
       "output_type": "stream",
       "stream": "stdout",
       "text": [
        "\n",
        "http://boxofficemojo.com/movies/?id=marvel2014a.htm"
       ]
      },
      {
       "output_type": "stream",
       "stream": "stdout",
       "text": [
        "\n",
        "http://boxofficemojo.com/movies/?id=allyouneediskill.htm"
       ]
      },
      {
       "output_type": "stream",
       "stream": "stdout",
       "text": [
        "\n",
        "http://boxofficemojo.com/movies/?id=marvel2014a.htm"
       ]
      },
      {
       "output_type": "stream",
       "stream": "stdout",
       "text": [
        "\n",
        "http://boxofficemojo.com/movies/?id=heavenisforreal.htm"
       ]
      },
      {
       "output_type": "stream",
       "stream": "stdout",
       "text": [
        "\n",
        "http://boxofficemojo.com/movies/?id=spacestation3dimax.htm"
       ]
      },
      {
       "output_type": "stream",
       "stream": "stdout",
       "text": [
        "\n",
        "http://boxofficemojo.com/movies/?id=marvel2014a.htm"
       ]
      },
      {
       "output_type": "stream",
       "stream": "stdout",
       "text": [
        "\n",
        "http://boxofficemojo.com/movies/?id=tammy.htm"
       ]
      },
      {
       "output_type": "stream",
       "stream": "stdout",
       "text": [
        "\n",
        "http://boxofficemojo.com/movies/?id=marvel2014a.htm"
       ]
      },
      {
       "output_type": "stream",
       "stream": "stdout",
       "text": [
        "\n",
        "http://boxofficemojo.com/movies/?id=marvel2014a.htm"
       ]
      },
      {
       "output_type": "stream",
       "stream": "stdout",
       "text": [
        "\n",
        "http://boxofficemojo.com/movies/?id=hercules2014.htm"
       ]
      },
      {
       "output_type": "stream",
       "stream": "stdout",
       "text": [
        "\n",
        "http://boxofficemojo.com/movies/?id=purge2.htm"
       ]
      },
      {
       "output_type": "stream",
       "stream": "stdout",
       "text": [
        "\n",
        "http://boxofficemojo.com/movies/?id=letsbecops.htm"
       ]
      },
      {
       "output_type": "stream",
       "stream": "stdout",
       "text": [
        "\n",
        "http://boxofficemojo.com/movies/?id=marvel2014a.htm"
       ]
      },
      {
       "output_type": "stream",
       "stream": "stdout",
       "text": [
        "\n",
        "http://boxofficemojo.com/movies/?id=thinklikeaman2.htm"
       ]
      },
      {
       "output_type": "stream",
       "stream": "stdout",
       "text": [
        "\n",
        "http://boxofficemojo.com/movies/?id=marvel2014a.htm"
       ]
      },
      {
       "output_type": "stream",
       "stream": "stdout",
       "text": [
        "\n",
        "http://boxofficemojo.com/movies/?id=planes2.htm"
       ]
      },
      {
       "output_type": "stream",
       "stream": "stdout",
       "text": [
        "\n",
        "http://boxofficemojo.com/movies/?id=marvel2014a.htm"
       ]
      },
      {
       "output_type": "stream",
       "stream": "stdout",
       "text": [
        "\n",
        "http://boxofficemojo.com/movies/?id=hubble3d.htm"
       ]
      },
      {
       "output_type": "stream",
       "stream": "stdout",
       "text": [
        "\n",
        "http://boxofficemojo.com/movies/?id=marvel2014a.htm"
       ]
      },
      {
       "output_type": "stream",
       "stream": "stdout",
       "text": [
        "\n",
        "http://boxofficemojo.com/movies/?id=treximax.htm"
       ]
      },
      {
       "output_type": "stream",
       "stream": "stdout",
       "text": [
        "\n",
        "http://boxofficemojo.com/movies/?id=marvel2014a.htm"
       ]
      },
      {
       "output_type": "stream",
       "stream": "stdout",
       "text": [
        "\n",
        "http://boxofficemojo.com/movies/?id=marvel2014a.htm"
       ]
      },
      {
       "output_type": "stream",
       "stream": "stdout",
       "text": [
        "\n",
        "http://boxofficemojo.com/movies/?id=jerseyboys.htm"
       ]
      },
      {
       "output_type": "stream",
       "stream": "stdout",
       "text": [
        "\n",
        "http://boxofficemojo.com/movies/?id=100foot.htm"
       ]
      },
      {
       "output_type": "stream",
       "stream": "stdout",
       "text": [
        "\n",
        "http://boxofficemojo.com/movies/?id=deepsea3d.htm"
       ]
      },
      {
       "output_type": "stream",
       "stream": "stdout",
       "text": [
        "\n",
        "http://boxofficemojo.com/movies/?id=intothestorm.htm"
       ]
      },
      {
       "output_type": "stream",
       "stream": "stdout",
       "text": [
        "\n",
        "http://boxofficemojo.com/movies/?id=marvel2014a.htm"
       ]
      },
      {
       "output_type": "stream",
       "stream": "stdout",
       "text": [
        "\n",
        "http://boxofficemojo.com/movies/?id=marvel2014a.htm"
       ]
      },
      {
       "output_type": "stream",
       "stream": "stdout",
       "text": [
        "\n",
        "http://boxofficemojo.com/movies/?id=ifistay.htm"
       ]
      },
      {
       "output_type": "stream",
       "stream": "stdout",
       "text": [
        "\n",
        "http://boxofficemojo.com/movies/?id=marvel2014a.htm"
       ]
      },
      {
       "output_type": "stream",
       "stream": "stdout",
       "text": [
        "\n",
        "http://boxofficemojo.com/movies/?id=giver.htm"
       ]
      },
      {
       "output_type": "stream",
       "stream": "stdout",
       "text": [
        "\n",
        "http://boxofficemojo.com/movies/?id=echo.htm"
       ]
      },
      {
       "output_type": "stream",
       "stream": "stdout",
       "text": [
        "\n",
        "http://boxofficemojo.com/movies/?id=sextape.htm"
       ]
      },
      {
       "output_type": "stream",
       "stream": "stdout",
       "text": [
        "\n",
        "http://boxofficemojo.com/movies/?id=expendables3.htm"
       ]
      },
      {
       "output_type": "stream",
       "stream": "stdout",
       "text": [
        "\n",
        "http://boxofficemojo.com/movies/?id=marvel2014a.htm"
       ]
      },
      {
       "output_type": "stream",
       "stream": "stdout",
       "text": [
        "\n",
        "http://boxofficemojo.com/movies/?id=marvel2014a.htm"
       ]
      },
      {
       "output_type": "stream",
       "stream": "stdout",
       "text": [
        "\n",
        "http://boxofficemojo.com/movies/?id=magnificentdesolationimax.htm"
       ]
      },
      {
       "output_type": "stream",
       "stream": "stdout",
       "text": [
        "\n",
        "http://boxofficemojo.com/movies/?id=marvel2014a.htm"
       ]
      },
      {
       "output_type": "stream",
       "stream": "stdout",
       "text": [
        "\n",
        "http://boxofficemojo.com/movies/?id=underthesea3d.htm"
       ]
      },
      {
       "output_type": "stream",
       "stream": "stdout",
       "text": [
        "\n",
        "http://boxofficemojo.com/movies/?id=marvel2014a.htm"
       ]
      },
      {
       "output_type": "stream",
       "stream": "stdout",
       "text": [
        "\n",
        "http://boxofficemojo.com/movies/?id=chef.htm"
       ]
      },
      {
       "output_type": "stream",
       "stream": "stdout",
       "text": [
        "\n",
        "http://boxofficemojo.com/movies/?id=getonup.htm"
       ]
      },
      {
       "output_type": "stream",
       "stream": "stdout",
       "text": [
        "\n",
        "http://boxofficemojo.com/movies/?id=marvel2014a.htm"
       ]
      },
      {
       "output_type": "stream",
       "stream": "stdout",
       "text": [
        "\n",
        "http://boxofficemojo.com/movies/?id=marvel2014a.htm"
       ]
      },
      {
       "output_type": "stream",
       "stream": "stdout",
       "text": [
        "\n",
        "http://boxofficemojo.com/movies/?id=marvel2014a.htm"
       ]
      },
      {
       "output_type": "stream",
       "stream": "stdout",
       "text": [
        "\n",
        "http://boxofficemojo.com/movies/?id=marvel2014a.htm"
       ]
      },
      {
       "output_type": "stream",
       "stream": "stdout",
       "text": [
        "\n",
        "http://boxofficemojo.com/movies/?id=whenthegamestandstall.htm"
       ]
      },
      {
       "output_type": "stream",
       "stream": "stdout",
       "text": [
        "\n",
        "http://boxofficemojo.com/movies/?id=borntobewildimax.htm"
       ]
      },
      {
       "output_type": "stream",
       "stream": "stdout",
       "text": [
        "\n",
        "http://boxofficemojo.com/movies/?id=circleoffriends.htm"
       ]
      },
      {
       "output_type": "stream",
       "stream": "stdout",
       "text": [
        "\n",
        "http://boxofficemojo.com/movies/?id=avengers.htm\n",
        "http://boxofficemojo.com/movies/?id=marvel2014a.htm"
       ]
      },
      {
       "output_type": "stream",
       "stream": "stdout",
       "text": [
        "\n",
        "http://boxofficemojo.com/movies/?id=wizardofoz.htm"
       ]
      },
      {
       "output_type": "stream",
       "stream": "stdout",
       "text": [
        "\n",
        "http://boxofficemojo.com/movies/?id=marvel2014a.htm"
       ]
      },
      {
       "output_type": "stream",
       "stream": "stdout",
       "text": [
        "\n",
        "http://boxofficemojo.com/movies/?id=marvel2014a.htm"
       ]
      },
      {
       "output_type": "stream",
       "stream": "stdout",
       "text": [
        "\n",
        "http://boxofficemojo.com/movies/?id=boyhood.htm"
       ]
      },
      {
       "output_type": "stream",
       "stream": "stdout",
       "text": [
        "\n",
        "http://boxofficemojo.com/movies/?id=marvel2014a.htm"
       ]
      },
      {
       "output_type": "stream",
       "stream": "stdout",
       "text": [
        "\n",
        "http://boxofficemojo.com/movies/?id=novemberman.htm"
       ]
      },
      {
       "output_type": "stream",
       "stream": "stdout",
       "text": [
        "\n",
        "http://boxofficemojo.com/movies/?id=marvel2014a.htm"
       ]
      },
      {
       "output_type": "stream",
       "stream": "stdout",
       "text": [
        "\n",
        "http://boxofficemojo.com/movies/?id=galapagosimax.htm"
       ]
      },
      {
       "output_type": "stream",
       "stream": "stdout",
       "text": [
        "\n",
        "http://boxofficemojo.com/movies/?id=marvel2014a.htm"
       ]
      },
      {
       "output_type": "stream",
       "stream": "stdout",
       "text": [
        "\n",
        "http://boxofficemojo.com/movies/?id=easternpromises.htm"
       ]
      },
      {
       "output_type": "stream",
       "stream": "stdout",
       "text": [
        "\n",
        "http://boxofficemojo.com/movies/?id=thing11.htm"
       ]
      },
      {
       "output_type": "stream",
       "stream": "stdout",
       "text": [
        "\n",
        "http://boxofficemojo.com/movies/?id=asabovesobelow.htm"
       ]
      },
      {
       "output_type": "stream",
       "stream": "stdout",
       "text": [
        "\n",
        "http://boxofficemojo.com/movies/?id=marvel2014a.htm"
       ]
      },
      {
       "output_type": "stream",
       "stream": "stdout",
       "text": [
        "\n",
        "http://boxofficemojo.com/movies/?id=canasong.htm"
       ]
      },
      {
       "output_type": "stream",
       "stream": "stdout",
       "text": [
        "\n",
        "http://boxofficemojo.com/movies/?id=amostwantedman.htm"
       ]
      },
      {
       "output_type": "stream",
       "stream": "stdout",
       "text": [
        "\n",
        "http://boxofficemojo.com/movies/?id=marvel2014a.htm"
       ]
      },
      {
       "output_type": "stream",
       "stream": "stdout",
       "text": [
        "\n",
        "http://boxofficemojo.com/movies/?id=andsoitgoes.htm"
       ]
      },
      {
       "output_type": "stream",
       "stream": "stdout",
       "text": [
        "\n",
        "http://boxofficemojo.com/movies/?id=marvel2014a.htm"
       ]
      },
      {
       "output_type": "stream",
       "stream": "stdout",
       "text": [
        "\n",
        "http://boxofficemojo.com/movies/?id=stepup5.htm"
       ]
      },
      {
       "output_type": "stream",
       "stream": "stdout",
       "text": [
        "\n",
        "http://boxofficemojo.com/movies/?id=tothearctic.htm"
       ]
      },
      {
       "output_type": "stream",
       "stream": "stdout",
       "text": [
        "\n",
        "http://boxofficemojo.com/movies/?id=marvel2014a.htm"
       ]
      },
      {
       "output_type": "stream",
       "stream": "stdout",
       "text": [
        "\n",
        "http://boxofficemojo.com/movies/?id=marvel2014a.htm"
       ]
      },
      {
       "output_type": "stream",
       "stream": "stdout",
       "text": [
        "\n",
        "http://boxofficemojo.com/movies/?id=sincity2.htm"
       ]
      },
      {
       "output_type": "stream",
       "stream": "stdout",
       "text": [
        "\n",
        "http://boxofficemojo.com/movies/?id=marvel2014a.htm"
       ]
      },
      {
       "output_type": "stream",
       "stream": "stdout",
       "text": [
        "\n",
        "http://boxofficemojo.com/movies/?id=highlanderfinaldimension.htm"
       ]
      },
      {
       "output_type": "stream",
       "stream": "stdout",
       "text": [
        "\n",
        "http://boxofficemojo.com/movies/?id=marvel2014a.htm"
       ]
      },
      {
       "output_type": "stream",
       "stream": "stdout",
       "text": [
        "\n",
        "http://boxofficemojo.com/movies/?id=marvel2014a.htm"
       ]
      },
      {
       "output_type": "stream",
       "stream": "stdout",
       "text": [
        "\n",
        "http://boxofficemojo.com/movies/?id=fiddlerontheroof.htm"
       ]
      },
      {
       "output_type": "stream",
       "stream": "stdout",
       "text": [
        "\n",
        "http://boxofficemojo.com/movies/?id=marvel2014a.htm"
       ]
      },
      {
       "output_type": "stream",
       "stream": "stdout",
       "text": [
        "\n",
        "http://boxofficemojo.com/movies/?id=pulseimax.htm"
       ]
      },
      {
       "output_type": "stream",
       "stream": "stdout",
       "text": [
        "\n",
        "http://boxofficemojo.com/movies/?id=marvel2014a.htm"
       ]
      },
      {
       "output_type": "stream",
       "stream": "stdout",
       "text": [
        "\n",
        "http://boxofficemojo.com/movies/?id=magicinthemoonlight.htm"
       ]
      },
      {
       "output_type": "stream",
       "stream": "stdout",
       "text": [
        "\n",
        "http://boxofficemojo.com/movies/?id=marvel2014a.htm"
       ]
      },
      {
       "output_type": "stream",
       "stream": "stdout",
       "text": [
        "\n",
        "http://boxofficemojo.com/movies/?id=marvel2014a.htm"
       ]
      },
      {
       "output_type": "stream",
       "stream": "stdout",
       "text": [
        "\n",
        "http://boxofficemojo.com/movies/?id=howtobecomeadetective.htm"
       ]
      },
      {
       "output_type": "stream",
       "stream": "stdout",
       "text": [
        "\n",
        "http://boxofficemojo.com/movies/?id=marvel2014a.htm"
       ]
      },
      {
       "output_type": "stream",
       "stream": "stdout",
       "text": [
        "\n",
        "http://boxofficemojo.com/movies/?id=vertigo.htm"
       ]
      },
      {
       "output_type": "stream",
       "stream": "stdout",
       "text": [
        "\n",
        "http://boxofficemojo.com/movies/?id=islandoflemurs.htm"
       ]
      },
      {
       "output_type": "stream",
       "stream": "stdout",
       "text": [
        "\n",
        "http://boxofficemojo.com/movies/?id=marvel2014a.htm"
       ]
      },
      {
       "output_type": "stream",
       "stream": "stdout",
       "text": [
        "\n",
        "http://boxofficemojo.com/movies/?id=marvel2014a.htm"
       ]
      },
      {
       "output_type": "stream",
       "stream": "stdout",
       "text": [
        "\n",
        "http://boxofficemojo.com/movies/?id=searex3d.htm"
       ]
      },
      {
       "output_type": "stream",
       "stream": "stdout",
       "text": [
        "\n",
        "http://boxofficemojo.com/movies/?id=marvel2014a.htm"
       ]
      },
      {
       "output_type": "stream",
       "stream": "stdout",
       "text": [
        "\n",
        "http://boxofficemojo.com/movies/?id=flyingmonsters.htm"
       ]
      },
      {
       "output_type": "stream",
       "stream": "stdout",
       "text": [
        "\n",
        "http://boxofficemojo.com/movies/?id=paradise.htm"
       ]
      },
      {
       "output_type": "stream",
       "stream": "stdout",
       "text": [
        "\n",
        "http://boxofficemojo.com/movies/?id=marvel2014a.htm"
       ]
      },
      {
       "output_type": "stream",
       "stream": "stdout",
       "text": [
        "\n",
        "http://boxofficemojo.com/movies/?id=jerusalem.htm"
       ]
      },
      {
       "output_type": "stream",
       "stream": "stdout",
       "text": [
        "\n",
        "http://boxofficemojo.com/movies/?id=marvel2014a.htm"
       ]
      },
      {
       "output_type": "stream",
       "stream": "stdout",
       "text": [
        "\n",
        "http://boxofficemojo.com/movies/?id=cantinflas.htm"
       ]
      },
      {
       "output_type": "stream",
       "stream": "stdout",
       "text": [
        "\n",
        "http://boxofficemojo.com/movies/?id=igbygoesdown.htm"
       ]
      },
      {
       "output_type": "stream",
       "stream": "stdout",
       "text": [
        "\n",
        "http://boxofficemojo.com/movies/?id=leonardpart6.htm"
       ]
      },
      {
       "output_type": "stream",
       "stream": "stdout",
       "text": [
        "\n",
        "http://boxofficemojo.com/movies/?id=marvel2014a.htm"
       ]
      },
      {
       "output_type": "stream",
       "stream": "stdout",
       "text": [
        "\n",
        "http://boxofficemojo.com/movies/?id=snowpiercer.htm"
       ]
      },
      {
       "output_type": "stream",
       "stream": "stdout",
       "text": [
        "\n",
        "http://boxofficemojo.com/movies/?id=marvel2014a.htm"
       ]
      },
      {
       "output_type": "stream",
       "stream": "stdout",
       "text": [
        "\n",
        "http://boxofficemojo.com/movies/?id=lunchbox.htm"
       ]
      },
      {
       "output_type": "stream",
       "stream": "stdout",
       "text": [
        "\n",
        "http://boxofficemojo.com/movies/?id=marvel2014a.htm"
       ]
      },
      {
       "output_type": "stream",
       "stream": "stdout",
       "text": [
        "\n",
        "http://boxofficemojo.com/movies/?id=journeytothesouthpacific.htm"
       ]
      },
      {
       "output_type": "stream",
       "stream": "stdout",
       "text": [
        "\n",
        "http://boxofficemojo.com/movies/?id=cheechandchongscorsicanbros..htm"
       ]
      },
      {
       "output_type": "stream",
       "stream": "stdout",
       "text": [
        "\n",
        "http://boxofficemojo.com/movies/?id=ida.htm"
       ]
      },
      {
       "output_type": "stream",
       "stream": "stdout",
       "text": [
        "\n",
        "http://boxofficemojo.com/movies/?id=wishiwashere.htm"
       ]
      },
      {
       "output_type": "stream",
       "stream": "stdout",
       "text": [
        "\n",
        "http://boxofficemojo.com/movies/?id=marvel2014a.htm"
       ]
      },
      {
       "output_type": "stream",
       "stream": "stdout",
       "text": [
        "\n",
        "http://boxofficemojo.com/movies/?id=corporation.htm"
       ]
      },
      {
       "output_type": "stream",
       "stream": "stdout",
       "text": [
        "\n",
        "http://boxofficemojo.com/movies/?id=grandseduction.htm"
       ]
      },
      {
       "output_type": "stream",
       "stream": "stdout",
       "text": [
        "\n",
        "http://boxofficemojo.com/movies/?id=whatif2014.htm"
       ]
      },
      {
       "output_type": "stream",
       "stream": "stdout",
       "text": [
        "\n",
        "http://boxofficemojo.com/movies/?id=fiftimax.htm"
       ]
      },
      {
       "output_type": "stream",
       "stream": "stdout",
       "text": [
        "\n",
        "http://boxofficemojo.com/movies/?id=elvisgratton2.htm"
       ]
      },
      {
       "output_type": "stream",
       "stream": "stdout",
       "text": [
        "\n",
        "http://boxofficemojo.com/movies/?id=marvel2014a.htm"
       ]
      },
      {
       "output_type": "stream",
       "stream": "stdout",
       "text": [
        "\n",
        "http://boxofficemojo.com/movies/?id=calvary.htm"
       ]
      },
      {
       "output_type": "stream",
       "stream": "stdout",
       "text": [
        "\n",
        "http://boxofficemojo.com/movies/?id=obviouschild.htm"
       ]
      },
      {
       "output_type": "stream",
       "stream": "stdout",
       "text": [
        "\n",
        "http://boxofficemojo.com/movies/?id=inaworld.htm"
       ]
      },
      {
       "output_type": "stream",
       "stream": "stdout",
       "text": [
        "\n",
        "http://boxofficemojo.com/movies/?id=marvel2014a.htm"
       ]
      },
      {
       "output_type": "stream",
       "stream": "stdout",
       "text": [
        "\n",
        "http://boxofficemojo.com/movies/?id=casablanca.htm"
       ]
      },
      {
       "output_type": "stream",
       "stream": "stdout",
       "text": [
        "\n",
        "http://boxofficemojo.com/movies/?id=mafillemonange.htm"
       ]
      },
      {
       "output_type": "stream",
       "stream": "stdout",
       "text": [
        "\n",
        "http://boxofficemojo.com/movies/?id=manchuriancandidate62.htm"
       ]
      },
      {
       "output_type": "stream",
       "stream": "stdout",
       "text": [
        "\n",
        "http://boxofficemojo.com/movies/?id=ramleela.htm"
       ]
      },
      {
       "output_type": "stream",
       "stream": "stdout",
       "text": [
        "\n",
        "http://boxofficemojo.com/movies/?id=marvel2014a.htm"
       ]
      },
      {
       "output_type": "stream",
       "stream": "stdout",
       "text": [
        "\n",
        "http://boxofficemojo.com/movies/?id=undertheskin2014.htm"
       ]
      },
      {
       "output_type": "stream",
       "stream": "stdout",
       "text": [
        "\n",
        "http://boxofficemojo.com/movies/?id=afterdarkshorrorfest.htm"
       ]
      },
      {
       "output_type": "stream",
       "stream": "stdout",
       "text": [
        "\n",
        "http://boxofficemojo.com/movies/?id=dragonballz2014.htm"
       ]
      },
      {
       "output_type": "stream",
       "stream": "stdout",
       "text": [
        "\n",
        "http://boxofficemojo.com/movies/?id=raone.htm"
       ]
      },
      {
       "output_type": "stream",
       "stream": "stdout",
       "text": [
        "\n",
        "http://boxofficemojo.com/movies/?id=bonvoyageca.htm"
       ]
      },
      {
       "output_type": "stream",
       "stream": "stdout",
       "text": [
        "\n",
        "http://boxofficemojo.com/movies/?id=kick.htm"
       ]
      },
      {
       "output_type": "stream",
       "stream": "stdout",
       "text": [
        "\n",
        "http://boxofficemojo.com/movies/?id=gatekeepers.htm"
       ]
      },
      {
       "output_type": "stream",
       "stream": "stdout",
       "text": [
        "\n",
        "http://boxofficemojo.com/movies/?id=marvel2014a.htm"
       ]
      },
      {
       "output_type": "stream",
       "stream": "stdout",
       "text": [
        "\n",
        "http://boxofficemojo.com/movies/?id=springsummerfallwinterandspring.htm"
       ]
      },
      {
       "output_type": "stream",
       "stream": "stdout",
       "text": [
        "\n",
        "http://boxofficemojo.com/movies/?id=admiral.htm"
       ]
      },
      {
       "output_type": "stream",
       "stream": "stdout",
       "text": [
        "\n",
        "http://boxofficemojo.com/movies/?id=marktwainimax.htm"
       ]
      },
      {
       "output_type": "stream",
       "stream": "stdout",
       "text": [
        "\n",
        "http://boxofficemojo.com/movies/?id=pecker.htm"
       ]
      },
      {
       "output_type": "stream",
       "stream": "stdout",
       "text": [
        "\n",
        "http://boxofficemojo.com/movies/?id=dansunegalaxiepresdechezvous.htm"
       ]
      },
      {
       "output_type": "stream",
       "stream": "stdout",
       "text": [
        "\n",
        "http://boxofficemojo.com/movies/?id=touchofevil.htm"
       ]
      },
      {
       "output_type": "stream",
       "stream": "stdout",
       "text": [
        "\n",
        "http://boxofficemojo.com/movies/?id=marvel2014a.htm"
       ]
      },
      {
       "output_type": "stream",
       "stream": "stdout",
       "text": [
        "\n",
        "http://boxofficemojo.com/movies/?id=2014oscar.htm"
       ]
      },
      {
       "output_type": "stream",
       "stream": "stdout",
       "text": [
        "\n",
        "http://boxofficemojo.com/movies/?id=2013oscar.htm"
       ]
      },
      {
       "output_type": "stream",
       "stream": "stdout",
       "text": [
        "\n",
        "http://boxofficemojo.com/movies/?id=identical.htm"
       ]
      },
      {
       "output_type": "stream",
       "stream": "stdout",
       "text": [
        "\n",
        "http://boxofficemojo.com/movies/?id=marvel2014a.htm"
       ]
      },
      {
       "output_type": "stream",
       "stream": "stdout",
       "text": [
        "\n",
        "http://boxofficemojo.com/movies/?id=surleseuil.htm"
       ]
      },
      {
       "output_type": "stream",
       "stream": "stdout",
       "text": [
        "\n",
        "http://boxofficemojo.com/movies/?id=onlyloversleftalive.htm"
       ]
      },
      {
       "output_type": "stream",
       "stream": "stdout",
       "text": [
        "\n",
        "http://boxofficemojo.com/movies/?id=spartacus.htm"
       ]
      },
      {
       "output_type": "stream",
       "stream": "stdout",
       "text": [
        "\n",
        "http://boxofficemojo.com/movies/?id=marvel2014a.htm"
       ]
      },
      {
       "output_type": "stream",
       "stream": "stdout",
       "text": [
        "\n",
        "http://boxofficemojo.com/movies/?id=singinintherain.htm"
       ]
      },
      {
       "output_type": "stream",
       "stream": "stdout",
       "text": [
        "\n",
        "http://boxofficemojo.com/movies/?id=stoker.htm"
       ]
      },
      {
       "output_type": "stream",
       "stream": "stdout",
       "text": [
        "\n",
        "http://boxofficemojo.com/movies/?id=2012oscarshorts.htm"
       ]
      },
      {
       "output_type": "stream",
       "stream": "stdout",
       "text": [
        "\n",
        "http://boxofficemojo.com/movies/?id=marvel2014a.htm"
       ]
      },
      {
       "output_type": "stream",
       "stream": "stdout",
       "text": [
        "\n",
        "http://boxofficemojo.com/movies/?id=timsvermeer.htm"
       ]
      },
      {
       "output_type": "stream",
       "stream": "stdout",
       "text": [
        "\n",
        "http://boxofficemojo.com/movies/?id=asterixetobelixcontrecesar.htm"
       ]
      },
      {
       "output_type": "stream",
       "stream": "stdout",
       "text": [
        "\n",
        "http://boxofficemojo.com/movies/?id=citizenkane.htm"
       ]
      },
      {
       "output_type": "stream",
       "stream": "stdout",
       "text": [
        "\n",
        "http://boxofficemojo.com/movies/?id=fedup.htm"
       ]
      },
      {
       "output_type": "stream",
       "stream": "stdout",
       "text": [
        "\n",
        "http://boxofficemojo.com/movies/?id=marvel2014a.htm"
       ]
      },
      {
       "output_type": "stream",
       "stream": "stdout",
       "text": [
        "\n",
        "http://boxofficemojo.com/movies/?id=findingvivianmaier.htm"
       ]
      },
      {
       "output_type": "stream",
       "stream": "stdout",
       "text": [
        "\n",
        "http://boxofficemojo.com/movies/?id=agedestenebres.htm"
       ]
      },
      {
       "output_type": "stream",
       "stream": "stdout",
       "text": [
        "\n",
        "http://boxofficemojo.com/movies/?id=2ndanimationcelebration.htm"
       ]
      },
      {
       "output_type": "stream",
       "stream": "stdout",
       "text": [
        "\n",
        "http://boxofficemojo.com/movies/?id=kandahar.htm"
       ]
      },
      {
       "output_type": "stream",
       "stream": "stdout",
       "text": [
        "\n",
        "http://boxofficemojo.com/movies/?id=paheli.htm"
       ]
      },
      {
       "output_type": "stream",
       "stream": "stdout",
       "text": [
        "\n",
        "http://boxofficemojo.com/movies/?id=romeoetjuliette.htm"
       ]
      },
      {
       "output_type": "stream",
       "stream": "stdout",
       "text": [
        "\n",
        "http://boxofficemojo.com/movies/?id=locke.htm"
       ]
      },
      {
       "output_type": "stream",
       "stream": "stdout",
       "text": [
        "\n",
        "http://boxofficemojo.com/movies/?id=2011oscarshorts.htm"
       ]
      },
      {
       "output_type": "stream",
       "stream": "stdout",
       "text": [
        "\n",
        "http://boxofficemojo.com/movies/?id=marvel2014a.htm"
       ]
      },
      {
       "output_type": "stream",
       "stream": "stdout",
       "text": [
        "\n",
        "http://boxofficemojo.com/movies/?id=dirtyshame.htm"
       ]
      },
      {
       "output_type": "stream",
       "stream": "stdout",
       "text": [
        "\n",
        "http://boxofficemojo.com/movies/?id=perilsofgwendolyn.htm"
       ]
      },
      {
       "output_type": "stream",
       "stream": "stdout",
       "text": [
        "\n",
        "http://boxofficemojo.com/movies/?id=3rdanimationcelebration.htm"
       ]
      },
      {
       "output_type": "stream",
       "stream": "stdout",
       "text": [
        "\n",
        "http://boxofficemojo.com/movies/?id=marvel2014a.htm"
       ]
      },
      {
       "output_type": "stream",
       "stream": "stdout",
       "text": [
        "\n",
        "http://boxofficemojo.com/movies/?id=nuitdenoces.htm"
       ]
      },
      {
       "output_type": "stream",
       "stream": "stdout",
       "text": [
        "\n",
        "http://boxofficemojo.com/movies/?id=metropolis27.htm"
       ]
      },
      {
       "output_type": "stream",
       "stream": "stdout",
       "text": [
        "\n",
        "http://boxofficemojo.com/movies/?id=singhamreturns.htm"
       ]
      },
      {
       "output_type": "stream",
       "stream": "stdout",
       "text": [
        "\n",
        "http://boxofficemojo.com/movies/?id=indigo.htm"
       ]
      },
      {
       "output_type": "stream",
       "stream": "stdout",
       "text": [
        "\n",
        "http://boxofficemojo.com/movies/?id=triptoitaly.htm"
       ]
      },
      {
       "output_type": "stream",
       "stream": "stdout",
       "text": [
        "\n",
        "http://boxofficemojo.com/movies/?id=marvel2014a.htm"
       ]
      },
      {
       "output_type": "stream",
       "stream": "stdout",
       "text": [
        "\n",
        "http://boxofficemojo.com/movies/?id=possession83.htm"
       ]
      },
      {
       "output_type": "stream",
       "stream": "stdout",
       "text": [
        "\n",
        "http://boxofficemojo.com/movies/?id=bhoolbhulaiyaa.htm"
       ]
      },
      {
       "output_type": "stream",
       "stream": "stdout",
       "text": [
        "\n",
        "http://boxofficemojo.com/movies/?id=mohabbatein.htm"
       ]
      },
      {
       "output_type": "stream",
       "stream": "stdout",
       "text": [
        "\n",
        "http://boxofficemojo.com/movies/?id=marvel2014a.htm"
       ]
      },
      {
       "output_type": "stream",
       "stream": "stdout",
       "text": [
        "\n",
        "http://boxofficemojo.com/movies/?id=baghban.htm"
       ]
      },
      {
       "output_type": "stream",
       "stream": "stdout",
       "text": [
        "\n",
        "http://boxofficemojo.com/movies/?id=umeaurhum.htm"
       ]
      },
      {
       "output_type": "stream",
       "stream": "stdout",
       "text": [
        "\n",
        "http://boxofficemojo.com/movies/?id=matantealine.htm"
       ]
      },
      {
       "output_type": "stream",
       "stream": "stdout",
       "text": [
        "\n",
        "http://boxofficemojo.com/movies/?id=2010oscarshorts.htm"
       ]
      },
      {
       "output_type": "stream",
       "stream": "stdout",
       "text": [
        "\n",
        "http://boxofficemojo.com/movies/?id=24thtourneeofanimation.htm"
       ]
      },
      {
       "output_type": "stream",
       "stream": "stdout",
       "text": [
        "\n",
        "http://boxofficemojo.com/movies/?id=nomansland.htm"
       ]
      },
      {
       "output_type": "stream",
       "stream": "stdout",
       "text": [
        "\n",
        "http://boxofficemojo.com/movies/?id=thr3e.htm"
       ]
      },
      {
       "output_type": "stream",
       "stream": "stdout",
       "text": [
        "\n",
        "http://boxofficemojo.com/movies/?id=straightfromtheheart.htm"
       ]
      },
      {
       "output_type": "stream",
       "stream": "stdout",
       "text": [
        "\n",
        "http://boxofficemojo.com/movies/?id=marvel2014a.htm"
       ]
      },
      {
       "output_type": "stream",
       "stream": "stdout",
       "text": [
        "\n",
        "http://boxofficemojo.com/movies/?id=50to1.htm"
       ]
      },
      {
       "output_type": "stream",
       "stream": "stdout",
       "text": [
        "\n",
        "http://boxofficemojo.com/movies/?id=yaadein.htm"
       ]
      },
      {
       "output_type": "stream",
       "stream": "stdout",
       "text": [
        "\n",
        "http://boxofficemojo.com/movies/?id=thirdperson.htm"
       ]
      },
      {
       "output_type": "stream",
       "stream": "stdout",
       "text": [
        "\n",
        "http://boxofficemojo.com/movies/?id=rockstar2011.htm"
       ]
      },
      {
       "output_type": "stream",
       "stream": "stdout",
       "text": [
        "\n",
        "http://boxofficemojo.com/movies/?id=harddaysnight00.htm"
       ]
      },
      {
       "output_type": "stream",
       "stream": "stdout",
       "text": [
        "\n",
        "http://boxofficemojo.com/movies/?id=powerthe.htm"
       ]
      },
      {
       "output_type": "stream",
       "stream": "stdout",
       "text": [
        "\n",
        "http://boxofficemojo.com/movies/?id=sholemaleichem.htm"
       ]
      },
      {
       "output_type": "stream",
       "stream": "stdout",
       "text": [
        "\n",
        "http://boxofficemojo.com/movies/?id=marvel2014a.htm"
       ]
      },
      {
       "output_type": "stream",
       "stream": "stdout",
       "text": [
        "\n",
        "http://boxofficemojo.com/movies/?id=tasteofothers.htm"
       ]
      },
      {
       "output_type": "stream",
       "stream": "stdout",
       "text": [
        "\n",
        "http://boxofficemojo.com/movies/?id=gazbarblues.htm"
       ]
      },
      {
       "output_type": "stream",
       "stream": "stdout",
       "text": [
        "\n",
        "http://boxofficemojo.com/movies/?id=wildfire.htm"
       ]
      },
      {
       "output_type": "stream",
       "stream": "stdout",
       "text": [
        "\n",
        "http://boxofficemojo.com/movies/?id=josephandrews.htm"
       ]
      },
      {
       "output_type": "stream",
       "stream": "stdout",
       "text": [
        "\n",
        "http://boxofficemojo.com/movies/?id=chaltechalte.htm"
       ]
      },
      {
       "output_type": "stream",
       "stream": "stdout",
       "text": [
        "\n",
        "http://boxofficemojo.com/movies/?id=latterdays.htm"
       ]
      },
      {
       "output_type": "stream",
       "stream": "stdout",
       "text": [
        "\n",
        "http://boxofficemojo.com/movies/?id=battleofalgiers.htm"
       ]
      },
      {
       "output_type": "stream",
       "stream": "stdout",
       "text": [
        "\n",
        "http://boxofficemojo.com/movies/?id=waqt.htm"
       ]
      },
      {
       "output_type": "stream",
       "stream": "stdout",
       "text": [
        "\n",
        "http://boxofficemojo.com/movies/?id=seabeast.htm"
       ]
      },
      {
       "output_type": "stream",
       "stream": "stdout",
       "text": [
        "\n",
        "http://boxofficemojo.com/movies/?id=marvel2014a.htm"
       ]
      },
      {
       "output_type": "stream",
       "stream": "stdout",
       "text": [
        "\n",
        "http://boxofficemojo.com/movies/?id=loveisstrange.htm"
       ]
      },
      {
       "output_type": "stream",
       "stream": "stdout",
       "text": [
        "\n",
        "http://boxofficemojo.com/movies/?id=billw.htm"
       ]
      },
      {
       "output_type": "stream",
       "stream": "stdout",
       "text": [
        "\n",
        "http://boxofficemojo.com/movies/?id=thoselipsthoseeyes.htm"
       ]
      },
      {
       "output_type": "stream",
       "stream": "stdout",
       "text": [
        "\n",
        "http://boxofficemojo.com/movies/?id=humtum.htm"
       ]
      },
      {
       "output_type": "stream",
       "stream": "stdout",
       "text": [
        "\n",
        "http://boxofficemojo.com/movies/?id=lifeitself.htm"
       ]
      },
      {
       "output_type": "stream",
       "stream": "stdout",
       "text": [
        "\n",
        "http://boxofficemojo.com/movies/?id=meerkats.htm"
       ]
      },
      {
       "output_type": "stream",
       "stream": "stdout",
       "text": [
        "\n",
        "http://boxofficemojo.com/movies/?id=lauracadieux.htm"
       ]
      },
      {
       "output_type": "stream",
       "stream": "stdout",
       "text": [
        "\n",
        "http://boxofficemojo.com/movies/?id=paloalto.htm"
       ]
      },
      {
       "output_type": "stream",
       "stream": "stdout",
       "text": [
        "\n",
        "http://boxofficemojo.com/movies/?id=billu.htm"
       ]
      },
      {
       "output_type": "stream",
       "stream": "stdout",
       "text": [
        "\n",
        "http://boxofficemojo.com/movies/?id=nightsofcabiria.htm"
       ]
      },
      {
       "output_type": "stream",
       "stream": "stdout",
       "text": [
        "\n",
        "http://boxofficemojo.com/movies/?id=marvel2014a.htm"
       ]
      },
      {
       "output_type": "stream",
       "stream": "stdout",
       "text": [
        "\n",
        "http://boxofficemojo.com/movies/?id=wb75th.htm"
       ]
      },
      {
       "output_type": "stream",
       "stream": "stdout",
       "text": [
        "\n",
        "http://boxofficemojo.com/movies/?id=bhajionthebeach.htm"
       ]
      },
      {
       "output_type": "stream",
       "stream": "stdout",
       "text": [
        "\n",
        "http://boxofficemojo.com/movies/?id=littleindianbigcity.htm"
       ]
      },
      {
       "output_type": "stream",
       "stream": "stdout",
       "text": [
        "\n",
        "http://boxofficemojo.com/movies/?id=womenonthe6thfloor.htm"
       ]
      },
      {
       "output_type": "stream",
       "stream": "stdout",
       "text": [
        "\n",
        "http://boxofficemojo.com/movies/?id=holiday2014.htm"
       ]
      },
      {
       "output_type": "stream",
       "stream": "stdout",
       "text": [
        "\n",
        "http://boxofficemojo.com/movies/?id=frankiealice.htm"
       ]
      },
      {
       "output_type": "stream",
       "stream": "stdout",
       "text": [
        "\n",
        "http://boxofficemojo.com/movies/?id=marvel2014a.htm"
       ]
      },
      {
       "output_type": "stream",
       "stream": "stdout",
       "text": [
        "\n",
        "http://boxofficemojo.com/movies/?id=koimilgaya.htm"
       ]
      },
      {
       "output_type": "stream",
       "stream": "stdout",
       "text": [
        "\n",
        "http://boxofficemojo.com/movies/?id=studentoftheyear.htm"
       ]
      },
      {
       "output_type": "stream",
       "stream": "stdout",
       "text": [
        "\n",
        "http://boxofficemojo.com/movies/?id=humaapkedilmeinrahtehain.htm"
       ]
      },
      {
       "output_type": "stream",
       "stream": "stdout",
       "text": [
        "\n",
        "http://boxofficemojo.com/movies/?id=yvessaintlaurent.htm"
       ]
      },
      {
       "output_type": "stream",
       "stream": "stdout",
       "text": [
        "\n",
        "http://boxofficemojo.com/movies/?id=lesvisiteurs.htm"
       ]
      },
      {
       "output_type": "stream",
       "stream": "stdout",
       "text": [
        "\n",
        "http://boxofficemojo.com/movies/?id=spellbinder.htm"
       ]
      },
      {
       "output_type": "stream",
       "stream": "stdout",
       "text": [
        "\n",
        "http://boxofficemojo.com/movies/?id=decalouge.htm"
       ]
      },
      {
       "output_type": "stream",
       "stream": "stdout",
       "text": [
        "\n",
        "http://boxofficemojo.com/movies/?id=aarakshan.htm"
       ]
      },
      {
       "output_type": "stream",
       "stream": "stdout",
       "text": [
        "\n",
        "http://boxofficemojo.com/movies/?id=jordorowskysdune.htm"
       ]
      },
      {
       "output_type": "stream",
       "stream": "stdout",
       "text": [
        "\n",
        "http://boxofficemojo.com/movies/?id=japanesestory.htm"
       ]
      },
      {
       "output_type": "stream",
       "stream": "stdout",
       "text": [
        "\n",
        "http://boxofficemojo.com/movies/?id=focus.htm"
       ]
      },
      {
       "output_type": "stream",
       "stream": "stdout",
       "text": [
        "\n",
        "http://boxofficemojo.com/movies/?id=2008oscarshorts.htm"
       ]
      },
      {
       "output_type": "stream",
       "stream": "stdout",
       "text": [
        "\n",
        "http://boxofficemojo.com/movies/?id=dilbolehadippa.htm"
       ]
      },
      {
       "output_type": "stream",
       "stream": "stdout",
       "text": [
        "\n",
        "http://boxofficemojo.com/movies/?id=purplemoon96.htm"
       ]
      },
      {
       "output_type": "stream",
       "stream": "stdout",
       "text": [
        "\n",
        "http://boxofficemojo.com/movies/?id=wildbunch.htm"
       ]
      },
      {
       "output_type": "stream",
       "stream": "stdout",
       "text": [
        "\n",
        "http://boxofficemojo.com/movies/?id=dinnerrush.htm"
       ]
      },
      {
       "output_type": "stream",
       "stream": "stdout",
       "text": [
        "\n",
        "http://boxofficemojo.com/movies/?id=blowdry.htm"
       ]
      },
      {
       "output_type": "stream",
       "stream": "stdout",
       "text": [
        "\n",
        "http://boxofficemojo.com/movies/?id=goyainbordeaux.htm"
       ]
      },
      {
       "output_type": "stream",
       "stream": "stdout",
       "text": [
        "\n",
        "http://boxofficemojo.com/movies/?id=pereetfils.htm"
       ]
      },
      {
       "output_type": "stream",
       "stream": "stdout",
       "text": [
        "\n",
        "http://boxofficemojo.com/movies/?id=taxi2.htm"
       ]
      },
      {
       "output_type": "stream",
       "stream": "stdout",
       "text": [
        "\n",
        "http://boxofficemojo.com/movies/?id=marvel2014a.htm"
       ]
      },
      {
       "output_type": "stream",
       "stream": "stdout",
       "text": [
        "\n",
        "http://boxofficemojo.com/movies/?id=texasrangers.htm"
       ]
      },
      {
       "output_type": "stream",
       "stream": "stdout",
       "text": [
        "\n",
        "http://boxofficemojo.com/movies/?id=sundaylovers.htm"
       ]
      },
      {
       "output_type": "stream",
       "stream": "stdout",
       "text": [
        "\n",
        "http://boxofficemojo.com/movies/?id=lockargil.htm"
       ]
      },
      {
       "output_type": "stream",
       "stream": "stdout",
       "text": [
        "\n",
        "http://boxofficemojo.com/movies/?id=passenger.htm"
       ]
      },
      {
       "output_type": "stream",
       "stream": "stdout",
       "text": [
        "\n",
        "http://boxofficemojo.com/movies/?id=thirdman.htm"
       ]
      },
      {
       "output_type": "stream",
       "stream": "stdout",
       "text": [
        "\n",
        "http://boxofficemojo.com/movies/?id=goingupriver.htm"
       ]
      },
      {
       "output_type": "stream",
       "stream": "stdout",
       "text": [
        "\n",
        "http://boxofficemojo.com/movies/?id=bluecollarcomedytour.htm"
       ]
      },
      {
       "output_type": "stream",
       "stream": "stdout",
       "text": [
        "\n",
        "http://boxofficemojo.com/movies/?id=signal2014.htm"
       ]
      },
      {
       "output_type": "stream",
       "stream": "stdout",
       "text": [
        "\n",
        "http://boxofficemojo.com/movies/?id=fiza.htm"
       ]
      },
      {
       "output_type": "stream",
       "stream": "stdout",
       "text": [
        "\n",
        "http://boxofficemojo.com/movies/?id=lesrivierespourpres.htm"
       ]
      },
      {
       "output_type": "stream",
       "stream": "stdout",
       "text": [
        "\n",
        "http://boxofficemojo.com/movies/?id=lastnight.htm"
       ]
      },
      {
       "output_type": "stream",
       "stream": "stdout",
       "text": [
        "\n",
        "http://boxofficemojo.com/movies/?id=thirdmiracle.htm"
       ]
      },
      {
       "output_type": "stream",
       "stream": "stdout",
       "text": [
        "\n",
        "http://boxofficemojo.com/movies/?id=refugee.htm"
       ]
      },
      {
       "output_type": "stream",
       "stream": "stdout",
       "text": [
        "\n",
        "http://boxofficemojo.com/movies/?id=phirbhidilhainhindustani.htm"
       ]
      },
      {
       "output_type": "stream",
       "stream": "stdout",
       "text": [
        "\n",
        "http://boxofficemojo.com/movies/?id=timefordrunkenhorses.htm"
       ]
      },
      {
       "output_type": "stream",
       "stream": "stdout",
       "text": [
        "\n",
        "http://boxofficemojo.com/movies/?id=thunderstruck.htm"
       ]
      },
      {
       "output_type": "stream",
       "stream": "stdout",
       "text": [
        "\n",
        "http://boxofficemojo.com/movies/?id=kurosawamifunefestival.htm"
       ]
      },
      {
       "output_type": "stream",
       "stream": "stdout",
       "text": [
        "\n",
        "http://boxofficemojo.com/movies/?id=vivapedro.htm"
       ]
      },
      {
       "output_type": "stream",
       "stream": "stdout",
       "text": [
        "\n",
        "http://boxofficemojo.com/movies/?id=overexposed.htm"
       ]
      },
      {
       "output_type": "stream",
       "stream": "stdout",
       "text": [
        "\n",
        "http://boxofficemojo.com/movies/?id=marvel2014a.htm"
       ]
      },
      {
       "output_type": "stream",
       "stream": "stdout",
       "text": [
        "\n",
        "http://boxofficemojo.com/movies/?id=myfirstmister.htm"
       ]
      },
      {
       "output_type": "stream",
       "stream": "stdout",
       "text": [
        "\n",
        "http://boxofficemojo.com/movies/?id=helpimafish.htm"
       ]
      },
      {
       "output_type": "stream",
       "stream": "stdout",
       "text": [
        "\n",
        "http://boxofficemojo.com/movies/?id=fluffer.htm"
       ]
      },
      {
       "output_type": "stream",
       "stream": "stdout",
       "text": [
        "\n",
        "http://boxofficemojo.com/movies/?id=landho.htm"
       ]
      },
      {
       "output_type": "stream",
       "stream": "stdout",
       "text": [
        "\n",
        "http://boxofficemojo.com/movies/?id=beyondthereef.htm"
       ]
      },
      {
       "output_type": "stream",
       "stream": "stdout",
       "text": [
        "\n",
        "http://boxofficemojo.com/movies/?id=facingwindows.htm"
       ]
      },
      {
       "output_type": "stream",
       "stream": "stdout",
       "text": [
        "\n",
        "http://boxofficemojo.com/movies/?id=cattleannieandlittlebritches.htm"
       ]
      },
      {
       "output_type": "stream",
       "stream": "stdout",
       "text": [
        "\n",
        "http://boxofficemojo.com/movies/?id=hardcountry.htm"
       ]
      },
      {
       "output_type": "stream",
       "stream": "stdout",
       "text": [
        "\n",
        "http://boxofficemojo.com/movies/?id=manfromnowhere.htm"
       ]
      },
      {
       "output_type": "stream",
       "stream": "stdout",
       "text": [
        "\n",
        "http://boxofficemojo.com/movies/?id=veer2010.htm"
       ]
      },
      {
       "output_type": "stream",
       "stream": "stdout",
       "text": [
        "\n",
        "http://boxofficemojo.com/movies/?id=marvel2014a.htm"
       ]
      },
      {
       "output_type": "stream",
       "stream": "stdout",
       "text": [
        "\n",
        "http://boxofficemojo.com/movies/?id=harddaysnight14.htm"
       ]
      },
      {
       "output_type": "stream",
       "stream": "stdout",
       "text": [
        "\n",
        "http://boxofficemojo.com/movies/?id=mifune.htm"
       ]
      },
      {
       "output_type": "stream",
       "stream": "stdout",
       "text": [
        "\n",
        "http://boxofficemojo.com/movies/?id=karmina2.htm"
       ]
      },
      {
       "output_type": "stream",
       "stream": "stdout",
       "text": [
        "\n",
        "http://boxofficemojo.com/movies/?id=2007shortfilms.htm"
       ]
      },
      {
       "output_type": "stream",
       "stream": "stdout",
       "text": [
        "\n",
        "http://boxofficemojo.com/movies/?id=2007shortfilms.htm"
       ]
      },
      {
       "output_type": "stream",
       "stream": "stdout",
       "text": [
        "\n",
        "http://boxofficemojo.com/movies/?id=return.htm"
       ]
      },
      {
       "output_type": "stream",
       "stream": "stdout",
       "text": [
        "\n",
        "http://boxofficemojo.com/movies/?id=taxi3.htm"
       ]
      },
      {
       "output_type": "stream",
       "stream": "stdout",
       "text": [
        "\n",
        "http://boxofficemojo.com/movies/?id=fivesenses.htm"
       ]
      },
      {
       "output_type": "stream",
       "stream": "stdout",
       "text": [
        "\n",
        "http://boxofficemojo.com/movies/?id=lincomparablemademoisellec.htm"
       ]
      },
      {
       "output_type": "stream",
       "stream": "stdout",
       "text": [
        "\n",
        "http://boxofficemojo.com/movies/?id=tape.htm"
       ]
      },
      {
       "output_type": "stream",
       "stream": "stdout",
       "text": [
        "\n",
        "http://boxofficemojo.com/movies/?id=bully.htm"
       ]
      },
      {
       "output_type": "stream",
       "stream": "stdout",
       "text": [
        "\n",
        "http://boxofficemojo.com/movies/?id=marvel2014a.htm"
       ]
      },
      {
       "output_type": "stream",
       "stream": "stdout",
       "text": [
        "\n",
        "http://boxofficemojo.com/movies/?id=joegouldssecret.htm"
       ]
      },
      {
       "output_type": "stream",
       "stream": "stdout",
       "text": [
        "\n",
        "http://boxofficemojo.com/movies/?id=walkingthecamino.htm"
       ]
      },
      {
       "output_type": "stream",
       "stream": "stdout",
       "text": [
        "\n",
        "http://boxofficemojo.com/movies/?id=lalignebrisee.htm"
       ]
      },
      {
       "output_type": "stream",
       "stream": "stdout",
       "text": [
        "\n",
        "http://boxofficemojo.com/movies/?id=venusbeautyinstitute.htm"
       ]
      },
      {
       "output_type": "stream",
       "stream": "stdout",
       "text": [
        "\n",
        "http://boxofficemojo.com/movies/?id=foolproof.htm"
       ]
      },
      {
       "output_type": "stream",
       "stream": "stdout",
       "text": [
        "\n",
        "http://boxofficemojo.com/movies/?id=rififi.htm"
       ]
      },
      {
       "output_type": "stream",
       "stream": "stdout",
       "text": [
        "\n",
        "http://boxofficemojo.com/movies/?id=legendofsuriyothai.htm"
       ]
      },
      {
       "output_type": "stream",
       "stream": "stdout",
       "text": [
        "\n",
        "http://boxofficemojo.com/movies/?id=therese13.htm"
       ]
      },
      {
       "output_type": "stream",
       "stream": "stdout",
       "text": [
        "\n",
        "http://boxofficemojo.com/movies/?id=townisquiet.htm"
       ]
      },
      {
       "output_type": "stream",
       "stream": "stdout",
       "text": [
        "\n",
        "http://boxofficemojo.com/movies/?id=circle.htm"
       ]
      },
      {
       "output_type": "stream",
       "stream": "stdout",
       "text": [
        "\n",
        "http://boxofficemojo.com/movies/?id=ferrarikisawaari.htm"
       ]
      },
      {
       "output_type": "stream",
       "stream": "stdout",
       "text": [
        "\n",
        "http://boxofficemojo.com/movies/?id=ifyouaretheone2.htm"
       ]
      },
      {
       "output_type": "stream",
       "stream": "stdout",
       "text": [
        "\n",
        "http://boxofficemojo.com/movies/?id=josh.htm"
       ]
      },
      {
       "output_type": "stream",
       "stream": "stdout",
       "text": [
        "\n",
        "http://boxofficemojo.com/movies/?id=earth.htm"
       ]
      },
      {
       "output_type": "stream",
       "stream": "stdout",
       "text": [
        "\n",
        "http://boxofficemojo.com/movies/?id=coldinjuly.htm"
       ]
      },
      {
       "output_type": "stream",
       "stream": "stdout",
       "text": [
        "\n",
        "http://boxofficemojo.com/movies/?id=marvel2014a.htm"
       ]
      },
      {
       "output_type": "stream",
       "stream": "stdout",
       "text": [
        "\n",
        "http://boxofficemojo.com/movies/?id=brokenwings.htm"
       ]
      },
      {
       "output_type": "stream",
       "stream": "stdout",
       "text": [
        "\n",
        "http://boxofficemojo.com/movies/?id=frank.htm"
       ]
      },
      {
       "output_type": "stream",
       "stream": "stdout",
       "text": [
        "\n",
        "http://boxofficemojo.com/movies/?id=1998bugsbunnyfilmfestival.htm"
       ]
      },
      {
       "output_type": "stream",
       "stream": "stdout",
       "text": [
        "\n",
        "http://boxofficemojo.com/movies/?id=hawayein.htm"
       ]
      },
      {
       "output_type": "stream",
       "stream": "stdout",
       "text": [
        "\n",
        "http://boxofficemojo.com/movies/?id=journeytoshiloh.htm"
       ]
      },
      {
       "output_type": "stream",
       "stream": "stdout",
       "text": [
        "\n",
        "http://boxofficemojo.com/movies/?id=hardiljopyarkarega.htm"
       ]
      },
      {
       "output_type": "stream",
       "stream": "stdout",
       "text": [
        "\n",
        "http://boxofficemojo.com/movies/?id=intimacy.htm"
       ]
      },
      {
       "output_type": "stream",
       "stream": "stdout",
       "text": [
        "\n",
        "http://boxofficemojo.com/movies/?id=dillagi.htm"
       ]
      },
      {
       "output_type": "stream",
       "stream": "stdout",
       "text": [
        "\n",
        "http://boxofficemojo.com/movies/?id=lucieaubrac.htm"
       ]
      },
      {
       "output_type": "stream",
       "stream": "stdout",
       "text": [
        "\n",
        "http://boxofficemojo.com/movies/?id=jeeaayunnu.htm"
       ]
      },
      {
       "output_type": "stream",
       "stream": "stdout",
       "text": [
        "\n",
        "http://boxofficemojo.com/movies/?id=hamaradilaapkepaashai.htm"
       ]
      },
      {
       "output_type": "stream",
       "stream": "stdout",
       "text": [
        "\n",
        "http://boxofficemojo.com/movies/?id=welldiggersdaughter.htm"
       ]
      },
      {
       "output_type": "stream",
       "stream": "stdout",
       "text": [
        "\n",
        "http://boxofficemojo.com/movies/?id=marvel2014a.htm"
       ]
      },
      {
       "output_type": "stream",
       "stream": "stdout",
       "text": [
        "\n",
        "http://boxofficemojo.com/movies/?id=steamturkishbath.htm"
       ]
      },
      {
       "output_type": "stream",
       "stream": "stdout",
       "text": [
        "\n",
        "http://boxofficemojo.com/movies/?id=humptysharma.htm"
       ]
      },
      {
       "output_type": "stream",
       "stream": "stdout",
       "text": [
        "\n",
        "http://boxofficemojo.com/movies/?id=khiladi786.htm"
       ]
      },
      {
       "output_type": "stream",
       "stream": "stdout",
       "text": [
        "\n",
        "http://boxofficemojo.com/movies/?id=huntingofthepresident.htm"
       ]
      },
      {
       "output_type": "stream",
       "stream": "stdout",
       "text": [
        "\n",
        "http://boxofficemojo.com/movies/?id=lajja.htm"
       ]
      },
      {
       "output_type": "stream",
       "stream": "stdout",
       "text": [
        "\n",
        "http://boxofficemojo.com/movies/?id=anniebrocoli.htm"
       ]
      },
      {
       "output_type": "stream",
       "stream": "stdout",
       "text": [
        "\n",
        "http://boxofficemojo.com/movies/?id=bicyclethief.htm"
       ]
      },
      {
       "output_type": "stream",
       "stream": "stdout",
       "text": [
        "\n",
        "http://boxofficemojo.com/movies/?id=openyoureyes.htm"
       ]
      },
      {
       "output_type": "stream",
       "stream": "stdout",
       "text": [
        "\n",
        "http://boxofficemojo.com/movies/?id=marykom.htm"
       ]
      },
      {
       "output_type": "stream",
       "stream": "stdout",
       "text": [
        "\n",
        "http://boxofficemojo.com/movies/?id=memyselfi.htm"
       ]
      },
      {
       "output_type": "stream",
       "stream": "stdout",
       "text": [
        "\n",
        "http://boxofficemojo.com/movies/?id=basketthe.htm"
       ]
      },
      {
       "output_type": "stream",
       "stream": "stdout",
       "text": [
        "\n",
        "http://boxofficemojo.com/movies/?id=terajadoochalgayaa.htm"
       ]
      },
      {
       "output_type": "stream",
       "stream": "stdout",
       "text": [
        "\n",
        "http://boxofficemojo.com/movies/?id=illsleepwhenimdead.htm"
       ]
      },
      {
       "output_type": "stream",
       "stream": "stdout",
       "text": [
        "\n",
        "http://boxofficemojo.com/movies/?id=affairoflife.htm"
       ]
      },
      {
       "output_type": "stream",
       "stream": "stdout",
       "text": [
        "\n"
       ]
      }
     ],
     "prompt_number": 2
    },
    {
     "cell_type": "code",
     "collapsed": false,
     "input": [
      "len(movie)"
     ],
     "language": "python",
     "metadata": {},
     "outputs": [
      {
       "metadata": {},
       "output_type": "pyout",
       "prompt_number": 7,
       "text": [
        "7629"
       ]
      }
     ],
     "prompt_number": 7
    },
    {
     "cell_type": "code",
     "collapsed": false,
     "input": [
      "first_movie_dict = movie[0]\n",
      "movie_keys = first_movie_dict.keys()\n",
      "print movie_keys"
     ],
     "language": "python",
     "metadata": {},
     "outputs": [
      {
       "output_type": "stream",
       "stream": "stdout",
       "text": [
        "['director', 'rating', 'openingweekendgross', 'movie_title', 'domestic_total_gross', 'release_date', 'runtime', 'budget']\n"
       ]
      }
     ],
     "prompt_number": 8
    },
    {
     "cell_type": "code",
     "collapsed": false,
     "input": [
      "import csv\n",
      "\n",
      "open_file = open('Luther_movies_all_time.csv','wb')\n",
      "w = csv.DictWriter(open_file,movie_keys)\n",
      "w.writer.writerow(movie_keys)\n",
      "failed_movies = []\n",
      "for z in movie:\n",
      "    try:\n",
      "        w.writerow(z)\n",
      "    except:\n",
      "        failed_movies.append(z)\n",
      "        pass\n",
      "#open_file.close()"
     ],
     "language": "python",
     "metadata": {},
     "outputs": [],
     "prompt_number": 17
    },
    {
     "cell_type": "code",
     "collapsed": false,
     "input": [
      "len(failed_movies)"
     ],
     "language": "python",
     "metadata": {},
     "outputs": [
      {
       "metadata": {},
       "output_type": "pyout",
       "prompt_number": 16,
       "text": [
        "8"
       ]
      }
     ],
     "prompt_number": 16
    }
   ],
   "metadata": {}
  }
 ]
}