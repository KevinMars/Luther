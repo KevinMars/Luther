{
 "metadata": {
  "name": "",
  "signature": "sha256:f89f08e5fabce069251966db21cc1166c69980523219bff311e9afe677291acb"
 },
 "nbformat": 3,
 "nbformat_minor": 0,
 "worksheets": [
  {
   "cells": [
    {
     "cell_type": "code",
     "collapsed": false,
     "input": [],
     "language": "python",
     "metadata": {},
     "outputs": []
    }
   ],
   "metadata": {}
  }
 ]
}