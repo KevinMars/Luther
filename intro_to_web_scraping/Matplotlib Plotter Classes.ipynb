{
 "metadata": {
  "name": "",
  "signature": "sha256:4b9610f5c2e5739ad2a7089e8390b6e441f6ec1d44a0489c9324220da8bf4991"
 },
 "nbformat": 3,
 "nbformat_minor": 0,
 "worksheets": [
  {
   "cells": [
    {
     "cell_type": "code",
     "collapsed": false,
     "input": [
      "import pandas as pd\n",
      "import numpy as np\n",
      "import plotters\n",
      "\n",
      "\n",
      "\n",
      "# read the file                                                                                                                                                                      \n",
      "movies_df = pd.read_csv('2013_movies.csv', parse_dates={'Date':['ReleaseDate']})\n",
      "\n",
      "# get rid of rows without budgets                                                                                                                                                    \n",
      "movies_with_budgets = movies_df[ -np.isnan(movies_df['Budget']) ]\n"
     ],
     "language": "python",
     "metadata": {},
     "outputs": [
      {
       "output_type": "stream",
       "stream": "stderr",
       "text": [
        "/usr/local/lib/python2.7/site-packages/scipy/interpolate/interpolate.py:28: RuntimeWarning: numpy.dtype size changed, may indicate binary incompatibility\n",
        "  from . import _ppoly\n",
        "/usr/local/lib/python2.7/site-packages/scipy/interpolate/interpolate.py:28: RuntimeWarning: numpy.ufunc size changed, may indicate binary incompatibility\n",
        "  from . import _ppoly\n",
        "/usr/local/lib/python2.7/site-packages/scipy/spatial/__init__.py:90: RuntimeWarning: numpy.dtype size changed, may indicate binary incompatibility\n",
        "  from .ckdtree import *\n",
        "/usr/local/lib/python2.7/site-packages/scipy/spatial/__init__.py:90: RuntimeWarning: numpy.ufunc size changed, may indicate binary incompatibility\n",
        "  from .ckdtree import *\n",
        "/usr/local/lib/python2.7/site-packages/scipy/spatial/__init__.py:91: RuntimeWarning: numpy.dtype size changed, may indicate binary incompatibility\n",
        "  from .qhull import *\n",
        "/usr/local/lib/python2.7/site-packages/scipy/spatial/__init__.py:91: RuntimeWarning: numpy.ufunc size changed, may indicate binary incompatibility\n",
        "  from .qhull import *\n",
        "/usr/local/lib/python2.7/site-packages/scipy/stats/_continuous_distns.py:24: RuntimeWarning: numpy.dtype size changed, may indicate binary incompatibility\n",
        "  from . import vonmises_cython\n"
       ]
      },
      {
       "output_type": "stream",
       "stream": "stderr",
       "text": [
        "/usr/local/lib/python2.7/site-packages/scipy/stats/_continuous_distns.py:24: RuntimeWarning: numpy.ufunc size changed, may indicate binary incompatibility\n",
        "  from . import vonmises_cython\n",
        "/usr/local/lib/python2.7/site-packages/scipy/stats/stats.py:188: RuntimeWarning: numpy.dtype size changed, may indicate binary incompatibility\n",
        "  from ._rank import rankdata, tiecorrect\n"
       ]
      },
      {
       "output_type": "stream",
       "stream": "stderr",
       "text": [
        "/usr/local/lib/python2.7/site-packages/scipy/stats/stats.py:188: RuntimeWarning: numpy.ufunc size changed, may indicate binary incompatibility\n",
        "  from ._rank import rankdata, tiecorrect\n"
       ]
      }
     ],
     "prompt_number": 1
    },
    {
     "cell_type": "code",
     "collapsed": false,
     "input": [
      "# get the x and y data to plot, and names to pop                                                                                                                                     \n",
      "# divide budget and gross by 1 million dollars for readability                                                                                                                       \n",
      "x = movies_with_budgets['Budget']/1e6\n",
      "y = movies_with_budgets['DomesticTotalGross']/1e6\n",
      "name = movies_with_budgets['Rating']\n"
     ],
     "language": "python",
     "metadata": {},
     "outputs": [],
     "prompt_number": 2
    },
    {
     "cell_type": "code",
     "collapsed": false,
     "input": [
      "import plotters\n",
      "\n",
      "# initiate plotter                                                                                                                                                                   \n",
      "plotter = plotters.TwoVariableComparisonPlotter(x, y, name,\n",
      "                                           x_range=(None, None),\n",
      "                                           y_range = (None, None),\n",
      "                                           label_display_style=\"hover\",\n",
      "                                           xlabel=\"Budget (million dollars)\",\n",
      "                                           ylabel = \"Domestic Gross (million dollars)\")\n",
      "\n",
      "# plot!                                                                                                                                                                              \n",
      "plotter.add_text(0, 360, \"Highly\\nprofitable\")\n",
      "plotter.add_text(200, 0, \"Absolutely\\nregrettable\")\n",
      "\n",
      "plotter.plot()"
     ],
     "language": "python",
     "metadata": {},
     "outputs": [],
     "prompt_number": 3
    }
   ],
   "metadata": {}
  }
 ]
}