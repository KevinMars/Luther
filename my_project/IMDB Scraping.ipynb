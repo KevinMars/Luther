{
 "metadata": {
  "name": "",
  "signature": "sha256:5bc15a7ca352ba5b242de544f9ccce5e7df4c2ba4b3283bb5c2dbae742cdcedf"
 },
 "nbformat": 3,
 "nbformat_minor": 0,
 "worksheets": [
  {
   "cells": [
    {
     "cell_type": "markdown",
     "metadata": {},
     "source": [
      "### What happens if I try to parse my gmail with urllib and BeautifulSoup?"
     ]
    },
    {
     "cell_type": "markdown",
     "metadata": {},
     "source": [
      "We have hit the login page. We can't get to the emails without logging in. Again, reading the html source is useless, because it is only the source for the login page."
     ]
    },
    {
     "cell_type": "markdown",
     "metadata": {},
     "source": [
      "### Open chrome, go to gmail, log in to Irmak's hacking account, compose an email, send it"
     ]
    },
    {
     "cell_type": "code",
     "collapsed": false,
     "input": [
      "# pip install selenium\n",
      "# Download ChromeDriver from https://code.google.com/p/selenium/wiki/ChromeDriver\n",
      "\n",
      "# Documentation on finding elements:\n",
      "#http://selenium-python.readthedocs.org/en/latest/locating-elements.html\n",
      "# Xpath tutorial:\n",
      "# http://www.w3schools.com/xpath/xpath_syntax.asp\n",
      "\n",
      "from selenium import webdriver\n",
      "from selenium.webdriver.common.keys import Keys\n",
      "import time\n",
      "# in case your computer complains about the driver even though it's there\n",
      "# import os\n",
      "# os.environ"
     ],
     "language": "python",
     "metadata": {},
     "outputs": [],
     "prompt_number": 42
    },
    {
     "cell_type": "code",
     "collapsed": false,
     "input": [
      "import pandas as pd\n",
      "\n",
      "df = pd.DataFrame.from_csv('Luther_movies_all_time.csv', index_col=False)\n",
      "df = df.dropna(subset=['budget','openingweekendgross','director'])\n",
      "director_list = list(df['director'])"
     ],
     "language": "python",
     "metadata": {},
     "outputs": [
      {
       "metadata": {},
       "output_type": "pyout",
       "prompt_number": 104,
       "text": [
        "1809"
       ]
      }
     ],
     "prompt_number": 104
    },
    {
     "cell_type": "markdown",
     "metadata": {},
     "source": [
      "### Scraping boxofficemojo with selenium"
     ]
    },
    {
     "cell_type": "code",
     "collapsed": true,
     "input": [
      "chrome = webdriver.Chrome('/Users/Home/Packages/chromedriver')\n",
      "\n",
      "matrix_url = \"http://www.imdb.com/\"\n",
      "chrome.get(matrix_url)"
     ],
     "language": "python",
     "metadata": {},
     "outputs": [],
     "prompt_number": 61
    },
    {
     "cell_type": "code",
     "collapsed": false,
     "input": [
      "director_set = list(set(director_list))\n",
      "print director_set\n",
      "len (director_set)"
     ],
     "language": "python",
     "metadata": {},
     "outputs": [
      {
       "output_type": "stream",
       "stream": "stdout",
       "text": [
        "['Ricky Gervais', 'Phillip Noyce', 'Jorma Taccone', 'John Luessenhop', 'Mike Flanagan', 'Kevin Macdonald', 'Mike Leigh', 'Oliver Parker', 'Thomas Bezucha', 'Courtney Solomon', 'Jay Chandrasekhar', 'Sheldon Lettich', 'Kirk De MiccoChris Sanders', 'Tommy Lee Jones', 'Francis Lawrence', 'Peter Berg', 'Dan Rush', 'Paul Haggis', 'George Tillman, Jr.', 'David Soren', 'Don Bluth', 'Andrew ErwinJon Erwin', 'Michael Mann', 'Chris Renaud', 'Lee Tamahori', 'Gary McKendry', 'Tony Bill', 'Brandon Camp', 'David BowersSam Fell', 'Ron ClementsJohn Musker', 'Ridley Scott', 'Steven Quale', 'Roger AllersRob Minkoff', 'Guillermo del Toro', 'John Wells', 'James McTeigue', 'Kevin Smith', 'David Michod', 'George Nolfi', 'Kenneth Branagh', 'Tim Hill', 'Justin Lin', 'Derek Cianfrance', 'Kirk Jones', 'Tom Vaughan', 'Wes Craven', 'Andy Garcia', 'Greg Berlanti', 'Michael Sucsy', 'Bille Woodruff', 'Douglas McGrath', 'Joss Whedon', 'Paul Thomas Anderson', 'Catherine Hardwicke', 'Chris Buck', 'Jimmy Hayward', 'Scott Charles Stewart', 'Zhang Yimou', 'Lee Unkrich', 'Tommy Wirkola', 'John Singleton', 'Stephen Frears', 'Jonathan Demme', 'Jean-Jacques Annaud', 'Rick Famuyiwa', 'Gabriele Muccino', 'Noam Murro', 'Brett Ratner', 'Gareth Edwards', 'David Twohy', 'Jesse Peretz', 'Joe Wright', 'Pedro Almodovar', 'Dean Parisot', 'Christopher McQuarrie', 'Anne Fletcher', 'Danny Boyle', 'Sam Raimi', 'Joe Carnahan', 'Frank MillerRobert Rodriguez', 'Greg Coolidge', 'Scott Speer', 'Mikael Hafstrom', 'Joe Roth', 'Pete DocterDavid Silverman (co-director)Lee Unkrich', 'Kathryn Bigelow', 'John LasseterLee Unkrich', 'Ethan CoenJoel Coen', 'James DeMonaco', 'Alejandro Amenabar', 'John Crowley', 'Marc Forster', 'Michael Lembeck', 'Dominic Sena', 'Larry Charles', 'Brian De Palma', 'Neill Blomkamp', 'Glenn Gordon Caron', 'Anthony Hemingway', 'Irwin Winkler', 'David Lynch', 'John Woo', 'John Hillcoat', 'David Zucker', 'Diane Keaton', 'Benson Lee', 'Quentin Tarantino', 'Renny Harlin', 'Jay Roach', 'Jim Abrahams', 'Andrew Niccol', 'Allen Coulter', 'Daniel Espinosa', 'Frank Oz', 'Sidney Lumet', 'James Gray', 'Robert Rodriguez', 'Michael Patrick King', 'Lone Scherfig', 'John McTiernan', 'Harold Ramis', 'Joseph Ruben', 'Barbet Schroeder', 'Paul W.S. Anderson', 'Betty Thomas', 'James Foley', 'Garry Marshall', 'Will Finn', 'Atom Egoyan', 'Michael Tiddes', 'Kasi Lemmons', 'Terrence Malick', 'Mark S. Waters', 'Tim Story', 'Kurt Wimmer', 'Werner Herzog', 'Wolfgang Petersen', 'Peter Chelsom', 'Mark NeveldineBrian Taylor', 'Alex Proyas', 'Mars MarlindBjorn Stein', 'Paul Feig', 'Burr Steers', 'Mark Tonderai', 'Brad Peyton', 'Martin Campbell', 'Richard Wenk', 'Kimberly Peirce', 'RZA', 'Andrew Dominik', 'Adam Rifkin', 'Michael J. Bassett', 'David Ayer', 'Alex Kurtzman', 'Tom Hanks', 'Alexandre Aja', 'Gregory Hoblit', 'Will FinnDan St. Pierre', 'Alan Parker', 'Bennett Miller', 'Clint Eastwood', 'Rian Johnson', 'Carlos Saldanha (co-director)Chris Wedge', 'Eric Valette', 'Ivan Reitman', 'Scott Derrickson', 'Marcus Nispel', 'Kevin Munroe', 'Mark Romanek', 'Roger Donaldson', 'Luc Besson', 'David R. Ellis', 'Chris WeitzPaul Weitz', 'Mike Mitchell', 'Curtis Hanson', 'Walter Becker', 'Nick Stoller', 'Nicolas Winding Refn', 'Ed Harris', 'Michael Haneke', 'Dan Ireland', 'Jay DuplassMark Duplass', 'Rod Lurie', 'Jean-Marc Vallee', 'Gina Prince-Bythewood', 'Mark Brown', 'Gore Verbinski', 'McG', 'Jodie Foster', 'Wally Pfister', 'Lars Von Trier', 'Danny Cannon', 'Mike Binder', 'Nick Cassavetes', 'Ed Gass-Donnelly', 'Spike Lee', 'Rob Zombie', 'Ernest R. Dickerson', 'Stephen Herek', 'Asger Leth', 'Sydney Pollack', 'Raja Gosnell', 'Amy Heckerling', 'Barry CookNeil Nightingale', 'Anthony Minghella', 'Bob Odenkirk', 'Edgar Wright', 'Iain Softley', 'Roland Emmerich', 'Joe Cornish', 'William Brent Bell', 'Mathieu Kassovitz', 'John Michael McDonagh', 'Jeff Tremaine', 'Walter Hill', 'Steven Zaillian', 'Jason Moore', 'George Lucas', 'Glenn FicarraJohn Requa', 'Brenda ChapmanSimon Wells', 'Jon Turteltaub', 'Mark Steven Johnson', 'Nora Ephron', 'David Fincher', 'Fred Wolf', 'Neil LaBute', 'Josh GordonWill Speck', 'John Herzfeld', 'Alan Taylor', 'John Erick Dowdle', 'David Dobkin', '-1', 'Ruben Fleischer', 'Pierre CoffinChris Renaud', 'Bruce A. Evans', 'Robert RodriguezQuentin Tarantino', 'Peter Hewitt', 'Josh Trank', 'Bruce Beresford', 'Andrew Stanton', 'Robert Zemeckis', 'Adam Shankman', 'Matt Reeves', 'Patrick Lussier', 'Rupert Sanders', 'Matthew Vaughn', 'James Wong', 'Tom Shadyac', 'Sofia Coppola', 'Rob Hardy', 'Bill Condon', 'Scott Waugh', 'Steven Antin', 'Susanna White', 'Stephen Sommers', 'Catherine Breillat', 'Thomas Carter', 'Roger Allers', 'Richard LaGravenese', 'Aaron Seltzer', 'Robert B. Weide', 'Josh Schwartz', 'Will Gluck', 'Jonathan Levine', 'Olivier Megaton', 'Karyn Kusama', 'Michael Moore', 'M. Night Shyamalan', 'John Dahl', 'John LasseterBrad Lewis (co-director)', 'Debra Granik', 'Jim Field Smith', 'Jeff Nichols', 'Darren Lynn Bousman', 'Peter Segal', 'Bryan Singer', 'Chris Rock', 'Andrew StantonLee Unkrich', 'Adam McKay', 'Steven Soderbergh', 'Matt Bettinelli-OlpinTyler Gillett', 'Tom Dey', 'Eric DarnellTom McGrath', 'Shane Black', 'Greg Mottola', 'Justin Chadwick', 'Bill Duke', 'Francois Girard', 'Charles Martin Smith', 'Wong Kar Wai', 'Ronny Yu', 'Shawn Levy', 'John Lee Hancock', 'Tom Hooper', 'Kevin Rodney Sullivan', 'Henry JoostAriel Schulman', 'David Wain', 'David Slade', 'Stephan Elliot', 'Richard Kelly', 'Chris Wedge', 'The Farrelly Bros.', 'Rob LettermanConrad Vernon', 'Drew Barrymore', 'Bruce Robinson', 'Zack Snyder', 'Shana Feste', 'Louis Leterrier', 'Baz Luhrmann', 'Camille Delamarre', 'Pete Travis', 'Michael AptedCurtis Hanson', 'Rawson Marshall Thurber', 'Evan GoldbergSeth Rogen', 'Brad Silberling', 'Marc Webb', 'Carl Franklin', 'Scott Frank', 'Ben Stiller', 'Rich Moore', 'Andrew AdamsonKelly AsburyConrad Vernon', 'Irvin Kershner', 'Henry Selick', 'Brian Helgeland', 'Barry Sonnenfeld', 'Rob Bowman', 'Andrzej Bartkowiak', 'Michael Caton-Jones', 'Nanette Burstein', 'Steve Pink', 'Albert HughesAllen Hughes', 'Steve Carr', 'Tom Brady', 'Mike Judge', 'Andrew Davis', 'Randall Wallace', 'Brad Furman', 'Roland Joffe', 'Martin Scorsese', 'Vera Farmiga', 'Scott Hicks', 'John Madden', 'Tony Scott', 'Lexi Alexander', 'David Koepp', 'Albert Brooks', 'Peter Lord', 'Cameron Crowe', 'Daniel Barnz', 'Peter Ramsey', 'Tim Burton', 'Andres Muschietti', 'David PalmerDax Shepard', 'Woody Allen', 'Paul Greengrass', 'Simon Wells', 'Peter Hyams', 'Michael Lehman', 'Mike Nichols', 'Tina Gordon Chism', 'Barry Levinson', 'Darren Aronofsky', 'Judd Apatow', 'Julie Taymor', 'Tom Gormican', 'Gus Van Sant', 'James Cameron', 'David Schwimmer', 'Kirk De Micco', 'Alan J. Pakula', 'Todd Phillips', 'Jaume Collet-Serra', 'Jody Hill', 'Doug Liman', 'Troy Nixey', 'Tony Goldwyn', 'Paul Weitz', 'Chris Stokes', 'Lawrence Kasdan', 'Paul Verhoeven', 'Rob Marshall', 'Akiva Goldsman', 'Don Scardino', 'Stephen Daldry', 'Michael Mayer', 'Mike Mills', 'Oren Peli', 'Richard Linklater', 'Chris Columbus', 'Peter Weir', 'Charlie Kaufman', 'Michael Radford', 'Jan DeBont', 'Charles Shyer', 'Peyton Reed', 'Mike Newell', 'Noah Baumbach', 'Ang Lee', 'Mel Gibson', 'Robert Luketic', 'Rob Letterman', 'Oren Moverman', 'Michael McCullers', 'James Bobin', \"Gavin O'Connor\", 'Scott Cooper', 'Steve McQueen (II)', 'Gillian Armstrong', 'Todd Lincoln', 'Ken Kwapis', 'Justin Zackham', 'Wayne Wang', 'Duncan Jones', 'Tate Taylor', 'Jon Favreau', 'Brian KlugmanLee Sternthal', 'Ron Howard', 'Michel Gondry', 'Sam Fell', 'Nancy Meyers', 'John Schultz', 'Phil LordChris Miller (II)', 'Sam Mendes', 'Jake Kasdan', 'Chris Weitz', 'Mel Brooks', 'Rupert Wyatt', 'Guy Ritchie', 'Terry Gilliam', 'Spencer Susser', 'Ben Affleck', 'Tom Ford', 'Mira Nair', 'Vincenzo Natali', 'George Gallo', 'Denis Villeneuve', 'David Yates', 'Dan Bradley', 'Miguel Arteta', 'Andrew Fleming', 'William Friedkin', 'Alister Grierson', 'Vadim Perelman', 'Brad Anderson', 'Lorene Scafaria', 'George Clooney', 'Gavin Hood', 'Rob Minkoff', 'Denzel Washington', 'Jerry Zucker', 'Craig Gillespie', 'Chris BuckJennifer Lee', 'Michael Apted', 'Robert Butler', 'Chris Kentis', 'Kenny Ortega', 'George Miller', 'Alexander Payne', 'John Cameron Mitchell', 'Ken Scott', 'Lee Daniels', 'Seth MacFarlane', 'Jon LucasScott Moore', 'Susannah Grant', 'Callie Khouri', 'Luke Greenfield', 'Craig Brewer', 'Kevin Costner (Uncredited)Kevin Reynolds', 'Michel Hazanavicius', 'Steve Oedekerk', 'Harald Zwart', 'Todd Field', 'Steven Spielberg', 'Nigel Cole', 'Anna BodenRyan Fleck', 'Peter Lepeniotis', 'Sngmoo Lee', 'Richard Donner', 'Dean DeBloisChris Sanders', 'Beeban Kidron', 'Nicole Holofcener', 'Jon HurwitzHayden Schlossberg', 'Robert Redford', 'Andrew Adamson', 'Todd Strauss-Schulson', 'Penelope Spheeris', 'Allen Hughes', 'Gary Fleder', 'John Moore', 'Andy Tennant', 'Malcolm D. Lee', 'Tom McGrath', 'Taylor Hackford', 'James L. Brooks', 'Christopher Nolan', 'David Silverman', 'Ole Bornedal', 'Dennis Dugan', 'John Curran', 'Nick Hurran', 'Sean Anders', 'Fred Schepisi', 'John Stockwell', 'Diane English', 'Alex Kendrick', 'P.J. Hogan', 'Martha Coolidge', 'Chris Miller', 'Christian E. Christiansen', 'Andy & Lana Wachowski', 'Joel Coen', 'Brian Robbins', 'Rob Cohen', 'Erik White', 'Frank Darabont', 'Davis Guggenheim', 'Jon Avnet', 'James MatherStephen St. Leger', 'Roger Michell', 'Fernando Meirelles', 'Miranda July', 'Steven Brill', 'Paul Schrader', 'Mark AndrewsBrenda Chapman', 'Clark Johnson', 'Eric DarnellTom McGrathConrad Vernon', 'Joe Nussbaum', 'Kelly Reichardt', 'James Wan', 'Jason Winer', 'Spike Jonze', 'Boaz Yakin', 'Carlos Saldanha', 'Gary Ross', 'Tony Kaye', 'Jason Reitman', 'Edward Zwick', 'David Bowers', 'Jose Padilha', 'Jonathan DaytonValerie Faris', 'George Hickenlooper', 'Kevin Costner', 'Zach Braff', 'Len Wiseman', 'Richard Rush', 'Martin Brest', 'Hal Ashby', 'Michael Davis', 'Anthony RussoJoe Russo', '2/9/10 2010 Preview: Paranormal Activity 2', 'Danny DeVito', 'Tim Robbins', 'Pierre Morel', 'Wes Anderson', 'Tom Tykwer', 'Frank Coraci', 'Jennifer Yuh Nelson', 'Neil Burger', 'Jean-Pierre Jeunet', 'Genndy Tartakovsky', 'Brad Bird', 'Lasse Hallstrom', 'Michael Hoffman', 'David Hackl', 'Sylvain Chomet', 'Ron Underwood', 'Jane Campion', 'Fede Alvarez', 'Nathan GrenoByron Howard', 'Eric Darnell', 'Alfonso Cuaron', 'Richard Loncraine', 'Uwe Boll', 'Roger Kumble', 'Carl Rinsch', 'J.J. Abrams', 'Robert Benton', 'Frank Marshall', 'Jeff Schaffer', 'Chris ButlerSam Fell', 'Christopher Guest', 'Kelly Asbury', 'David Frankel', 'Charles Ferguson', 'Trey Parker', 'Whit Stillman', 'Anton Corbijn', 'Mike McCoyScott Waugh', 'Mark Mylod', 'Antoine Fuqua', 'Andrew Sipes', 'D.J. Caruso', 'Robert Altman', 'Stuart Beattie', 'Michael Winterbottom', 'Jonathan Liebesman', 'Peter Jackson', 'Daniel Stamm', 'Florian Henckel von Donnersmarck', 'Joel Schumacher', 'Salim Akil', 'David S. Goyer', 'Niels Arden Oplev', 'Julie Anne Robinson', 'Keenen Ivory Wayans', 'James Ivory', 'Morgan Spurlock', 'Timur Bekmambetov', 'Gary Winick', 'Colin StrauseGreg Strause', 'Kevin Reynolds', 'Michael Bay', 'Jason FriedbergAaron Seltzer', 'Sylvester Stallone', 'Jim Sheridan', 'Joe Johnston', 'Rob Reiner', 'Peter Hedges', 'James Mangold', 'Patty Jenkins', 'Penny Marshall', 'Ryan Murphy', 'John Lasseter', 'Joseph Gordon-Levitt', 'Ethan ManiquisRobert Rodriguez', 'Wayne Kramer', 'James Gunn', 'Neil Jordan', 'Joshua Michael Stern', 'Klay Hall', 'Akiva Schaffer', 'Joseph Kosinski', 'Elizabeth Allen (II)', 'Jay Russell', 'Paul WeitzChris Weitz*', 'John Landis', 'David Chase', 'Oliver Stone', 'Victor Salva', 'Eli Roth', 'Breck Eisner', 'Howard Deutch', 'Andrew Bergman', 'Simon West', 'Harmony Korine', 'Charles Stone III', 'Jeff Wadlow', 'Christian Alvart', 'Robert Longo', 'Desmond Nakano', 'Jonathan Mostow', 'Seth Gordon', 'Robert Schwentke', 'John Carpenter', 'Jon Chu', 'John Whitesell', 'Will FinnDavid Silverman', 'Sean McNamara', 'Martin McDonagh', 'Tony Gilroy', 'Cal Brunker', 'Tarsem', 'Lisa Cholodenko', 'Baltasar Kormakur', 'Tod Williams', 'Andy Fickman', 'F. Gary Gray', 'Steven Lisberger', 'Jee-woon Kim', 'Roman Polanski', 'David O. Russell', 'Thor Freudenthal', 'Mark Pellington', 'Chris Gorak', 'David Gordon Green', 'Christophe Gans', 'Don Roos', 'Tyler Perry', 'Arlene Sanford', 'David Mamet', 'Pete DocterBob Peterson', 'Gil Kenan']\n"
       ]
      },
      {
       "metadata": {},
       "output_type": "pyout",
       "prompt_number": 110,
       "text": [
        "682"
       ]
      }
     ],
     "prompt_number": 110
    },
    {
     "cell_type": "code",
     "collapsed": false,
     "input": [
      "director = director\n",
      "num_of_oscar = []\n",
      "num_of_nomination = []\n",
      "num_of_win = []\n",
      "for x in director:\n",
      "    search_director = chrome.find_element_by_id('navbar-query')\n",
      "    search_director.send_keys(x)\n",
      "    search_director.send_keys(Keys.RETURN)\n",
      "    click_director = chrome.find_element_by_link_text(x)\n",
      "    click_director.send_keys(Keys.RETURN)\n",
      "    time.sleep(.3)\n",
      "    award_director = chrome.find_element_by_xpath('//div[@class=\"article highlighted\"]').text\n",
      "    award_information = award_director.replace('.','').replace('wins','win').replace('Oscars','Oscar').replace('nominations','nomination')\n",
      "    award_information_list = award_information.split()\n",
      "    if \"Oscar\" in award_information:\n",
      "        oscar_index = award_information_list.index('Oscar')\n",
      "        oscar_index_value = oscar_index - 1\n",
      "        num_of_oscar.append (award_information_list[oscar_index_value])\n",
      "    if \"win\" in award_information:\n",
      "        win_index = award_information_list.index('win')\n",
      "        win_index_value = win_index - 1\n",
      "        num_of_win.append (award_information_list[win_index_value])\n",
      "    if \"nominations\" or \"nominations\" in award_information:\n",
      "        nomination_index = award_information_list.index('nomination')\n",
      "        nomination_index_value = nomination_index - 1\n",
      "        num_of_nomination.append (award_information_list[nomination_index_value])\n"
     ],
     "language": "python",
     "metadata": {},
     "outputs": [],
     "prompt_number": 62
    },
    {
     "cell_type": "code",
     "collapsed": false,
     "input": [],
     "language": "python",
     "metadata": {},
     "outputs": []
    },
    {
     "cell_type": "code",
     "collapsed": false,
     "input": [
      "award_director = chrome.find_element_by_xpath('//div[@class=\"article highlighted\"]')\n",
      "print award_director.text"
     ],
     "language": "python",
     "metadata": {},
     "outputs": [
      {
       "output_type": "stream",
       "stream": "stdout",
       "text": [
        "Won 1 Oscar. Another 134 wins & 141 nominations. See more awards \u00bb\n"
       ]
      }
     ],
     "prompt_number": 40
    },
    {
     "cell_type": "code",
     "collapsed": false,
     "input": [
      "print num_of_oscar"
     ],
     "language": "python",
     "metadata": {},
     "outputs": [
      {
       "output_type": "stream",
       "stream": "stdout",
       "text": [
        "[u'1']\n"
       ]
      }
     ],
     "prompt_number": 63
    },
    {
     "cell_type": "code",
     "collapsed": false,
     "input": [
      "if \"Oscar\" in award_information:\n",
      "    oscar_index = award_information_list.index('Oscar')\n",
      "    oscar_index_value = oscar_index - 1\n",
      "    num_of_oscar = award_information_list[oscar_index_value]\n",
      "print num_of_oscar\n",
      "if \"win\" in award_information:\n",
      "    print 'he'\n",
      "    win_index = award_information_list.index('win')\n",
      "    win_index_value = win_index - 1\n",
      "    num_of_win = award_information_list[win_index_value]\n",
      "print num_of_win\n",
      "if \"nominations\" or \"nominations\" in award_information:\n",
      "    nomination_index = award_information_list.index('nomination')\n",
      "    nomination_index_value = nomination_index - 1\n",
      "    num_of_nomination = award_information_list[nomination_index_value]\n",
      "print num_of_nomination"
     ],
     "language": "python",
     "metadata": {},
     "outputs": [
      {
       "ename": "NameError",
       "evalue": "name 'award_information' is not defined",
       "output_type": "pyerr",
       "traceback": [
        "\u001b[0;31m---------------------------------------------------------------------------\u001b[0m\n\u001b[0;31mNameError\u001b[0m                                 Traceback (most recent call last)",
        "\u001b[0;32m<ipython-input-29-863badacef62>\u001b[0m in \u001b[0;36m<module>\u001b[0;34m()\u001b[0m\n\u001b[0;32m----> 1\u001b[0;31m \u001b[0;32mif\u001b[0m \u001b[0;34m\"Oscar\"\u001b[0m \u001b[0;32min\u001b[0m \u001b[0maward_information\u001b[0m\u001b[0;34m:\u001b[0m\u001b[0;34m\u001b[0m\u001b[0m\n\u001b[0m\u001b[1;32m      2\u001b[0m     \u001b[0moscar_index\u001b[0m \u001b[0;34m=\u001b[0m \u001b[0maward_information_list\u001b[0m\u001b[0;34m.\u001b[0m\u001b[0mindex\u001b[0m\u001b[0;34m(\u001b[0m\u001b[0;34m'Oscar'\u001b[0m\u001b[0;34m)\u001b[0m\u001b[0;34m\u001b[0m\u001b[0m\n\u001b[1;32m      3\u001b[0m     \u001b[0moscar_index_value\u001b[0m \u001b[0;34m=\u001b[0m \u001b[0moscar_index\u001b[0m \u001b[0;34m-\u001b[0m \u001b[0;36m1\u001b[0m\u001b[0;34m\u001b[0m\u001b[0m\n\u001b[1;32m      4\u001b[0m     \u001b[0mnum_of_oscar\u001b[0m \u001b[0;34m=\u001b[0m \u001b[0maward_information_list\u001b[0m\u001b[0;34m[\u001b[0m\u001b[0moscar_index_value\u001b[0m\u001b[0;34m]\u001b[0m\u001b[0;34m\u001b[0m\u001b[0m\n\u001b[1;32m      5\u001b[0m \u001b[0;32mprint\u001b[0m \u001b[0mnum_of_oscar\u001b[0m\u001b[0;34m\u001b[0m\u001b[0m\n",
        "\u001b[0;31mNameError\u001b[0m: name 'award_information' is not defined"
       ]
      }
     ],
     "prompt_number": 29
    },
    {
     "cell_type": "code",
     "collapsed": false,
     "input": [],
     "language": "python",
     "metadata": {},
     "outputs": []
    },
    {
     "cell_type": "code",
     "collapsed": false,
     "input": [],
     "language": "python",
     "metadata": {},
     "outputs": []
    },
    {
     "cell_type": "code",
     "collapsed": false,
     "input": [
      "award_director = chrome.find_element_by_xpath('//div[@class=\"article highlighted\"]')\n",
      "award_information = award_director.text\n",
      "award_information = award_information.replace('.','').replace('wins','win').replace('Oscars','Oscar').replace('nominations','nomination')\n",
      "award_information_list = award_information.split()"
     ],
     "language": "python",
     "metadata": {},
     "outputs": [],
     "prompt_number": 91
    },
    {
     "cell_type": "code",
     "collapsed": false,
     "input": [
      "chrome.close()"
     ],
     "language": "python",
     "metadata": {},
     "outputs": [
      {
       "ename": "WebDriverException",
       "evalue": "Message: u'no such session\\n  (Driver info: chromedriver=2.10.267517,platform=Mac OS X 10.9.4 x86_64)' ",
       "output_type": "pyerr",
       "traceback": [
        "\u001b[0;31m---------------------------------------------------------------------------\u001b[0m\n\u001b[0;31mWebDriverException\u001b[0m                        Traceback (most recent call last)",
        "\u001b[0;32m<ipython-input-78-a21462ca4897>\u001b[0m in \u001b[0;36m<module>\u001b[0;34m()\u001b[0m\n\u001b[0;32m----> 1\u001b[0;31m \u001b[0mchrome\u001b[0m\u001b[0;34m.\u001b[0m\u001b[0mclose\u001b[0m\u001b[0;34m(\u001b[0m\u001b[0;34m)\u001b[0m\u001b[0;34m\u001b[0m\u001b[0m\n\u001b[0m",
        "\u001b[0;32m/usr/local/lib/python2.7/site-packages/selenium/webdriver/remote/webdriver.pyc\u001b[0m in \u001b[0;36mclose\u001b[0;34m(self)\u001b[0m\n\u001b[1;32m    443\u001b[0m             \u001b[0mdriver\u001b[0m\u001b[0;34m.\u001b[0m\u001b[0mclose\u001b[0m\u001b[0;34m(\u001b[0m\u001b[0;34m)\u001b[0m\u001b[0;34m\u001b[0m\u001b[0m\n\u001b[1;32m    444\u001b[0m         \"\"\"\n\u001b[0;32m--> 445\u001b[0;31m         \u001b[0mself\u001b[0m\u001b[0;34m.\u001b[0m\u001b[0mexecute\u001b[0m\u001b[0;34m(\u001b[0m\u001b[0mCommand\u001b[0m\u001b[0;34m.\u001b[0m\u001b[0mCLOSE\u001b[0m\u001b[0;34m)\u001b[0m\u001b[0;34m\u001b[0m\u001b[0m\n\u001b[0m\u001b[1;32m    446\u001b[0m \u001b[0;34m\u001b[0m\u001b[0m\n\u001b[1;32m    447\u001b[0m     \u001b[0;32mdef\u001b[0m \u001b[0mquit\u001b[0m\u001b[0;34m(\u001b[0m\u001b[0mself\u001b[0m\u001b[0;34m)\u001b[0m\u001b[0;34m:\u001b[0m\u001b[0;34m\u001b[0m\u001b[0m\n",
        "\u001b[0;32m/usr/local/lib/python2.7/site-packages/selenium/webdriver/remote/webdriver.pyc\u001b[0m in \u001b[0;36mexecute\u001b[0;34m(self, driver_command, params)\u001b[0m\n\u001b[1;32m    171\u001b[0m         \u001b[0mresponse\u001b[0m \u001b[0;34m=\u001b[0m \u001b[0mself\u001b[0m\u001b[0;34m.\u001b[0m\u001b[0mcommand_executor\u001b[0m\u001b[0;34m.\u001b[0m\u001b[0mexecute\u001b[0m\u001b[0;34m(\u001b[0m\u001b[0mdriver_command\u001b[0m\u001b[0;34m,\u001b[0m \u001b[0mparams\u001b[0m\u001b[0;34m)\u001b[0m\u001b[0;34m\u001b[0m\u001b[0m\n\u001b[1;32m    172\u001b[0m         \u001b[0;32mif\u001b[0m \u001b[0mresponse\u001b[0m\u001b[0;34m:\u001b[0m\u001b[0;34m\u001b[0m\u001b[0m\n\u001b[0;32m--> 173\u001b[0;31m             \u001b[0mself\u001b[0m\u001b[0;34m.\u001b[0m\u001b[0merror_handler\u001b[0m\u001b[0;34m.\u001b[0m\u001b[0mcheck_response\u001b[0m\u001b[0;34m(\u001b[0m\u001b[0mresponse\u001b[0m\u001b[0;34m)\u001b[0m\u001b[0;34m\u001b[0m\u001b[0m\n\u001b[0m\u001b[1;32m    174\u001b[0m             response['value'] = self._unwrap_value(\n\u001b[1;32m    175\u001b[0m                 response.get('value', None))\n",
        "\u001b[0;32m/usr/local/lib/python2.7/site-packages/selenium/webdriver/remote/errorhandler.pyc\u001b[0m in \u001b[0;36mcheck_response\u001b[0;34m(self, response)\u001b[0m\n\u001b[1;32m    164\u001b[0m         \u001b[0;32melif\u001b[0m \u001b[0mexception_class\u001b[0m \u001b[0;34m==\u001b[0m \u001b[0mUnexpectedAlertPresentException\u001b[0m \u001b[0;32mand\u001b[0m \u001b[0;34m'alert'\u001b[0m \u001b[0;32min\u001b[0m \u001b[0mvalue\u001b[0m\u001b[0;34m:\u001b[0m\u001b[0;34m\u001b[0m\u001b[0m\n\u001b[1;32m    165\u001b[0m             \u001b[0;32mraise\u001b[0m \u001b[0mexception_class\u001b[0m\u001b[0;34m(\u001b[0m\u001b[0mmessage\u001b[0m\u001b[0;34m,\u001b[0m \u001b[0mscreen\u001b[0m\u001b[0;34m,\u001b[0m \u001b[0mstacktrace\u001b[0m\u001b[0;34m,\u001b[0m \u001b[0mvalue\u001b[0m\u001b[0;34m[\u001b[0m\u001b[0;34m'alert'\u001b[0m\u001b[0;34m]\u001b[0m\u001b[0;34m.\u001b[0m\u001b[0mget\u001b[0m\u001b[0;34m(\u001b[0m\u001b[0;34m'text'\u001b[0m\u001b[0;34m)\u001b[0m\u001b[0;34m)\u001b[0m\u001b[0;34m\u001b[0m\u001b[0m\n\u001b[0;32m--> 166\u001b[0;31m         \u001b[0;32mraise\u001b[0m \u001b[0mexception_class\u001b[0m\u001b[0;34m(\u001b[0m\u001b[0mmessage\u001b[0m\u001b[0;34m,\u001b[0m \u001b[0mscreen\u001b[0m\u001b[0;34m,\u001b[0m \u001b[0mstacktrace\u001b[0m\u001b[0;34m)\u001b[0m\u001b[0;34m\u001b[0m\u001b[0m\n\u001b[0m\u001b[1;32m    167\u001b[0m \u001b[0;34m\u001b[0m\u001b[0m\n\u001b[1;32m    168\u001b[0m     \u001b[0;32mdef\u001b[0m \u001b[0m_value_or_default\u001b[0m\u001b[0;34m(\u001b[0m\u001b[0mself\u001b[0m\u001b[0;34m,\u001b[0m \u001b[0mobj\u001b[0m\u001b[0;34m,\u001b[0m \u001b[0mkey\u001b[0m\u001b[0;34m,\u001b[0m \u001b[0mdefault\u001b[0m\u001b[0;34m)\u001b[0m\u001b[0;34m:\u001b[0m\u001b[0;34m\u001b[0m\u001b[0m\n",
        "\u001b[0;31mWebDriverException\u001b[0m: Message: u'no such session\\n  (Driver info: chromedriver=2.10.267517,platform=Mac OS X 10.9.4 x86_64)' "
       ]
      }
     ],
     "prompt_number": 78
    }
   ],
   "metadata": {}
  }
 ]
}