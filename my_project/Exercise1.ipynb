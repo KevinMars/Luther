{
 "metadata": {
  "name": "",
  "signature": "sha256:a773241d83f5d5e8c565151ec913dad9d07e16a4bd8a20edab469719d646081d"
 },
 "nbformat": 3,
 "nbformat_minor": 0,
 "worksheets": [
  {
   "cells": [
    {
     "cell_type": "code",
     "collapsed": false,
     "input": [
      "import urllib2\n",
      "import re\n",
      "from bs4 import BeautifulSoup\n",
      "page_number = 1 \n",
      "movie_urls = []\n",
      "\n",
      "while page_number < 2:\n",
      "    url = 'http://boxofficemojo.com/alltime/domestic.htm?page=%s&p=.htm' % (page_number)\n",
      "\n",
      "    page = urllib2.urlopen(url)\n",
      "    soup = BeautifulSoup(page)\n",
      "\n",
      "\n",
      "    for incomplete_url in soup.find_all(href=re.compile(\"movies\")):        \n",
      "        if \"movies/?id\" in incomplete_url['href']:\n",
      "            incomplete_url = str(incomplete_url['href'])\n",
      "            base_url = 'http://boxofficemojo.com'\n",
      "            movie_urls.append(base_url+incomplete_url)\n",
      "        elif \"/movies/?page=releas\" in incomplete_url['href']:\n",
      "            incomplete_url_replace = str(incomplete_url['href'])\n",
      "            incomplete_url_replace = incomplete_url_replace.replace('page=releases&','')\n",
      "            base_url = 'http://boxofficemojo.com'\n",
      "            movie_urls.append(base_url+incomplete_url_replace)\n",
      "    page_number += 1\n",
      "len (movie_urls)\n"
     ],
     "language": "python",
     "metadata": {},
     "outputs": [
      {
       "metadata": {},
       "output_type": "pyout",
       "prompt_number": 68,
       "text": [
        "101"
       ]
      }
     ],
     "prompt_number": 68
    },
    {
     "cell_type": "code",
     "collapsed": false,
     "input": [
      "import sys\n",
      "sys.path.append('../movies/')\n",
      "\n",
      "#import the module\n",
      "import bomojo\n",
      "bmj = bomojo.BOMojoScraper()\n",
      "\n",
      "\n",
      "movie = []\n",
      "for x in movie_urls:\n",
      "    try:\n",
      "        movie.append(bmj.parse_full_mojo_page(x))      \n",
      "    except:\n",
      "        print x\n",
      "        pass\n",
      "        \n"
     ],
     "language": "python",
     "metadata": {},
     "outputs": [
      {
       "output_type": "stream",
       "stream": "stdout",
       "text": [
        "http://boxofficemojo.com/movies/?id=marvel2014a.htm\n",
        "http://boxofficemojo.com/movies/?id=marvel2014a.htm"
       ]
      },
      {
       "output_type": "stream",
       "stream": "stdout",
       "text": [
        "\n",
        "http://boxofficemojo.com/movies/?id=transformers4.htm"
       ]
      },
      {
       "output_type": "stream",
       "stream": "stdout",
       "text": [
        "\n",
        "http://boxofficemojo.com/movies/?id=maleficient.htm"
       ]
      },
      {
       "output_type": "stream",
       "stream": "stdout",
       "text": [
        "\n"
       ]
      }
     ],
     "prompt_number": 70
    },
    {
     "cell_type": "code",
     "collapsed": false,
     "input": [
      "first_movie_dict = movie[0]\n",
      "movie_keys = first_movie_dict.keys()"
     ],
     "language": "python",
     "metadata": {},
     "outputs": [],
     "prompt_number": 65
    },
    {
     "cell_type": "code",
     "collapsed": false,
     "input": [
      "import csv\n",
      "\n",
      "open_file = open('movies_with_budget2.csv','wb')\n",
      "w = csv.DictWriter(open_file,movie_keys)\n",
      "w.writer.writerow(movie_keys)\n",
      "w.writerows(movie)\n",
      "f.close()"
     ],
     "language": "python",
     "metadata": {},
     "outputs": [],
     "prompt_number": 41
    }
   ],
   "metadata": {}
  }
 ]
}